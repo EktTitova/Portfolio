{
  "cells": [
    {
      "cell_type": "markdown",
      "metadata": {
        "id": "UFDDHJosniyw"
      },
      "source": [
        "# Улучшение процесса обогащения золота\n"
      ]
    },
    {
      "cell_type": "markdown",
      "metadata": {
        "id": "eDG6WnAbniyz"
      },
      "source": [
        "Заказчиком является инжиниринговая компания, которая разрабатывает решения для эффективной работы промышленных предприятий.\n",
        "\n",
        "Требуется подготовить прототип модели машинного обучения, которая должна предсказать коэффициент восстановления золота из золотосодержащей руды. Модель поможет оптимизировать производство, чтобы не запускать предприятие с убыточными характеристиками"
      ]
    },
    {
      "cell_type": "markdown",
      "source": [
        "## Данные\n",
        "\n",
        "В нашем распоряжении имеются данные с параметрами добычи и очистки.\n",
        "\n",
        "*Данные находятся в трёх файлах:*\n",
        "- gold_recovery_train.csv — обучающая выборка;\n",
        "- gold_recovery_test.csv — тестовая выборка;\n",
        "- gold_recovery_full.csv — исходные данные.\n",
        "\n",
        "Данные индексируются датой и временем получения информации (признак date).\n",
        "Соседние по времени параметры часто похожи. Некоторые параметры недоступны, потому что замеряются и/или рассчитываются значительно позже. Из-за этого в тестовой выборке отсутствуют некоторые признаки, которые могут быть в обучающей. Также в тестовом наборе нет целевых признаков.\n",
        "Исходный датасет содержит обучающую и тестовую выборки со всеми признаками.\n",
        "\n",
        "Данные в нашем распоряжении являются сырыми: их просто выгрузили из хранилища. Прежде чем приступить к построению модели, требуется проверить их на корректность согласно согласованной с заказчиком инструкции.\n",
        "\n",
        "**Наименование признаков**\n",
        "\n",
        "Наименование признаков строится по следующему правилу:\n",
        "\n",
        "[этап].[тип_параметра].[название_параметра]\n",
        "\n",
        "\n",
        "Пример: rougher.input.feed_ag\n",
        "\n",
        "*Возможные значения для блока* [этап]:\n",
        "\n",
        "- rougher — флотация\n",
        "- primary_cleaner — первичная очистка\n",
        "- secondary_cleaner — вторичная очистка\n",
        "- final — финальные характеристики\n",
        "\n",
        "\n",
        "Возможные значения для блока [тип_параметра]:\n",
        "\n",
        "- input — параметры сырья\n",
        "- output — параметры продукта\n",
        "- state — параметры, характеризующие текущее состояние этапа\n",
        "- calculation — расчётные характеристики"
      ],
      "metadata": {
        "id": "MpaMneszoFUC"
      }
    },
    {
      "cell_type": "markdown",
      "source": [
        "**План работы**\n",
        "\n",
        "Подготовка данных\n",
        "\n",
        "1. Открыть и изучить файлы.\n",
        "2. Провести предобработку данных. Убрать или заменить пропуски, привести данные к нужным типам.\n",
        "3. Проверить, что эффективность обогащения рассчитана правильно. Вычислить её на обучающей выборке для признака rougher.output.recovery. Найти MAE между расчитанным и имеющимся значением признака. Описать выводы.\n",
        "4. Проанализировать признаки, недоступные в тестовой выборке. Что это за параметры? К какому типу относятся?\n",
        "\n",
        "Проанализировать данные\n",
        "\n",
        "1. Изучить, как меняется концентрация металлов (Au, Ag, Pb) на различных этапах очистки. Описать выводы.\n",
        "2. Сравнить распределения размеров гранул сырья на обучающей и тестовой выборках. Если распределения сильно отличаются друг от друга, оценка модели будет неправильной.\n",
        "3. Исследовать суммарную концентрацию всех веществ на разных стадиях: в сырье, в черновом и финальном концентратах. Проверить, есть ли аномальные значения в суммарном распределении. Определить, если они есть, следует ли их удалять из обеих выборок? Описать выводы и удалить аномалии в соответствии с принятыми правилами, если найдутся.\n",
        "\n",
        "Построить модель\n",
        "\n",
        "1. Написать функцию для вычисления итоговой sMAPE.\n",
        "2. Обучить разные модели и оценить их качество кросс-валидацией.\n",
        "3. Выбрать лучшую модель и проверить её на тестовой выборке.\n",
        "4. Описать выводы.\n"
      ],
      "metadata": {
        "id": "jZmkeQnOqSFI"
      }
    },
    {
      "cell_type": "markdown",
      "metadata": {
        "id": "jZ0EQo5Dniy1"
      },
      "source": [
        "## Подготовка данных"
      ]
    },
    {
      "cell_type": "code",
      "execution_count": null,
      "metadata": {
        "id": "tckZ2xoQniy3"
      },
      "outputs": [],
      "source": [
        "import pandas as pd\n",
        "import numpy as np\n",
        "import seaborn as sns\n",
        "\n",
        "from sklearn.model_selection import (train_test_split, GridSearchCV, cross_val_score)\n",
        "from sklearn.linear_model import (LinearRegression, LogisticRegression)\n",
        "from sklearn.tree import DecisionTreeRegressor\n",
        "from sklearn.ensemble import RandomForestRegressor\n",
        "from sklearn.dummy import DummyRegressor\n",
        "from sklearn.preprocessing import StandardScaler\n",
        "import matplotlib.pyplot as plt\n",
        "from math import sqrt\n",
        "from sklearn.metrics import (\n",
        "    mean_absolute_error as mae,\n",
        "    accuracy_score,\n",
        "    make_scorer\n",
        ")\n",
        "import warnings"
      ]
    },
    {
      "cell_type": "code",
      "execution_count": null,
      "metadata": {
        "id": "EwcvZQBPniy9"
      },
      "outputs": [],
      "source": [
        "train_df = pd.read_csv('/datasets/gold_industry_train.csv')\n",
        "test_df = pd.read_csv('/datasets/gold_industry_test.csv')\n",
        "full_df = pd.read_csv('/datasets/gold_industry_full.csv')"
      ]
    },
    {
      "cell_type": "code",
      "execution_count": null,
      "metadata": {
        "scrolled": true,
        "id": "zScu0nOBnizA",
        "outputId": "9190b502-80d4-48c1-ab7d-f6ddfff73030"
      },
      "outputs": [
        {
          "name": "stdout",
          "output_type": "stream",
          "text": [
            "<class 'pandas.core.frame.DataFrame'>\n",
            "RangeIndex: 14579 entries, 0 to 14578\n",
            "Data columns (total 87 columns):\n",
            " #   Column                                              Non-Null Count  Dtype  \n",
            "---  ------                                              --------------  -----  \n",
            " 0   date                                                14579 non-null  object \n",
            " 1   rougher.input.feed_au                               14579 non-null  float64\n",
            " 2   rougher.input.feed_ag                               14579 non-null  float64\n",
            " 3   rougher.input.feed_pb                               14507 non-null  float64\n",
            " 4   rougher.input.feed_sol                              14502 non-null  float64\n",
            " 5   rougher.input.feed_rate                             14572 non-null  float64\n",
            " 6   rougher.input.feed_size                             14478 non-null  float64\n",
            " 7   rougher.input.floatbank10_sulfate                   14548 non-null  float64\n",
            " 8   rougher.input.floatbank10_xanthate                  14572 non-null  float64\n",
            " 9   rougher.state.floatbank10_a_air                     14579 non-null  float64\n",
            " 10  rougher.state.floatbank10_a_level                   14579 non-null  float64\n",
            " 11  rougher.state.floatbank10_b_air                     14579 non-null  float64\n",
            " 12  rougher.state.floatbank10_b_level                   14579 non-null  float64\n",
            " 13  rougher.state.floatbank10_c_air                     14579 non-null  float64\n",
            " 14  rougher.state.floatbank10_c_level                   14579 non-null  float64\n",
            " 15  rougher.state.floatbank10_d_air                     14579 non-null  float64\n",
            " 16  rougher.state.floatbank10_d_level                   14579 non-null  float64\n",
            " 17  rougher.state.floatbank10_e_air                     14150 non-null  float64\n",
            " 18  rougher.state.floatbank10_e_level                   14579 non-null  float64\n",
            " 19  rougher.state.floatbank10_f_air                     14579 non-null  float64\n",
            " 20  rougher.state.floatbank10_f_level                   14579 non-null  float64\n",
            " 21  rougher.input.floatbank11_sulfate                   14543 non-null  float64\n",
            " 22  rougher.input.floatbank11_xanthate                  14172 non-null  float64\n",
            " 23  rougher.calculation.sulfate_to_au_concentrate       14578 non-null  float64\n",
            " 24  rougher.calculation.floatbank10_sulfate_to_au_feed  14578 non-null  float64\n",
            " 25  rougher.calculation.floatbank11_sulfate_to_au_feed  14578 non-null  float64\n",
            " 26  rougher.calculation.au_pb_ratio                     14579 non-null  float64\n",
            " 27  rougher.output.concentrate_au                       14579 non-null  float64\n",
            " 28  rougher.output.concentrate_ag                       14579 non-null  float64\n",
            " 29  rougher.output.concentrate_pb                       14579 non-null  float64\n",
            " 30  rougher.output.concentrate_sol                      14561 non-null  float64\n",
            " 31  rougher.output.recovery                             14579 non-null  float64\n",
            " 32  rougher.output.tail_au                              14579 non-null  float64\n",
            " 33  rougher.output.tail_ag                              14578 non-null  float64\n",
            " 34  rougher.output.tail_pb                              14579 non-null  float64\n",
            " 35  rougher.output.tail_sol                             14579 non-null  float64\n",
            " 36  primary_cleaner.input.sulfate                       14556 non-null  float64\n",
            " 37  primary_cleaner.input.depressant                    14551 non-null  float64\n",
            " 38  primary_cleaner.input.feed_size                     14579 non-null  float64\n",
            " 39  primary_cleaner.input.xanthate                      14518 non-null  float64\n",
            " 40  primary_cleaner.state.floatbank8_a_air              14576 non-null  float64\n",
            " 41  primary_cleaner.state.floatbank8_a_level            14579 non-null  float64\n",
            " 42  primary_cleaner.state.floatbank8_b_air              14576 non-null  float64\n",
            " 43  primary_cleaner.state.floatbank8_b_level            14579 non-null  float64\n",
            " 44  primary_cleaner.state.floatbank8_c_air              14579 non-null  float64\n",
            " 45  primary_cleaner.state.floatbank8_c_level            14579 non-null  float64\n",
            " 46  primary_cleaner.state.floatbank8_d_air              14578 non-null  float64\n",
            " 47  primary_cleaner.state.floatbank8_d_level            14579 non-null  float64\n",
            " 48  primary_cleaner.output.concentrate_au               14579 non-null  float64\n",
            " 49  primary_cleaner.output.concentrate_ag               14579 non-null  float64\n",
            " 50  primary_cleaner.output.concentrate_pb               14491 non-null  float64\n",
            " 51  primary_cleaner.output.concentrate_sol              14314 non-null  float64\n",
            " 52  primary_cleaner.output.tail_au                      14579 non-null  float64\n",
            " 53  primary_cleaner.output.tail_ag                      14575 non-null  float64\n",
            " 54  primary_cleaner.output.tail_pb                      14573 non-null  float64\n",
            " 55  primary_cleaner.output.tail_sol                     14534 non-null  float64\n",
            " 56  secondary_cleaner.state.floatbank2_a_air            14485 non-null  float64\n",
            " 57  secondary_cleaner.state.floatbank2_a_level          14579 non-null  float64\n",
            " 58  secondary_cleaner.state.floatbank2_b_air            14557 non-null  float64\n",
            " 59  secondary_cleaner.state.floatbank2_b_level          14579 non-null  float64\n",
            " 60  secondary_cleaner.state.floatbank3_a_air            14567 non-null  float64\n",
            " 61  secondary_cleaner.state.floatbank3_a_level          14579 non-null  float64\n",
            " 62  secondary_cleaner.state.floatbank3_b_air            14579 non-null  float64\n",
            " 63  secondary_cleaner.state.floatbank3_b_level          14579 non-null  float64\n",
            " 64  secondary_cleaner.state.floatbank4_a_air            14574 non-null  float64\n",
            " 65  secondary_cleaner.state.floatbank4_a_level          14579 non-null  float64\n",
            " 66  secondary_cleaner.state.floatbank4_b_air            14579 non-null  float64\n",
            " 67  secondary_cleaner.state.floatbank4_b_level          14579 non-null  float64\n",
            " 68  secondary_cleaner.state.floatbank5_a_air            14579 non-null  float64\n",
            " 69  secondary_cleaner.state.floatbank5_a_level          14579 non-null  float64\n",
            " 70  secondary_cleaner.state.floatbank5_b_air            14579 non-null  float64\n",
            " 71  secondary_cleaner.state.floatbank5_b_level          14579 non-null  float64\n",
            " 72  secondary_cleaner.state.floatbank6_a_air            14578 non-null  float64\n",
            " 73  secondary_cleaner.state.floatbank6_a_level          14579 non-null  float64\n",
            " 74  secondary_cleaner.output.tail_au                    14579 non-null  float64\n",
            " 75  secondary_cleaner.output.tail_ag                    14578 non-null  float64\n",
            " 76  secondary_cleaner.output.tail_pb                    14575 non-null  float64\n",
            " 77  secondary_cleaner.output.tail_sol                   13659 non-null  float64\n",
            " 78  final.output.concentrate_au                         14579 non-null  float64\n",
            " 79  final.output.concentrate_ag                         14578 non-null  float64\n",
            " 80  final.output.concentrate_pb                         14578 non-null  float64\n",
            " 81  final.output.concentrate_sol                        14387 non-null  float64\n",
            " 82  final.output.recovery                               14579 non-null  float64\n",
            " 83  final.output.tail_au                                14579 non-null  float64\n",
            " 84  final.output.tail_ag                                14578 non-null  float64\n",
            " 85  final.output.tail_pb                                14504 non-null  float64\n",
            " 86  final.output.tail_sol                               14574 non-null  float64\n",
            "dtypes: float64(86), object(1)\n",
            "memory usage: 9.7+ MB\n"
          ]
        }
      ],
      "source": [
        "train_df.info()"
      ]
    },
    {
      "cell_type": "code",
      "execution_count": null,
      "metadata": {
        "scrolled": true,
        "id": "LchPcB3MnizF",
        "outputId": "7ffe8252-f9f7-4482-b91e-da7a8fce53c1"
      },
      "outputs": [
        {
          "data": {
            "text/html": [
              "<div>\n",
              "<style scoped>\n",
              "    .dataframe tbody tr th:only-of-type {\n",
              "        vertical-align: middle;\n",
              "    }\n",
              "\n",
              "    .dataframe tbody tr th {\n",
              "        vertical-align: top;\n",
              "    }\n",
              "\n",
              "    .dataframe thead th {\n",
              "        text-align: right;\n",
              "    }\n",
              "</style>\n",
              "<table border=\"1\" class=\"dataframe\">\n",
              "  <thead>\n",
              "    <tr style=\"text-align: right;\">\n",
              "      <th></th>\n",
              "      <th>date</th>\n",
              "      <th>rougher.input.feed_au</th>\n",
              "      <th>rougher.input.feed_ag</th>\n",
              "      <th>rougher.input.feed_pb</th>\n",
              "      <th>rougher.input.feed_sol</th>\n",
              "      <th>rougher.input.feed_rate</th>\n",
              "      <th>rougher.input.feed_size</th>\n",
              "      <th>rougher.input.floatbank10_sulfate</th>\n",
              "      <th>rougher.input.floatbank10_xanthate</th>\n",
              "      <th>rougher.state.floatbank10_a_air</th>\n",
              "      <th>...</th>\n",
              "      <th>secondary_cleaner.output.tail_sol</th>\n",
              "      <th>final.output.concentrate_au</th>\n",
              "      <th>final.output.concentrate_ag</th>\n",
              "      <th>final.output.concentrate_pb</th>\n",
              "      <th>final.output.concentrate_sol</th>\n",
              "      <th>final.output.recovery</th>\n",
              "      <th>final.output.tail_au</th>\n",
              "      <th>final.output.tail_ag</th>\n",
              "      <th>final.output.tail_pb</th>\n",
              "      <th>final.output.tail_sol</th>\n",
              "    </tr>\n",
              "  </thead>\n",
              "  <tbody>\n",
              "    <tr>\n",
              "      <th>count</th>\n",
              "      <td>14579</td>\n",
              "      <td>14579.000000</td>\n",
              "      <td>14579.000000</td>\n",
              "      <td>14507.000000</td>\n",
              "      <td>14502.000000</td>\n",
              "      <td>14572.000000</td>\n",
              "      <td>14478.000000</td>\n",
              "      <td>14548.000000</td>\n",
              "      <td>14572.000000</td>\n",
              "      <td>14579.000000</td>\n",
              "      <td>...</td>\n",
              "      <td>13659.000000</td>\n",
              "      <td>14579.000000</td>\n",
              "      <td>14578.000000</td>\n",
              "      <td>14578.000000</td>\n",
              "      <td>14387.000000</td>\n",
              "      <td>14579.000000</td>\n",
              "      <td>14579.000000</td>\n",
              "      <td>14578.000000</td>\n",
              "      <td>14504.000000</td>\n",
              "      <td>14574.000000</td>\n",
              "    </tr>\n",
              "    <tr>\n",
              "      <th>unique</th>\n",
              "      <td>14579</td>\n",
              "      <td>NaN</td>\n",
              "      <td>NaN</td>\n",
              "      <td>NaN</td>\n",
              "      <td>NaN</td>\n",
              "      <td>NaN</td>\n",
              "      <td>NaN</td>\n",
              "      <td>NaN</td>\n",
              "      <td>NaN</td>\n",
              "      <td>NaN</td>\n",
              "      <td>...</td>\n",
              "      <td>NaN</td>\n",
              "      <td>NaN</td>\n",
              "      <td>NaN</td>\n",
              "      <td>NaN</td>\n",
              "      <td>NaN</td>\n",
              "      <td>NaN</td>\n",
              "      <td>NaN</td>\n",
              "      <td>NaN</td>\n",
              "      <td>NaN</td>\n",
              "      <td>NaN</td>\n",
              "    </tr>\n",
              "    <tr>\n",
              "      <th>top</th>\n",
              "      <td>2017-09-13 06:59:59</td>\n",
              "      <td>NaN</td>\n",
              "      <td>NaN</td>\n",
              "      <td>NaN</td>\n",
              "      <td>NaN</td>\n",
              "      <td>NaN</td>\n",
              "      <td>NaN</td>\n",
              "      <td>NaN</td>\n",
              "      <td>NaN</td>\n",
              "      <td>NaN</td>\n",
              "      <td>...</td>\n",
              "      <td>NaN</td>\n",
              "      <td>NaN</td>\n",
              "      <td>NaN</td>\n",
              "      <td>NaN</td>\n",
              "      <td>NaN</td>\n",
              "      <td>NaN</td>\n",
              "      <td>NaN</td>\n",
              "      <td>NaN</td>\n",
              "      <td>NaN</td>\n",
              "      <td>NaN</td>\n",
              "    </tr>\n",
              "    <tr>\n",
              "      <th>freq</th>\n",
              "      <td>1</td>\n",
              "      <td>NaN</td>\n",
              "      <td>NaN</td>\n",
              "      <td>NaN</td>\n",
              "      <td>NaN</td>\n",
              "      <td>NaN</td>\n",
              "      <td>NaN</td>\n",
              "      <td>NaN</td>\n",
              "      <td>NaN</td>\n",
              "      <td>NaN</td>\n",
              "      <td>...</td>\n",
              "      <td>NaN</td>\n",
              "      <td>NaN</td>\n",
              "      <td>NaN</td>\n",
              "      <td>NaN</td>\n",
              "      <td>NaN</td>\n",
              "      <td>NaN</td>\n",
              "      <td>NaN</td>\n",
              "      <td>NaN</td>\n",
              "      <td>NaN</td>\n",
              "      <td>NaN</td>\n",
              "    </tr>\n",
              "    <tr>\n",
              "      <th>mean</th>\n",
              "      <td>NaN</td>\n",
              "      <td>8.352941</td>\n",
              "      <td>8.877460</td>\n",
              "      <td>3.604221</td>\n",
              "      <td>36.561420</td>\n",
              "      <td>474.332784</td>\n",
              "      <td>58.922712</td>\n",
              "      <td>12.427399</td>\n",
              "      <td>5.994854</td>\n",
              "      <td>1104.208278</td>\n",
              "      <td>...</td>\n",
              "      <td>7.111347</td>\n",
              "      <td>43.979499</td>\n",
              "      <td>5.192145</td>\n",
              "      <td>9.923809</td>\n",
              "      <td>9.566676</td>\n",
              "      <td>66.759066</td>\n",
              "      <td>3.087939</td>\n",
              "      <td>9.731972</td>\n",
              "      <td>2.719985</td>\n",
              "      <td>10.612745</td>\n",
              "    </tr>\n",
              "    <tr>\n",
              "      <th>std</th>\n",
              "      <td>NaN</td>\n",
              "      <td>1.934376</td>\n",
              "      <td>1.922536</td>\n",
              "      <td>1.056063</td>\n",
              "      <td>5.209823</td>\n",
              "      <td>108.503552</td>\n",
              "      <td>22.407410</td>\n",
              "      <td>3.428939</td>\n",
              "      <td>1.152873</td>\n",
              "      <td>162.235606</td>\n",
              "      <td>...</td>\n",
              "      <td>3.909951</td>\n",
              "      <td>5.471437</td>\n",
              "      <td>1.388014</td>\n",
              "      <td>1.706976</td>\n",
              "      <td>2.805654</td>\n",
              "      <td>10.619709</td>\n",
              "      <td>0.915187</td>\n",
              "      <td>2.358143</td>\n",
              "      <td>0.958929</td>\n",
              "      <td>2.871075</td>\n",
              "    </tr>\n",
              "    <tr>\n",
              "      <th>min</th>\n",
              "      <td>NaN</td>\n",
              "      <td>0.010000</td>\n",
              "      <td>0.010000</td>\n",
              "      <td>0.010000</td>\n",
              "      <td>0.010000</td>\n",
              "      <td>0.002986</td>\n",
              "      <td>0.049194</td>\n",
              "      <td>0.001083</td>\n",
              "      <td>0.000568</td>\n",
              "      <td>-0.042069</td>\n",
              "      <td>...</td>\n",
              "      <td>0.000000</td>\n",
              "      <td>0.000000</td>\n",
              "      <td>0.000000</td>\n",
              "      <td>0.000000</td>\n",
              "      <td>0.000000</td>\n",
              "      <td>0.000000</td>\n",
              "      <td>0.000000</td>\n",
              "      <td>0.000000</td>\n",
              "      <td>0.000000</td>\n",
              "      <td>0.000000</td>\n",
              "    </tr>\n",
              "    <tr>\n",
              "      <th>25%</th>\n",
              "      <td>NaN</td>\n",
              "      <td>6.932996</td>\n",
              "      <td>7.341922</td>\n",
              "      <td>2.880490</td>\n",
              "      <td>34.093951</td>\n",
              "      <td>411.048483</td>\n",
              "      <td>47.278490</td>\n",
              "      <td>10.002832</td>\n",
              "      <td>5.304167</td>\n",
              "      <td>999.644856</td>\n",
              "      <td>...</td>\n",
              "      <td>3.784897</td>\n",
              "      <td>43.345906</td>\n",
              "      <td>4.283347</td>\n",
              "      <td>9.103183</td>\n",
              "      <td>7.860030</td>\n",
              "      <td>63.114596</td>\n",
              "      <td>2.505287</td>\n",
              "      <td>8.088928</td>\n",
              "      <td>2.036512</td>\n",
              "      <td>9.013412</td>\n",
              "    </tr>\n",
              "    <tr>\n",
              "      <th>50%</th>\n",
              "      <td>NaN</td>\n",
              "      <td>8.225284</td>\n",
              "      <td>8.715859</td>\n",
              "      <td>3.532399</td>\n",
              "      <td>37.097511</td>\n",
              "      <td>498.187968</td>\n",
              "      <td>54.361187</td>\n",
              "      <td>12.003320</td>\n",
              "      <td>6.003053</td>\n",
              "      <td>1000.982624</td>\n",
              "      <td>...</td>\n",
              "      <td>7.629968</td>\n",
              "      <td>44.975014</td>\n",
              "      <td>5.118647</td>\n",
              "      <td>10.046455</td>\n",
              "      <td>9.301970</td>\n",
              "      <td>67.962788</td>\n",
              "      <td>3.029238</td>\n",
              "      <td>9.818512</td>\n",
              "      <td>2.774847</td>\n",
              "      <td>10.670515</td>\n",
              "    </tr>\n",
              "    <tr>\n",
              "      <th>75%</th>\n",
              "      <td>NaN</td>\n",
              "      <td>9.832210</td>\n",
              "      <td>10.255843</td>\n",
              "      <td>4.257282</td>\n",
              "      <td>39.899799</td>\n",
              "      <td>549.586552</td>\n",
              "      <td>64.464926</td>\n",
              "      <td>14.929903</td>\n",
              "      <td>6.796632</td>\n",
              "      <td>1292.663971</td>\n",
              "      <td>...</td>\n",
              "      <td>10.367050</td>\n",
              "      <td>46.275153</td>\n",
              "      <td>5.925380</td>\n",
              "      <td>10.981203</td>\n",
              "      <td>11.001573</td>\n",
              "      <td>72.598187</td>\n",
              "      <td>3.614098</td>\n",
              "      <td>11.169187</td>\n",
              "      <td>3.353845</td>\n",
              "      <td>12.130827</td>\n",
              "    </tr>\n",
              "    <tr>\n",
              "      <th>max</th>\n",
              "      <td>NaN</td>\n",
              "      <td>13.731330</td>\n",
              "      <td>14.596026</td>\n",
              "      <td>7.052325</td>\n",
              "      <td>53.475325</td>\n",
              "      <td>717.508837</td>\n",
              "      <td>484.967466</td>\n",
              "      <td>36.118275</td>\n",
              "      <td>9.703448</td>\n",
              "      <td>1512.299531</td>\n",
              "      <td>...</td>\n",
              "      <td>26.000772</td>\n",
              "      <td>52.756638</td>\n",
              "      <td>16.001945</td>\n",
              "      <td>16.705297</td>\n",
              "      <td>19.423912</td>\n",
              "      <td>100.000000</td>\n",
              "      <td>8.245022</td>\n",
              "      <td>19.552149</td>\n",
              "      <td>5.804178</td>\n",
              "      <td>22.317730</td>\n",
              "    </tr>\n",
              "  </tbody>\n",
              "</table>\n",
              "<p>11 rows × 87 columns</p>\n",
              "</div>"
            ],
            "text/plain": [
              "                       date  rougher.input.feed_au  rougher.input.feed_ag  \\\n",
              "count                 14579           14579.000000           14579.000000   \n",
              "unique                14579                    NaN                    NaN   \n",
              "top     2017-09-13 06:59:59                    NaN                    NaN   \n",
              "freq                      1                    NaN                    NaN   \n",
              "mean                    NaN               8.352941               8.877460   \n",
              "std                     NaN               1.934376               1.922536   \n",
              "min                     NaN               0.010000               0.010000   \n",
              "25%                     NaN               6.932996               7.341922   \n",
              "50%                     NaN               8.225284               8.715859   \n",
              "75%                     NaN               9.832210              10.255843   \n",
              "max                     NaN              13.731330              14.596026   \n",
              "\n",
              "        rougher.input.feed_pb  rougher.input.feed_sol  \\\n",
              "count            14507.000000            14502.000000   \n",
              "unique                    NaN                     NaN   \n",
              "top                       NaN                     NaN   \n",
              "freq                      NaN                     NaN   \n",
              "mean                 3.604221               36.561420   \n",
              "std                  1.056063                5.209823   \n",
              "min                  0.010000                0.010000   \n",
              "25%                  2.880490               34.093951   \n",
              "50%                  3.532399               37.097511   \n",
              "75%                  4.257282               39.899799   \n",
              "max                  7.052325               53.475325   \n",
              "\n",
              "        rougher.input.feed_rate  rougher.input.feed_size  \\\n",
              "count              14572.000000             14478.000000   \n",
              "unique                      NaN                      NaN   \n",
              "top                         NaN                      NaN   \n",
              "freq                        NaN                      NaN   \n",
              "mean                 474.332784                58.922712   \n",
              "std                  108.503552                22.407410   \n",
              "min                    0.002986                 0.049194   \n",
              "25%                  411.048483                47.278490   \n",
              "50%                  498.187968                54.361187   \n",
              "75%                  549.586552                64.464926   \n",
              "max                  717.508837               484.967466   \n",
              "\n",
              "        rougher.input.floatbank10_sulfate  rougher.input.floatbank10_xanthate  \\\n",
              "count                        14548.000000                        14572.000000   \n",
              "unique                                NaN                                 NaN   \n",
              "top                                   NaN                                 NaN   \n",
              "freq                                  NaN                                 NaN   \n",
              "mean                            12.427399                            5.994854   \n",
              "std                              3.428939                            1.152873   \n",
              "min                              0.001083                            0.000568   \n",
              "25%                             10.002832                            5.304167   \n",
              "50%                             12.003320                            6.003053   \n",
              "75%                             14.929903                            6.796632   \n",
              "max                             36.118275                            9.703448   \n",
              "\n",
              "        rougher.state.floatbank10_a_air  ...  \\\n",
              "count                      14579.000000  ...   \n",
              "unique                              NaN  ...   \n",
              "top                                 NaN  ...   \n",
              "freq                                NaN  ...   \n",
              "mean                        1104.208278  ...   \n",
              "std                          162.235606  ...   \n",
              "min                           -0.042069  ...   \n",
              "25%                          999.644856  ...   \n",
              "50%                         1000.982624  ...   \n",
              "75%                         1292.663971  ...   \n",
              "max                         1512.299531  ...   \n",
              "\n",
              "        secondary_cleaner.output.tail_sol  final.output.concentrate_au  \\\n",
              "count                        13659.000000                 14579.000000   \n",
              "unique                                NaN                          NaN   \n",
              "top                                   NaN                          NaN   \n",
              "freq                                  NaN                          NaN   \n",
              "mean                             7.111347                    43.979499   \n",
              "std                              3.909951                     5.471437   \n",
              "min                              0.000000                     0.000000   \n",
              "25%                              3.784897                    43.345906   \n",
              "50%                              7.629968                    44.975014   \n",
              "75%                             10.367050                    46.275153   \n",
              "max                             26.000772                    52.756638   \n",
              "\n",
              "        final.output.concentrate_ag  final.output.concentrate_pb  \\\n",
              "count                  14578.000000                 14578.000000   \n",
              "unique                          NaN                          NaN   \n",
              "top                             NaN                          NaN   \n",
              "freq                            NaN                          NaN   \n",
              "mean                       5.192145                     9.923809   \n",
              "std                        1.388014                     1.706976   \n",
              "min                        0.000000                     0.000000   \n",
              "25%                        4.283347                     9.103183   \n",
              "50%                        5.118647                    10.046455   \n",
              "75%                        5.925380                    10.981203   \n",
              "max                       16.001945                    16.705297   \n",
              "\n",
              "        final.output.concentrate_sol  final.output.recovery  \\\n",
              "count                   14387.000000           14579.000000   \n",
              "unique                           NaN                    NaN   \n",
              "top                              NaN                    NaN   \n",
              "freq                             NaN                    NaN   \n",
              "mean                        9.566676              66.759066   \n",
              "std                         2.805654              10.619709   \n",
              "min                         0.000000               0.000000   \n",
              "25%                         7.860030              63.114596   \n",
              "50%                         9.301970              67.962788   \n",
              "75%                        11.001573              72.598187   \n",
              "max                        19.423912             100.000000   \n",
              "\n",
              "        final.output.tail_au  final.output.tail_ag  final.output.tail_pb  \\\n",
              "count           14579.000000          14578.000000          14504.000000   \n",
              "unique                   NaN                   NaN                   NaN   \n",
              "top                      NaN                   NaN                   NaN   \n",
              "freq                     NaN                   NaN                   NaN   \n",
              "mean                3.087939              9.731972              2.719985   \n",
              "std                 0.915187              2.358143              0.958929   \n",
              "min                 0.000000              0.000000              0.000000   \n",
              "25%                 2.505287              8.088928              2.036512   \n",
              "50%                 3.029238              9.818512              2.774847   \n",
              "75%                 3.614098             11.169187              3.353845   \n",
              "max                 8.245022             19.552149              5.804178   \n",
              "\n",
              "        final.output.tail_sol  \n",
              "count            14574.000000  \n",
              "unique                    NaN  \n",
              "top                       NaN  \n",
              "freq                      NaN  \n",
              "mean                10.612745  \n",
              "std                  2.871075  \n",
              "min                  0.000000  \n",
              "25%                  9.013412  \n",
              "50%                 10.670515  \n",
              "75%                 12.130827  \n",
              "max                 22.317730  \n",
              "\n",
              "[11 rows x 87 columns]"
            ]
          },
          "execution_count": 4,
          "metadata": {},
          "output_type": "execute_result"
        }
      ],
      "source": [
        "train_df.describe(include = 'all')"
      ]
    },
    {
      "cell_type": "code",
      "execution_count": null,
      "metadata": {
        "scrolled": true,
        "id": "QZo17nphnizH",
        "outputId": "05f8d783-5d4c-4b3d-ef44-1e22c5a7511e"
      },
      "outputs": [
        {
          "data": {
            "text/plain": [
              "date                       0\n",
              "rougher.input.feed_au      0\n",
              "rougher.input.feed_ag      0\n",
              "rougher.input.feed_pb     72\n",
              "rougher.input.feed_sol    77\n",
              "                          ..\n",
              "final.output.recovery      0\n",
              "final.output.tail_au       0\n",
              "final.output.tail_ag       1\n",
              "final.output.tail_pb      75\n",
              "final.output.tail_sol      5\n",
              "Length: 87, dtype: int64"
            ]
          },
          "execution_count": 5,
          "metadata": {},
          "output_type": "execute_result"
        }
      ],
      "source": [
        "train_df.isna().sum()"
      ]
    },
    {
      "cell_type": "code",
      "execution_count": null,
      "metadata": {
        "id": "0gGk5ahUnizJ",
        "outputId": "68d35ca8-bb19-4b71-dafa-a6acdf46921d"
      },
      "outputs": [
        {
          "data": {
            "text/html": [
              "<div>\n",
              "<style scoped>\n",
              "    .dataframe tbody tr th:only-of-type {\n",
              "        vertical-align: middle;\n",
              "    }\n",
              "\n",
              "    .dataframe tbody tr th {\n",
              "        vertical-align: top;\n",
              "    }\n",
              "\n",
              "    .dataframe thead th {\n",
              "        text-align: right;\n",
              "    }\n",
              "</style>\n",
              "<table border=\"1\" class=\"dataframe\">\n",
              "  <thead>\n",
              "    <tr style=\"text-align: right;\">\n",
              "      <th></th>\n",
              "      <th>date</th>\n",
              "      <th>rougher.input.feed_au</th>\n",
              "      <th>rougher.input.feed_ag</th>\n",
              "      <th>rougher.input.feed_pb</th>\n",
              "      <th>rougher.input.feed_sol</th>\n",
              "      <th>rougher.input.feed_rate</th>\n",
              "      <th>rougher.input.feed_size</th>\n",
              "      <th>rougher.input.floatbank10_sulfate</th>\n",
              "      <th>rougher.input.floatbank10_xanthate</th>\n",
              "      <th>rougher.state.floatbank10_a_air</th>\n",
              "      <th>...</th>\n",
              "      <th>secondary_cleaner.output.tail_sol</th>\n",
              "      <th>final.output.concentrate_au</th>\n",
              "      <th>final.output.concentrate_ag</th>\n",
              "      <th>final.output.concentrate_pb</th>\n",
              "      <th>final.output.concentrate_sol</th>\n",
              "      <th>final.output.recovery</th>\n",
              "      <th>final.output.tail_au</th>\n",
              "      <th>final.output.tail_ag</th>\n",
              "      <th>final.output.tail_pb</th>\n",
              "      <th>final.output.tail_sol</th>\n",
              "    </tr>\n",
              "  </thead>\n",
              "  <tbody>\n",
              "    <tr>\n",
              "      <th>0</th>\n",
              "      <td>2016-01-15 00:00:00</td>\n",
              "      <td>6.486150</td>\n",
              "      <td>6.100378</td>\n",
              "      <td>2.284912</td>\n",
              "      <td>36.808594</td>\n",
              "      <td>523.546326</td>\n",
              "      <td>55.486599</td>\n",
              "      <td>11.986616</td>\n",
              "      <td>6.007990</td>\n",
              "      <td>999.706909</td>\n",
              "      <td>...</td>\n",
              "      <td>8.764648</td>\n",
              "      <td>42.192020</td>\n",
              "      <td>6.055403</td>\n",
              "      <td>9.889648</td>\n",
              "      <td>5.507324</td>\n",
              "      <td>70.541216</td>\n",
              "      <td>2.143149</td>\n",
              "      <td>10.411962</td>\n",
              "      <td>0.895447</td>\n",
              "      <td>16.904297</td>\n",
              "    </tr>\n",
              "    <tr>\n",
              "      <th>1</th>\n",
              "      <td>2016-01-15 01:00:00</td>\n",
              "      <td>6.478583</td>\n",
              "      <td>6.161113</td>\n",
              "      <td>2.266033</td>\n",
              "      <td>35.753385</td>\n",
              "      <td>525.290581</td>\n",
              "      <td>57.278666</td>\n",
              "      <td>11.971193</td>\n",
              "      <td>6.005766</td>\n",
              "      <td>1000.286398</td>\n",
              "      <td>...</td>\n",
              "      <td>9.001494</td>\n",
              "      <td>42.701629</td>\n",
              "      <td>6.029369</td>\n",
              "      <td>9.968944</td>\n",
              "      <td>5.257781</td>\n",
              "      <td>69.266198</td>\n",
              "      <td>2.224930</td>\n",
              "      <td>10.462676</td>\n",
              "      <td>0.927452</td>\n",
              "      <td>16.634514</td>\n",
              "    </tr>\n",
              "    <tr>\n",
              "      <th>2</th>\n",
              "      <td>2016-01-15 02:00:00</td>\n",
              "      <td>6.362222</td>\n",
              "      <td>6.116455</td>\n",
              "      <td>2.159622</td>\n",
              "      <td>35.971630</td>\n",
              "      <td>530.026610</td>\n",
              "      <td>57.510649</td>\n",
              "      <td>11.920603</td>\n",
              "      <td>6.197377</td>\n",
              "      <td>999.719565</td>\n",
              "      <td>...</td>\n",
              "      <td>8.842896</td>\n",
              "      <td>42.657501</td>\n",
              "      <td>6.055926</td>\n",
              "      <td>10.213995</td>\n",
              "      <td>5.383759</td>\n",
              "      <td>68.116445</td>\n",
              "      <td>2.257889</td>\n",
              "      <td>10.507046</td>\n",
              "      <td>0.953716</td>\n",
              "      <td>16.208849</td>\n",
              "    </tr>\n",
              "    <tr>\n",
              "      <th>3</th>\n",
              "      <td>2016-01-15 03:00:00</td>\n",
              "      <td>6.118189</td>\n",
              "      <td>6.043309</td>\n",
              "      <td>2.037807</td>\n",
              "      <td>36.862241</td>\n",
              "      <td>542.590390</td>\n",
              "      <td>57.792734</td>\n",
              "      <td>11.630094</td>\n",
              "      <td>6.203177</td>\n",
              "      <td>999.814770</td>\n",
              "      <td>...</td>\n",
              "      <td>9.122857</td>\n",
              "      <td>42.689819</td>\n",
              "      <td>6.047977</td>\n",
              "      <td>9.977019</td>\n",
              "      <td>4.858634</td>\n",
              "      <td>68.347543</td>\n",
              "      <td>2.146849</td>\n",
              "      <td>10.422762</td>\n",
              "      <td>0.883763</td>\n",
              "      <td>16.532835</td>\n",
              "    </tr>\n",
              "    <tr>\n",
              "      <th>4</th>\n",
              "      <td>2016-01-15 04:00:00</td>\n",
              "      <td>5.663707</td>\n",
              "      <td>6.060915</td>\n",
              "      <td>1.786875</td>\n",
              "      <td>34.347666</td>\n",
              "      <td>540.531893</td>\n",
              "      <td>56.047189</td>\n",
              "      <td>10.957755</td>\n",
              "      <td>6.198826</td>\n",
              "      <td>999.678690</td>\n",
              "      <td>...</td>\n",
              "      <td>8.871028</td>\n",
              "      <td>42.774141</td>\n",
              "      <td>6.148599</td>\n",
              "      <td>10.142511</td>\n",
              "      <td>4.939416</td>\n",
              "      <td>66.927016</td>\n",
              "      <td>2.055292</td>\n",
              "      <td>10.360302</td>\n",
              "      <td>0.792826</td>\n",
              "      <td>16.525686</td>\n",
              "    </tr>\n",
              "  </tbody>\n",
              "</table>\n",
              "<p>5 rows × 87 columns</p>\n",
              "</div>"
            ],
            "text/plain": [
              "                  date  rougher.input.feed_au  rougher.input.feed_ag  \\\n",
              "0  2016-01-15 00:00:00               6.486150               6.100378   \n",
              "1  2016-01-15 01:00:00               6.478583               6.161113   \n",
              "2  2016-01-15 02:00:00               6.362222               6.116455   \n",
              "3  2016-01-15 03:00:00               6.118189               6.043309   \n",
              "4  2016-01-15 04:00:00               5.663707               6.060915   \n",
              "\n",
              "   rougher.input.feed_pb  rougher.input.feed_sol  rougher.input.feed_rate  \\\n",
              "0               2.284912               36.808594               523.546326   \n",
              "1               2.266033               35.753385               525.290581   \n",
              "2               2.159622               35.971630               530.026610   \n",
              "3               2.037807               36.862241               542.590390   \n",
              "4               1.786875               34.347666               540.531893   \n",
              "\n",
              "   rougher.input.feed_size  rougher.input.floatbank10_sulfate  \\\n",
              "0                55.486599                          11.986616   \n",
              "1                57.278666                          11.971193   \n",
              "2                57.510649                          11.920603   \n",
              "3                57.792734                          11.630094   \n",
              "4                56.047189                          10.957755   \n",
              "\n",
              "   rougher.input.floatbank10_xanthate  rougher.state.floatbank10_a_air  ...  \\\n",
              "0                            6.007990                       999.706909  ...   \n",
              "1                            6.005766                      1000.286398  ...   \n",
              "2                            6.197377                       999.719565  ...   \n",
              "3                            6.203177                       999.814770  ...   \n",
              "4                            6.198826                       999.678690  ...   \n",
              "\n",
              "   secondary_cleaner.output.tail_sol  final.output.concentrate_au  \\\n",
              "0                           8.764648                    42.192020   \n",
              "1                           9.001494                    42.701629   \n",
              "2                           8.842896                    42.657501   \n",
              "3                           9.122857                    42.689819   \n",
              "4                           8.871028                    42.774141   \n",
              "\n",
              "   final.output.concentrate_ag  final.output.concentrate_pb  \\\n",
              "0                     6.055403                     9.889648   \n",
              "1                     6.029369                     9.968944   \n",
              "2                     6.055926                    10.213995   \n",
              "3                     6.047977                     9.977019   \n",
              "4                     6.148599                    10.142511   \n",
              "\n",
              "   final.output.concentrate_sol  final.output.recovery  final.output.tail_au  \\\n",
              "0                      5.507324              70.541216              2.143149   \n",
              "1                      5.257781              69.266198              2.224930   \n",
              "2                      5.383759              68.116445              2.257889   \n",
              "3                      4.858634              68.347543              2.146849   \n",
              "4                      4.939416              66.927016              2.055292   \n",
              "\n",
              "   final.output.tail_ag  final.output.tail_pb  final.output.tail_sol  \n",
              "0             10.411962              0.895447              16.904297  \n",
              "1             10.462676              0.927452              16.634514  \n",
              "2             10.507046              0.953716              16.208849  \n",
              "3             10.422762              0.883763              16.532835  \n",
              "4             10.360302              0.792826              16.525686  \n",
              "\n",
              "[5 rows x 87 columns]"
            ]
          },
          "execution_count": 6,
          "metadata": {},
          "output_type": "execute_result"
        }
      ],
      "source": [
        "train_df.head()"
      ]
    },
    {
      "cell_type": "code",
      "execution_count": null,
      "metadata": {
        "scrolled": true,
        "id": "UPJfYf0fnizL",
        "outputId": "e6708e35-3aa3-43bb-d920-ab0db0b4f2db"
      },
      "outputs": [
        {
          "name": "stdout",
          "output_type": "stream",
          "text": [
            "<class 'pandas.core.frame.DataFrame'>\n",
            "RangeIndex: 4860 entries, 0 to 4859\n",
            "Data columns (total 53 columns):\n",
            " #   Column                                      Non-Null Count  Dtype  \n",
            "---  ------                                      --------------  -----  \n",
            " 0   date                                        4860 non-null   object \n",
            " 1   rougher.input.feed_au                       4860 non-null   float64\n",
            " 2   rougher.input.feed_ag                       4860 non-null   float64\n",
            " 3   rougher.input.feed_pb                       4832 non-null   float64\n",
            " 4   rougher.input.feed_sol                      4838 non-null   float64\n",
            " 5   rougher.input.feed_rate                     4856 non-null   float64\n",
            " 6   rougher.input.feed_size                     4816 non-null   float64\n",
            " 7   rougher.input.floatbank10_sulfate           4857 non-null   float64\n",
            " 8   rougher.input.floatbank10_xanthate          4859 non-null   float64\n",
            " 9   rougher.state.floatbank10_a_air             4859 non-null   float64\n",
            " 10  rougher.state.floatbank10_a_level           4859 non-null   float64\n",
            " 11  rougher.state.floatbank10_b_air             4859 non-null   float64\n",
            " 12  rougher.state.floatbank10_b_level           4859 non-null   float64\n",
            " 13  rougher.state.floatbank10_c_air             4859 non-null   float64\n",
            " 14  rougher.state.floatbank10_c_level           4859 non-null   float64\n",
            " 15  rougher.state.floatbank10_d_air             4860 non-null   float64\n",
            " 16  rougher.state.floatbank10_d_level           4860 non-null   float64\n",
            " 17  rougher.state.floatbank10_e_air             4853 non-null   float64\n",
            " 18  rougher.state.floatbank10_e_level           4860 non-null   float64\n",
            " 19  rougher.state.floatbank10_f_air             4860 non-null   float64\n",
            " 20  rougher.state.floatbank10_f_level           4860 non-null   float64\n",
            " 21  rougher.input.floatbank11_sulfate           4852 non-null   float64\n",
            " 22  rougher.input.floatbank11_xanthate          4814 non-null   float64\n",
            " 23  primary_cleaner.input.sulfate               4859 non-null   float64\n",
            " 24  primary_cleaner.input.depressant            4851 non-null   float64\n",
            " 25  primary_cleaner.input.feed_size             4860 non-null   float64\n",
            " 26  primary_cleaner.input.xanthate              4817 non-null   float64\n",
            " 27  primary_cleaner.state.floatbank8_a_air      4859 non-null   float64\n",
            " 28  primary_cleaner.state.floatbank8_a_level    4859 non-null   float64\n",
            " 29  primary_cleaner.state.floatbank8_b_air      4859 non-null   float64\n",
            " 30  primary_cleaner.state.floatbank8_b_level    4859 non-null   float64\n",
            " 31  primary_cleaner.state.floatbank8_c_air      4858 non-null   float64\n",
            " 32  primary_cleaner.state.floatbank8_c_level    4859 non-null   float64\n",
            " 33  primary_cleaner.state.floatbank8_d_air      4858 non-null   float64\n",
            " 34  primary_cleaner.state.floatbank8_d_level    4859 non-null   float64\n",
            " 35  secondary_cleaner.state.floatbank2_a_air    4734 non-null   float64\n",
            " 36  secondary_cleaner.state.floatbank2_a_level  4859 non-null   float64\n",
            " 37  secondary_cleaner.state.floatbank2_b_air    4859 non-null   float64\n",
            " 38  secondary_cleaner.state.floatbank2_b_level  4859 non-null   float64\n",
            " 39  secondary_cleaner.state.floatbank3_a_air    4859 non-null   float64\n",
            " 40  secondary_cleaner.state.floatbank3_a_level  4859 non-null   float64\n",
            " 41  secondary_cleaner.state.floatbank3_b_air    4859 non-null   float64\n",
            " 42  secondary_cleaner.state.floatbank3_b_level  4859 non-null   float64\n",
            " 43  secondary_cleaner.state.floatbank4_a_air    4859 non-null   float64\n",
            " 44  secondary_cleaner.state.floatbank4_a_level  4859 non-null   float64\n",
            " 45  secondary_cleaner.state.floatbank4_b_air    4859 non-null   float64\n",
            " 46  secondary_cleaner.state.floatbank4_b_level  4859 non-null   float64\n",
            " 47  secondary_cleaner.state.floatbank5_a_air    4859 non-null   float64\n",
            " 48  secondary_cleaner.state.floatbank5_a_level  4859 non-null   float64\n",
            " 49  secondary_cleaner.state.floatbank5_b_air    4859 non-null   float64\n",
            " 50  secondary_cleaner.state.floatbank5_b_level  4859 non-null   float64\n",
            " 51  secondary_cleaner.state.floatbank6_a_air    4859 non-null   float64\n",
            " 52  secondary_cleaner.state.floatbank6_a_level  4859 non-null   float64\n",
            "dtypes: float64(52), object(1)\n",
            "memory usage: 2.0+ MB\n"
          ]
        }
      ],
      "source": [
        "test_df.info()"
      ]
    },
    {
      "cell_type": "code",
      "execution_count": null,
      "metadata": {
        "scrolled": true,
        "id": "CiCpLd7AnizN",
        "outputId": "50e25aaa-1a37-4935-d38e-5ce1906b7377"
      },
      "outputs": [
        {
          "data": {
            "text/plain": [
              "date                                            0\n",
              "rougher.input.feed_au                           0\n",
              "rougher.input.feed_ag                           0\n",
              "rougher.input.feed_pb                          28\n",
              "rougher.input.feed_sol                         22\n",
              "rougher.input.feed_rate                         4\n",
              "rougher.input.feed_size                        44\n",
              "rougher.input.floatbank10_sulfate               3\n",
              "rougher.input.floatbank10_xanthate              1\n",
              "rougher.state.floatbank10_a_air                 1\n",
              "rougher.state.floatbank10_a_level               1\n",
              "rougher.state.floatbank10_b_air                 1\n",
              "rougher.state.floatbank10_b_level               1\n",
              "rougher.state.floatbank10_c_air                 1\n",
              "rougher.state.floatbank10_c_level               1\n",
              "rougher.state.floatbank10_d_air                 0\n",
              "rougher.state.floatbank10_d_level               0\n",
              "rougher.state.floatbank10_e_air                 7\n",
              "rougher.state.floatbank10_e_level               0\n",
              "rougher.state.floatbank10_f_air                 0\n",
              "rougher.state.floatbank10_f_level               0\n",
              "rougher.input.floatbank11_sulfate               8\n",
              "rougher.input.floatbank11_xanthate             46\n",
              "primary_cleaner.input.sulfate                   1\n",
              "primary_cleaner.input.depressant                9\n",
              "primary_cleaner.input.feed_size                 0\n",
              "primary_cleaner.input.xanthate                 43\n",
              "primary_cleaner.state.floatbank8_a_air          1\n",
              "primary_cleaner.state.floatbank8_a_level        1\n",
              "primary_cleaner.state.floatbank8_b_air          1\n",
              "primary_cleaner.state.floatbank8_b_level        1\n",
              "primary_cleaner.state.floatbank8_c_air          2\n",
              "primary_cleaner.state.floatbank8_c_level        1\n",
              "primary_cleaner.state.floatbank8_d_air          2\n",
              "primary_cleaner.state.floatbank8_d_level        1\n",
              "secondary_cleaner.state.floatbank2_a_air      126\n",
              "secondary_cleaner.state.floatbank2_a_level      1\n",
              "secondary_cleaner.state.floatbank2_b_air        1\n",
              "secondary_cleaner.state.floatbank2_b_level      1\n",
              "secondary_cleaner.state.floatbank3_a_air        1\n",
              "secondary_cleaner.state.floatbank3_a_level      1\n",
              "secondary_cleaner.state.floatbank3_b_air        1\n",
              "secondary_cleaner.state.floatbank3_b_level      1\n",
              "secondary_cleaner.state.floatbank4_a_air        1\n",
              "secondary_cleaner.state.floatbank4_a_level      1\n",
              "secondary_cleaner.state.floatbank4_b_air        1\n",
              "secondary_cleaner.state.floatbank4_b_level      1\n",
              "secondary_cleaner.state.floatbank5_a_air        1\n",
              "secondary_cleaner.state.floatbank5_a_level      1\n",
              "secondary_cleaner.state.floatbank5_b_air        1\n",
              "secondary_cleaner.state.floatbank5_b_level      1\n",
              "secondary_cleaner.state.floatbank6_a_air        1\n",
              "secondary_cleaner.state.floatbank6_a_level      1\n",
              "dtype: int64"
            ]
          },
          "execution_count": 8,
          "metadata": {},
          "output_type": "execute_result"
        }
      ],
      "source": [
        "test_df.isna().sum()"
      ]
    },
    {
      "cell_type": "code",
      "execution_count": null,
      "metadata": {
        "id": "ke3gKY0jnizO",
        "outputId": "54a1a545-7ef5-4f44-9ee9-cf9830e5ce0d"
      },
      "outputs": [
        {
          "data": {
            "text/html": [
              "<div>\n",
              "<style scoped>\n",
              "    .dataframe tbody tr th:only-of-type {\n",
              "        vertical-align: middle;\n",
              "    }\n",
              "\n",
              "    .dataframe tbody tr th {\n",
              "        vertical-align: top;\n",
              "    }\n",
              "\n",
              "    .dataframe thead th {\n",
              "        text-align: right;\n",
              "    }\n",
              "</style>\n",
              "<table border=\"1\" class=\"dataframe\">\n",
              "  <thead>\n",
              "    <tr style=\"text-align: right;\">\n",
              "      <th></th>\n",
              "      <th>date</th>\n",
              "      <th>rougher.input.feed_au</th>\n",
              "      <th>rougher.input.feed_ag</th>\n",
              "      <th>rougher.input.feed_pb</th>\n",
              "      <th>rougher.input.feed_sol</th>\n",
              "      <th>rougher.input.feed_rate</th>\n",
              "      <th>rougher.input.feed_size</th>\n",
              "      <th>rougher.input.floatbank10_sulfate</th>\n",
              "      <th>rougher.input.floatbank10_xanthate</th>\n",
              "      <th>rougher.state.floatbank10_a_air</th>\n",
              "      <th>...</th>\n",
              "      <th>secondary_cleaner.state.floatbank4_a_air</th>\n",
              "      <th>secondary_cleaner.state.floatbank4_a_level</th>\n",
              "      <th>secondary_cleaner.state.floatbank4_b_air</th>\n",
              "      <th>secondary_cleaner.state.floatbank4_b_level</th>\n",
              "      <th>secondary_cleaner.state.floatbank5_a_air</th>\n",
              "      <th>secondary_cleaner.state.floatbank5_a_level</th>\n",
              "      <th>secondary_cleaner.state.floatbank5_b_air</th>\n",
              "      <th>secondary_cleaner.state.floatbank5_b_level</th>\n",
              "      <th>secondary_cleaner.state.floatbank6_a_air</th>\n",
              "      <th>secondary_cleaner.state.floatbank6_a_level</th>\n",
              "    </tr>\n",
              "  </thead>\n",
              "  <tbody>\n",
              "    <tr>\n",
              "      <th>0</th>\n",
              "      <td>2017-12-09 14:59:59</td>\n",
              "      <td>4.365491</td>\n",
              "      <td>6.158718</td>\n",
              "      <td>3.875727</td>\n",
              "      <td>39.135119</td>\n",
              "      <td>555.820208</td>\n",
              "      <td>94.544358</td>\n",
              "      <td>6.146982</td>\n",
              "      <td>9.308612</td>\n",
              "      <td>1196.238112</td>\n",
              "      <td>...</td>\n",
              "      <td>23.018622</td>\n",
              "      <td>-500.492702</td>\n",
              "      <td>20.020205</td>\n",
              "      <td>-500.220296</td>\n",
              "      <td>17.963512</td>\n",
              "      <td>-499.939490</td>\n",
              "      <td>12.990306</td>\n",
              "      <td>-500.080993</td>\n",
              "      <td>19.990336</td>\n",
              "      <td>-499.191575</td>\n",
              "    </tr>\n",
              "    <tr>\n",
              "      <th>1</th>\n",
              "      <td>2017-12-09 15:59:59</td>\n",
              "      <td>4.362781</td>\n",
              "      <td>6.048130</td>\n",
              "      <td>3.902537</td>\n",
              "      <td>39.713906</td>\n",
              "      <td>544.731687</td>\n",
              "      <td>123.742430</td>\n",
              "      <td>6.210119</td>\n",
              "      <td>9.297709</td>\n",
              "      <td>1201.904177</td>\n",
              "      <td>...</td>\n",
              "      <td>23.024963</td>\n",
              "      <td>-501.153409</td>\n",
              "      <td>20.054122</td>\n",
              "      <td>-500.314711</td>\n",
              "      <td>17.979515</td>\n",
              "      <td>-499.272871</td>\n",
              "      <td>12.992404</td>\n",
              "      <td>-499.976268</td>\n",
              "      <td>20.013986</td>\n",
              "      <td>-500.625471</td>\n",
              "    </tr>\n",
              "    <tr>\n",
              "      <th>2</th>\n",
              "      <td>2017-12-09 16:59:59</td>\n",
              "      <td>5.081681</td>\n",
              "      <td>6.082745</td>\n",
              "      <td>4.564078</td>\n",
              "      <td>37.208683</td>\n",
              "      <td>558.155110</td>\n",
              "      <td>82.610855</td>\n",
              "      <td>7.363824</td>\n",
              "      <td>9.003562</td>\n",
              "      <td>1200.826926</td>\n",
              "      <td>...</td>\n",
              "      <td>22.993827</td>\n",
              "      <td>-501.559663</td>\n",
              "      <td>20.029144</td>\n",
              "      <td>-500.000662</td>\n",
              "      <td>18.012723</td>\n",
              "      <td>-500.024764</td>\n",
              "      <td>13.016445</td>\n",
              "      <td>-500.058432</td>\n",
              "      <td>19.973767</td>\n",
              "      <td>-501.394155</td>\n",
              "    </tr>\n",
              "    <tr>\n",
              "      <th>3</th>\n",
              "      <td>2017-12-09 17:59:59</td>\n",
              "      <td>5.145949</td>\n",
              "      <td>6.084374</td>\n",
              "      <td>4.768124</td>\n",
              "      <td>36.808874</td>\n",
              "      <td>539.713765</td>\n",
              "      <td>77.984784</td>\n",
              "      <td>6.927072</td>\n",
              "      <td>8.955597</td>\n",
              "      <td>1199.292489</td>\n",
              "      <td>...</td>\n",
              "      <td>23.032807</td>\n",
              "      <td>-501.287889</td>\n",
              "      <td>19.977466</td>\n",
              "      <td>-500.159903</td>\n",
              "      <td>17.980463</td>\n",
              "      <td>-500.504602</td>\n",
              "      <td>12.949071</td>\n",
              "      <td>-500.009937</td>\n",
              "      <td>20.010332</td>\n",
              "      <td>-508.337973</td>\n",
              "    </tr>\n",
              "    <tr>\n",
              "      <th>4</th>\n",
              "      <td>2017-12-09 18:59:59</td>\n",
              "      <td>5.735249</td>\n",
              "      <td>6.165220</td>\n",
              "      <td>4.512346</td>\n",
              "      <td>37.810642</td>\n",
              "      <td>558.713584</td>\n",
              "      <td>86.434874</td>\n",
              "      <td>7.823471</td>\n",
              "      <td>7.490356</td>\n",
              "      <td>1198.005449</td>\n",
              "      <td>...</td>\n",
              "      <td>23.001911</td>\n",
              "      <td>-499.947838</td>\n",
              "      <td>20.023735</td>\n",
              "      <td>-499.713680</td>\n",
              "      <td>17.990955</td>\n",
              "      <td>-500.334769</td>\n",
              "      <td>13.007523</td>\n",
              "      <td>-499.968459</td>\n",
              "      <td>19.995999</td>\n",
              "      <td>-499.788805</td>\n",
              "    </tr>\n",
              "  </tbody>\n",
              "</table>\n",
              "<p>5 rows × 53 columns</p>\n",
              "</div>"
            ],
            "text/plain": [
              "                  date  rougher.input.feed_au  rougher.input.feed_ag  \\\n",
              "0  2017-12-09 14:59:59               4.365491               6.158718   \n",
              "1  2017-12-09 15:59:59               4.362781               6.048130   \n",
              "2  2017-12-09 16:59:59               5.081681               6.082745   \n",
              "3  2017-12-09 17:59:59               5.145949               6.084374   \n",
              "4  2017-12-09 18:59:59               5.735249               6.165220   \n",
              "\n",
              "   rougher.input.feed_pb  rougher.input.feed_sol  rougher.input.feed_rate  \\\n",
              "0               3.875727               39.135119               555.820208   \n",
              "1               3.902537               39.713906               544.731687   \n",
              "2               4.564078               37.208683               558.155110   \n",
              "3               4.768124               36.808874               539.713765   \n",
              "4               4.512346               37.810642               558.713584   \n",
              "\n",
              "   rougher.input.feed_size  rougher.input.floatbank10_sulfate  \\\n",
              "0                94.544358                           6.146982   \n",
              "1               123.742430                           6.210119   \n",
              "2                82.610855                           7.363824   \n",
              "3                77.984784                           6.927072   \n",
              "4                86.434874                           7.823471   \n",
              "\n",
              "   rougher.input.floatbank10_xanthate  rougher.state.floatbank10_a_air  ...  \\\n",
              "0                            9.308612                      1196.238112  ...   \n",
              "1                            9.297709                      1201.904177  ...   \n",
              "2                            9.003562                      1200.826926  ...   \n",
              "3                            8.955597                      1199.292489  ...   \n",
              "4                            7.490356                      1198.005449  ...   \n",
              "\n",
              "   secondary_cleaner.state.floatbank4_a_air  \\\n",
              "0                                 23.018622   \n",
              "1                                 23.024963   \n",
              "2                                 22.993827   \n",
              "3                                 23.032807   \n",
              "4                                 23.001911   \n",
              "\n",
              "   secondary_cleaner.state.floatbank4_a_level  \\\n",
              "0                                 -500.492702   \n",
              "1                                 -501.153409   \n",
              "2                                 -501.559663   \n",
              "3                                 -501.287889   \n",
              "4                                 -499.947838   \n",
              "\n",
              "   secondary_cleaner.state.floatbank4_b_air  \\\n",
              "0                                 20.020205   \n",
              "1                                 20.054122   \n",
              "2                                 20.029144   \n",
              "3                                 19.977466   \n",
              "4                                 20.023735   \n",
              "\n",
              "   secondary_cleaner.state.floatbank4_b_level  \\\n",
              "0                                 -500.220296   \n",
              "1                                 -500.314711   \n",
              "2                                 -500.000662   \n",
              "3                                 -500.159903   \n",
              "4                                 -499.713680   \n",
              "\n",
              "   secondary_cleaner.state.floatbank5_a_air  \\\n",
              "0                                 17.963512   \n",
              "1                                 17.979515   \n",
              "2                                 18.012723   \n",
              "3                                 17.980463   \n",
              "4                                 17.990955   \n",
              "\n",
              "   secondary_cleaner.state.floatbank5_a_level  \\\n",
              "0                                 -499.939490   \n",
              "1                                 -499.272871   \n",
              "2                                 -500.024764   \n",
              "3                                 -500.504602   \n",
              "4                                 -500.334769   \n",
              "\n",
              "   secondary_cleaner.state.floatbank5_b_air  \\\n",
              "0                                 12.990306   \n",
              "1                                 12.992404   \n",
              "2                                 13.016445   \n",
              "3                                 12.949071   \n",
              "4                                 13.007523   \n",
              "\n",
              "   secondary_cleaner.state.floatbank5_b_level  \\\n",
              "0                                 -500.080993   \n",
              "1                                 -499.976268   \n",
              "2                                 -500.058432   \n",
              "3                                 -500.009937   \n",
              "4                                 -499.968459   \n",
              "\n",
              "   secondary_cleaner.state.floatbank6_a_air  \\\n",
              "0                                 19.990336   \n",
              "1                                 20.013986   \n",
              "2                                 19.973767   \n",
              "3                                 20.010332   \n",
              "4                                 19.995999   \n",
              "\n",
              "   secondary_cleaner.state.floatbank6_a_level  \n",
              "0                                 -499.191575  \n",
              "1                                 -500.625471  \n",
              "2                                 -501.394155  \n",
              "3                                 -508.337973  \n",
              "4                                 -499.788805  \n",
              "\n",
              "[5 rows x 53 columns]"
            ]
          },
          "execution_count": 9,
          "metadata": {},
          "output_type": "execute_result"
        }
      ],
      "source": [
        "test_df.head()"
      ]
    },
    {
      "cell_type": "code",
      "execution_count": null,
      "metadata": {
        "id": "zgJ2BaGxnizQ",
        "outputId": "de23a6e9-0d35-44c3-a7e2-4bb85e2456db"
      },
      "outputs": [
        {
          "data": {
            "text/html": [
              "<div>\n",
              "<style scoped>\n",
              "    .dataframe tbody tr th:only-of-type {\n",
              "        vertical-align: middle;\n",
              "    }\n",
              "\n",
              "    .dataframe tbody tr th {\n",
              "        vertical-align: top;\n",
              "    }\n",
              "\n",
              "    .dataframe thead th {\n",
              "        text-align: right;\n",
              "    }\n",
              "</style>\n",
              "<table border=\"1\" class=\"dataframe\">\n",
              "  <thead>\n",
              "    <tr style=\"text-align: right;\">\n",
              "      <th></th>\n",
              "      <th>rougher.input.feed_au</th>\n",
              "      <th>rougher.input.feed_ag</th>\n",
              "      <th>rougher.input.feed_pb</th>\n",
              "      <th>rougher.input.feed_sol</th>\n",
              "      <th>rougher.input.feed_rate</th>\n",
              "      <th>rougher.input.feed_size</th>\n",
              "      <th>rougher.input.floatbank10_sulfate</th>\n",
              "      <th>rougher.input.floatbank10_xanthate</th>\n",
              "      <th>rougher.state.floatbank10_a_air</th>\n",
              "      <th>rougher.state.floatbank10_a_level</th>\n",
              "      <th>...</th>\n",
              "      <th>secondary_cleaner.output.tail_sol</th>\n",
              "      <th>final.output.concentrate_au</th>\n",
              "      <th>final.output.concentrate_ag</th>\n",
              "      <th>final.output.concentrate_pb</th>\n",
              "      <th>final.output.concentrate_sol</th>\n",
              "      <th>final.output.recovery</th>\n",
              "      <th>final.output.tail_au</th>\n",
              "      <th>final.output.tail_ag</th>\n",
              "      <th>final.output.tail_pb</th>\n",
              "      <th>final.output.tail_sol</th>\n",
              "    </tr>\n",
              "  </thead>\n",
              "  <tbody>\n",
              "    <tr>\n",
              "      <th>count</th>\n",
              "      <td>19439.000000</td>\n",
              "      <td>19439.000000</td>\n",
              "      <td>19339.000000</td>\n",
              "      <td>19340.000000</td>\n",
              "      <td>19428.000000</td>\n",
              "      <td>19294.000000</td>\n",
              "      <td>19405.000000</td>\n",
              "      <td>19431.000000</td>\n",
              "      <td>19438.000000</td>\n",
              "      <td>19438.000000</td>\n",
              "      <td>...</td>\n",
              "      <td>17691.000000</td>\n",
              "      <td>19439.000000</td>\n",
              "      <td>19438.000000</td>\n",
              "      <td>19438.000000</td>\n",
              "      <td>19228.000000</td>\n",
              "      <td>19439.000000</td>\n",
              "      <td>19439.000000</td>\n",
              "      <td>19438.000000</td>\n",
              "      <td>19338.000000</td>\n",
              "      <td>19433.000000</td>\n",
              "    </tr>\n",
              "    <tr>\n",
              "      <th>mean</th>\n",
              "      <td>8.266097</td>\n",
              "      <td>8.794927</td>\n",
              "      <td>3.598085</td>\n",
              "      <td>36.695114</td>\n",
              "      <td>478.320042</td>\n",
              "      <td>58.970310</td>\n",
              "      <td>12.334373</td>\n",
              "      <td>6.021474</td>\n",
              "      <td>1105.315068</td>\n",
              "      <td>-376.610690</td>\n",
              "      <td>...</td>\n",
              "      <td>7.167247</td>\n",
              "      <td>44.076513</td>\n",
              "      <td>5.168470</td>\n",
              "      <td>9.978895</td>\n",
              "      <td>9.501224</td>\n",
              "      <td>67.050208</td>\n",
              "      <td>3.042467</td>\n",
              "      <td>9.688589</td>\n",
              "      <td>2.705795</td>\n",
              "      <td>10.583728</td>\n",
              "    </tr>\n",
              "    <tr>\n",
              "      <th>std</th>\n",
              "      <td>1.955092</td>\n",
              "      <td>1.936847</td>\n",
              "      <td>1.049486</td>\n",
              "      <td>5.145445</td>\n",
              "      <td>105.373758</td>\n",
              "      <td>21.634478</td>\n",
              "      <td>3.427317</td>\n",
              "      <td>1.127263</td>\n",
              "      <td>160.826798</td>\n",
              "      <td>93.909667</td>\n",
              "      <td>...</td>\n",
              "      <td>3.916079</td>\n",
              "      <td>5.129784</td>\n",
              "      <td>1.372348</td>\n",
              "      <td>1.669240</td>\n",
              "      <td>2.787537</td>\n",
              "      <td>10.125840</td>\n",
              "      <td>0.922808</td>\n",
              "      <td>2.328642</td>\n",
              "      <td>0.949077</td>\n",
              "      <td>2.868782</td>\n",
              "    </tr>\n",
              "    <tr>\n",
              "      <th>min</th>\n",
              "      <td>0.010000</td>\n",
              "      <td>0.010000</td>\n",
              "      <td>0.010000</td>\n",
              "      <td>0.010000</td>\n",
              "      <td>0.002986</td>\n",
              "      <td>0.046369</td>\n",
              "      <td>0.001083</td>\n",
              "      <td>0.000568</td>\n",
              "      <td>-0.042069</td>\n",
              "      <td>-657.949759</td>\n",
              "      <td>...</td>\n",
              "      <td>0.000000</td>\n",
              "      <td>0.000000</td>\n",
              "      <td>0.000000</td>\n",
              "      <td>0.000000</td>\n",
              "      <td>0.000000</td>\n",
              "      <td>0.000000</td>\n",
              "      <td>0.000000</td>\n",
              "      <td>0.000000</td>\n",
              "      <td>0.000000</td>\n",
              "      <td>0.000000</td>\n",
              "    </tr>\n",
              "    <tr>\n",
              "      <th>25%</th>\n",
              "      <td>6.854384</td>\n",
              "      <td>7.237967</td>\n",
              "      <td>2.887280</td>\n",
              "      <td>34.207799</td>\n",
              "      <td>416.525453</td>\n",
              "      <td>47.435103</td>\n",
              "      <td>10.000362</td>\n",
              "      <td>5.398678</td>\n",
              "      <td>999.661867</td>\n",
              "      <td>-499.835165</td>\n",
              "      <td>...</td>\n",
              "      <td>3.845475</td>\n",
              "      <td>43.402215</td>\n",
              "      <td>4.251240</td>\n",
              "      <td>9.137262</td>\n",
              "      <td>7.722820</td>\n",
              "      <td>63.299712</td>\n",
              "      <td>2.461138</td>\n",
              "      <td>8.062878</td>\n",
              "      <td>2.040119</td>\n",
              "      <td>8.938947</td>\n",
              "    </tr>\n",
              "    <tr>\n",
              "      <th>50%</th>\n",
              "      <td>8.125839</td>\n",
              "      <td>8.593574</td>\n",
              "      <td>3.534895</td>\n",
              "      <td>37.202650</td>\n",
              "      <td>499.416120</td>\n",
              "      <td>54.610197</td>\n",
              "      <td>12.001174</td>\n",
              "      <td>6.008273</td>\n",
              "      <td>1001.072890</td>\n",
              "      <td>-300.263994</td>\n",
              "      <td>...</td>\n",
              "      <td>7.685827</td>\n",
              "      <td>45.011244</td>\n",
              "      <td>5.066094</td>\n",
              "      <td>10.102433</td>\n",
              "      <td>9.218961</td>\n",
              "      <td>68.172738</td>\n",
              "      <td>2.984909</td>\n",
              "      <td>9.743623</td>\n",
              "      <td>2.748730</td>\n",
              "      <td>10.622456</td>\n",
              "    </tr>\n",
              "    <tr>\n",
              "      <th>75%</th>\n",
              "      <td>9.769917</td>\n",
              "      <td>10.213771</td>\n",
              "      <td>4.244161</td>\n",
              "      <td>40.039133</td>\n",
              "      <td>550.172183</td>\n",
              "      <td>65.023044</td>\n",
              "      <td>14.716595</td>\n",
              "      <td>6.798051</td>\n",
              "      <td>1205.620588</td>\n",
              "      <td>-299.981998</td>\n",
              "      <td>...</td>\n",
              "      <td>10.411296</td>\n",
              "      <td>46.275313</td>\n",
              "      <td>5.895527</td>\n",
              "      <td>11.035769</td>\n",
              "      <td>10.947813</td>\n",
              "      <td>72.686642</td>\n",
              "      <td>3.571351</td>\n",
              "      <td>11.134294</td>\n",
              "      <td>3.333216</td>\n",
              "      <td>12.104271</td>\n",
              "    </tr>\n",
              "    <tr>\n",
              "      <th>max</th>\n",
              "      <td>13.731330</td>\n",
              "      <td>14.596026</td>\n",
              "      <td>7.142594</td>\n",
              "      <td>53.477742</td>\n",
              "      <td>717.508837</td>\n",
              "      <td>484.967466</td>\n",
              "      <td>36.118275</td>\n",
              "      <td>9.703448</td>\n",
              "      <td>1521.980372</td>\n",
              "      <td>-273.776101</td>\n",
              "      <td>...</td>\n",
              "      <td>26.000772</td>\n",
              "      <td>52.756638</td>\n",
              "      <td>16.001945</td>\n",
              "      <td>17.031899</td>\n",
              "      <td>19.615720</td>\n",
              "      <td>100.000000</td>\n",
              "      <td>8.245022</td>\n",
              "      <td>19.552149</td>\n",
              "      <td>5.804178</td>\n",
              "      <td>22.317730</td>\n",
              "    </tr>\n",
              "  </tbody>\n",
              "</table>\n",
              "<p>8 rows × 86 columns</p>\n",
              "</div>"
            ],
            "text/plain": [
              "       rougher.input.feed_au  rougher.input.feed_ag  rougher.input.feed_pb  \\\n",
              "count           19439.000000           19439.000000           19339.000000   \n",
              "mean                8.266097               8.794927               3.598085   \n",
              "std                 1.955092               1.936847               1.049486   \n",
              "min                 0.010000               0.010000               0.010000   \n",
              "25%                 6.854384               7.237967               2.887280   \n",
              "50%                 8.125839               8.593574               3.534895   \n",
              "75%                 9.769917              10.213771               4.244161   \n",
              "max                13.731330              14.596026               7.142594   \n",
              "\n",
              "       rougher.input.feed_sol  rougher.input.feed_rate  \\\n",
              "count            19340.000000             19428.000000   \n",
              "mean                36.695114               478.320042   \n",
              "std                  5.145445               105.373758   \n",
              "min                  0.010000                 0.002986   \n",
              "25%                 34.207799               416.525453   \n",
              "50%                 37.202650               499.416120   \n",
              "75%                 40.039133               550.172183   \n",
              "max                 53.477742               717.508837   \n",
              "\n",
              "       rougher.input.feed_size  rougher.input.floatbank10_sulfate  \\\n",
              "count             19294.000000                       19405.000000   \n",
              "mean                 58.970310                          12.334373   \n",
              "std                  21.634478                           3.427317   \n",
              "min                   0.046369                           0.001083   \n",
              "25%                  47.435103                          10.000362   \n",
              "50%                  54.610197                          12.001174   \n",
              "75%                  65.023044                          14.716595   \n",
              "max                 484.967466                          36.118275   \n",
              "\n",
              "       rougher.input.floatbank10_xanthate  rougher.state.floatbank10_a_air  \\\n",
              "count                        19431.000000                     19438.000000   \n",
              "mean                             6.021474                      1105.315068   \n",
              "std                              1.127263                       160.826798   \n",
              "min                              0.000568                        -0.042069   \n",
              "25%                              5.398678                       999.661867   \n",
              "50%                              6.008273                      1001.072890   \n",
              "75%                              6.798051                      1205.620588   \n",
              "max                              9.703448                      1521.980372   \n",
              "\n",
              "       rougher.state.floatbank10_a_level  ...  \\\n",
              "count                       19438.000000  ...   \n",
              "mean                         -376.610690  ...   \n",
              "std                            93.909667  ...   \n",
              "min                          -657.949759  ...   \n",
              "25%                          -499.835165  ...   \n",
              "50%                          -300.263994  ...   \n",
              "75%                          -299.981998  ...   \n",
              "max                          -273.776101  ...   \n",
              "\n",
              "       secondary_cleaner.output.tail_sol  final.output.concentrate_au  \\\n",
              "count                       17691.000000                 19439.000000   \n",
              "mean                            7.167247                    44.076513   \n",
              "std                             3.916079                     5.129784   \n",
              "min                             0.000000                     0.000000   \n",
              "25%                             3.845475                    43.402215   \n",
              "50%                             7.685827                    45.011244   \n",
              "75%                            10.411296                    46.275313   \n",
              "max                            26.000772                    52.756638   \n",
              "\n",
              "       final.output.concentrate_ag  final.output.concentrate_pb  \\\n",
              "count                 19438.000000                 19438.000000   \n",
              "mean                      5.168470                     9.978895   \n",
              "std                       1.372348                     1.669240   \n",
              "min                       0.000000                     0.000000   \n",
              "25%                       4.251240                     9.137262   \n",
              "50%                       5.066094                    10.102433   \n",
              "75%                       5.895527                    11.035769   \n",
              "max                      16.001945                    17.031899   \n",
              "\n",
              "       final.output.concentrate_sol  final.output.recovery  \\\n",
              "count                  19228.000000           19439.000000   \n",
              "mean                       9.501224              67.050208   \n",
              "std                        2.787537              10.125840   \n",
              "min                        0.000000               0.000000   \n",
              "25%                        7.722820              63.299712   \n",
              "50%                        9.218961              68.172738   \n",
              "75%                       10.947813              72.686642   \n",
              "max                       19.615720             100.000000   \n",
              "\n",
              "       final.output.tail_au  final.output.tail_ag  final.output.tail_pb  \\\n",
              "count          19439.000000          19438.000000          19338.000000   \n",
              "mean               3.042467              9.688589              2.705795   \n",
              "std                0.922808              2.328642              0.949077   \n",
              "min                0.000000              0.000000              0.000000   \n",
              "25%                2.461138              8.062878              2.040119   \n",
              "50%                2.984909              9.743623              2.748730   \n",
              "75%                3.571351             11.134294              3.333216   \n",
              "max                8.245022             19.552149              5.804178   \n",
              "\n",
              "       final.output.tail_sol  \n",
              "count           19433.000000  \n",
              "mean               10.583728  \n",
              "std                 2.868782  \n",
              "min                 0.000000  \n",
              "25%                 8.938947  \n",
              "50%                10.622456  \n",
              "75%                12.104271  \n",
              "max                22.317730  \n",
              "\n",
              "[8 rows x 86 columns]"
            ]
          },
          "execution_count": 10,
          "metadata": {},
          "output_type": "execute_result"
        }
      ],
      "source": [
        "full_df.describe()"
      ]
    },
    {
      "cell_type": "code",
      "execution_count": null,
      "metadata": {
        "scrolled": true,
        "id": "VMFKZbi7nizS",
        "outputId": "14271544-b7b1-4fa8-906b-13f5db75697c"
      },
      "outputs": [
        {
          "name": "stdout",
          "output_type": "stream",
          "text": [
            "<class 'pandas.core.frame.DataFrame'>\n",
            "RangeIndex: 19439 entries, 0 to 19438\n",
            "Data columns (total 87 columns):\n",
            " #   Column                                              Non-Null Count  Dtype  \n",
            "---  ------                                              --------------  -----  \n",
            " 0   date                                                19439 non-null  object \n",
            " 1   rougher.input.feed_au                               19439 non-null  float64\n",
            " 2   rougher.input.feed_ag                               19439 non-null  float64\n",
            " 3   rougher.input.feed_pb                               19339 non-null  float64\n",
            " 4   rougher.input.feed_sol                              19340 non-null  float64\n",
            " 5   rougher.input.feed_rate                             19428 non-null  float64\n",
            " 6   rougher.input.feed_size                             19294 non-null  float64\n",
            " 7   rougher.input.floatbank10_sulfate                   19405 non-null  float64\n",
            " 8   rougher.input.floatbank10_xanthate                  19431 non-null  float64\n",
            " 9   rougher.state.floatbank10_a_air                     19438 non-null  float64\n",
            " 10  rougher.state.floatbank10_a_level                   19438 non-null  float64\n",
            " 11  rougher.state.floatbank10_b_air                     19438 non-null  float64\n",
            " 12  rougher.state.floatbank10_b_level                   19438 non-null  float64\n",
            " 13  rougher.state.floatbank10_c_air                     19438 non-null  float64\n",
            " 14  rougher.state.floatbank10_c_level                   19438 non-null  float64\n",
            " 15  rougher.state.floatbank10_d_air                     19439 non-null  float64\n",
            " 16  rougher.state.floatbank10_d_level                   19439 non-null  float64\n",
            " 17  rougher.state.floatbank10_e_air                     19003 non-null  float64\n",
            " 18  rougher.state.floatbank10_e_level                   19439 non-null  float64\n",
            " 19  rougher.state.floatbank10_f_air                     19439 non-null  float64\n",
            " 20  rougher.state.floatbank10_f_level                   19439 non-null  float64\n",
            " 21  rougher.input.floatbank11_sulfate                   19395 non-null  float64\n",
            " 22  rougher.input.floatbank11_xanthate                  18986 non-null  float64\n",
            " 23  rougher.calculation.sulfate_to_au_concentrate       19437 non-null  float64\n",
            " 24  rougher.calculation.floatbank10_sulfate_to_au_feed  19437 non-null  float64\n",
            " 25  rougher.calculation.floatbank11_sulfate_to_au_feed  19437 non-null  float64\n",
            " 26  rougher.calculation.au_pb_ratio                     19439 non-null  float64\n",
            " 27  rougher.output.concentrate_au                       19439 non-null  float64\n",
            " 28  rougher.output.concentrate_ag                       19439 non-null  float64\n",
            " 29  rougher.output.concentrate_pb                       19439 non-null  float64\n",
            " 30  rougher.output.concentrate_sol                      19416 non-null  float64\n",
            " 31  rougher.output.recovery                             19439 non-null  float64\n",
            " 32  rougher.output.tail_au                              19439 non-null  float64\n",
            " 33  rougher.output.tail_ag                              19438 non-null  float64\n",
            " 34  rougher.output.tail_pb                              19439 non-null  float64\n",
            " 35  rougher.output.tail_sol                             19439 non-null  float64\n",
            " 36  primary_cleaner.input.sulfate                       19415 non-null  float64\n",
            " 37  primary_cleaner.input.depressant                    19402 non-null  float64\n",
            " 38  primary_cleaner.input.feed_size                     19439 non-null  float64\n",
            " 39  primary_cleaner.input.xanthate                      19335 non-null  float64\n",
            " 40  primary_cleaner.state.floatbank8_a_air              19435 non-null  float64\n",
            " 41  primary_cleaner.state.floatbank8_a_level            19438 non-null  float64\n",
            " 42  primary_cleaner.state.floatbank8_b_air              19435 non-null  float64\n",
            " 43  primary_cleaner.state.floatbank8_b_level            19438 non-null  float64\n",
            " 44  primary_cleaner.state.floatbank8_c_air              19437 non-null  float64\n",
            " 45  primary_cleaner.state.floatbank8_c_level            19438 non-null  float64\n",
            " 46  primary_cleaner.state.floatbank8_d_air              19436 non-null  float64\n",
            " 47  primary_cleaner.state.floatbank8_d_level            19438 non-null  float64\n",
            " 48  primary_cleaner.output.concentrate_au               19439 non-null  float64\n",
            " 49  primary_cleaner.output.concentrate_ag               19439 non-null  float64\n",
            " 50  primary_cleaner.output.concentrate_pb               19323 non-null  float64\n",
            " 51  primary_cleaner.output.concentrate_sol              19069 non-null  float64\n",
            " 52  primary_cleaner.output.tail_au                      19439 non-null  float64\n",
            " 53  primary_cleaner.output.tail_ag                      19435 non-null  float64\n",
            " 54  primary_cleaner.output.tail_pb                      19418 non-null  float64\n",
            " 55  primary_cleaner.output.tail_sol                     19377 non-null  float64\n",
            " 56  secondary_cleaner.state.floatbank2_a_air            19219 non-null  float64\n",
            " 57  secondary_cleaner.state.floatbank2_a_level          19438 non-null  float64\n",
            " 58  secondary_cleaner.state.floatbank2_b_air            19416 non-null  float64\n",
            " 59  secondary_cleaner.state.floatbank2_b_level          19438 non-null  float64\n",
            " 60  secondary_cleaner.state.floatbank3_a_air            19426 non-null  float64\n",
            " 61  secondary_cleaner.state.floatbank3_a_level          19438 non-null  float64\n",
            " 62  secondary_cleaner.state.floatbank3_b_air            19438 non-null  float64\n",
            " 63  secondary_cleaner.state.floatbank3_b_level          19438 non-null  float64\n",
            " 64  secondary_cleaner.state.floatbank4_a_air            19433 non-null  float64\n",
            " 65  secondary_cleaner.state.floatbank4_a_level          19438 non-null  float64\n",
            " 66  secondary_cleaner.state.floatbank4_b_air            19438 non-null  float64\n",
            " 67  secondary_cleaner.state.floatbank4_b_level          19438 non-null  float64\n",
            " 68  secondary_cleaner.state.floatbank5_a_air            19438 non-null  float64\n",
            " 69  secondary_cleaner.state.floatbank5_a_level          19438 non-null  float64\n",
            " 70  secondary_cleaner.state.floatbank5_b_air            19438 non-null  float64\n",
            " 71  secondary_cleaner.state.floatbank5_b_level          19438 non-null  float64\n",
            " 72  secondary_cleaner.state.floatbank6_a_air            19437 non-null  float64\n",
            " 73  secondary_cleaner.state.floatbank6_a_level          19438 non-null  float64\n",
            " 74  secondary_cleaner.output.tail_au                    19439 non-null  float64\n",
            " 75  secondary_cleaner.output.tail_ag                    19437 non-null  float64\n",
            " 76  secondary_cleaner.output.tail_pb                    19427 non-null  float64\n",
            " 77  secondary_cleaner.output.tail_sol                   17691 non-null  float64\n",
            " 78  final.output.concentrate_au                         19439 non-null  float64\n",
            " 79  final.output.concentrate_ag                         19438 non-null  float64\n",
            " 80  final.output.concentrate_pb                         19438 non-null  float64\n",
            " 81  final.output.concentrate_sol                        19228 non-null  float64\n",
            " 82  final.output.recovery                               19439 non-null  float64\n",
            " 83  final.output.tail_au                                19439 non-null  float64\n",
            " 84  final.output.tail_ag                                19438 non-null  float64\n",
            " 85  final.output.tail_pb                                19338 non-null  float64\n",
            " 86  final.output.tail_sol                               19433 non-null  float64\n",
            "dtypes: float64(86), object(1)\n",
            "memory usage: 12.9+ MB\n"
          ]
        }
      ],
      "source": [
        "full_df.info()"
      ]
    },
    {
      "cell_type": "code",
      "execution_count": null,
      "metadata": {
        "id": "yy0R6rbfnizT",
        "outputId": "36ed8fb4-e8d5-4f53-eea9-48913d2d7a5c"
      },
      "outputs": [
        {
          "data": {
            "text/plain": [
              "87"
            ]
          },
          "execution_count": 12,
          "metadata": {},
          "output_type": "execute_result"
        }
      ],
      "source": [
        "full_df.columns.isin(train_df.columns).sum()"
      ]
    },
    {
      "cell_type": "markdown",
      "metadata": {
        "id": "enR-od_jnizV"
      },
      "source": [
        "**Вывод:** Данные представлены в 3х датафреймах, в тренировочном и полном по 87 колонок, в тестовом 52. Есть пропуски в данных."
      ]
    },
    {
      "cell_type": "markdown",
      "metadata": {
        "id": "5h79jikAnizX"
      },
      "source": [
        "### Предобработка"
      ]
    },
    {
      "cell_type": "markdown",
      "metadata": {
        "id": "9WOXaEw0nizY"
      },
      "source": [
        "#### Индексирование данных датой"
      ]
    },
    {
      "cell_type": "markdown",
      "metadata": {
        "id": "NEuHayQUnizY"
      },
      "source": [
        "Для удобства дальшейшего использования и сортировки удобнее всего вывести дату в индексы и удалить столбец с датой"
      ]
    },
    {
      "cell_type": "code",
      "execution_count": null,
      "metadata": {
        "id": "VjXW-2h0nizZ",
        "outputId": "59e76a16-c66a-485f-ed73-67d083c886cb"
      },
      "outputs": [
        {
          "data": {
            "text/html": [
              "<div>\n",
              "<style scoped>\n",
              "    .dataframe tbody tr th:only-of-type {\n",
              "        vertical-align: middle;\n",
              "    }\n",
              "\n",
              "    .dataframe tbody tr th {\n",
              "        vertical-align: top;\n",
              "    }\n",
              "\n",
              "    .dataframe thead th {\n",
              "        text-align: right;\n",
              "    }\n",
              "</style>\n",
              "<table border=\"1\" class=\"dataframe\">\n",
              "  <thead>\n",
              "    <tr style=\"text-align: right;\">\n",
              "      <th></th>\n",
              "      <th>rougher.input.feed_au</th>\n",
              "      <th>rougher.input.feed_ag</th>\n",
              "      <th>rougher.input.feed_pb</th>\n",
              "      <th>rougher.input.feed_sol</th>\n",
              "      <th>rougher.input.feed_rate</th>\n",
              "      <th>rougher.input.feed_size</th>\n",
              "      <th>rougher.input.floatbank10_sulfate</th>\n",
              "      <th>rougher.input.floatbank10_xanthate</th>\n",
              "      <th>rougher.state.floatbank10_a_air</th>\n",
              "      <th>rougher.state.floatbank10_a_level</th>\n",
              "      <th>...</th>\n",
              "      <th>secondary_cleaner.output.tail_sol</th>\n",
              "      <th>final.output.concentrate_au</th>\n",
              "      <th>final.output.concentrate_ag</th>\n",
              "      <th>final.output.concentrate_pb</th>\n",
              "      <th>final.output.concentrate_sol</th>\n",
              "      <th>final.output.recovery</th>\n",
              "      <th>final.output.tail_au</th>\n",
              "      <th>final.output.tail_ag</th>\n",
              "      <th>final.output.tail_pb</th>\n",
              "      <th>final.output.tail_sol</th>\n",
              "    </tr>\n",
              "    <tr>\n",
              "      <th>date</th>\n",
              "      <th></th>\n",
              "      <th></th>\n",
              "      <th></th>\n",
              "      <th></th>\n",
              "      <th></th>\n",
              "      <th></th>\n",
              "      <th></th>\n",
              "      <th></th>\n",
              "      <th></th>\n",
              "      <th></th>\n",
              "      <th></th>\n",
              "      <th></th>\n",
              "      <th></th>\n",
              "      <th></th>\n",
              "      <th></th>\n",
              "      <th></th>\n",
              "      <th></th>\n",
              "      <th></th>\n",
              "      <th></th>\n",
              "      <th></th>\n",
              "      <th></th>\n",
              "    </tr>\n",
              "  </thead>\n",
              "  <tbody>\n",
              "    <tr>\n",
              "      <th>2016-01-15 00:00:00</th>\n",
              "      <td>6.486150</td>\n",
              "      <td>6.100378</td>\n",
              "      <td>2.284912</td>\n",
              "      <td>36.808594</td>\n",
              "      <td>523.546326</td>\n",
              "      <td>55.486599</td>\n",
              "      <td>11.986616</td>\n",
              "      <td>6.007990</td>\n",
              "      <td>999.706909</td>\n",
              "      <td>-404.066986</td>\n",
              "      <td>...</td>\n",
              "      <td>8.764648</td>\n",
              "      <td>42.192020</td>\n",
              "      <td>6.055403</td>\n",
              "      <td>9.889648</td>\n",
              "      <td>5.507324</td>\n",
              "      <td>70.541216</td>\n",
              "      <td>2.143149</td>\n",
              "      <td>10.411962</td>\n",
              "      <td>0.895447</td>\n",
              "      <td>16.904297</td>\n",
              "    </tr>\n",
              "    <tr>\n",
              "      <th>2016-01-15 01:00:00</th>\n",
              "      <td>6.478583</td>\n",
              "      <td>6.161113</td>\n",
              "      <td>2.266033</td>\n",
              "      <td>35.753385</td>\n",
              "      <td>525.290581</td>\n",
              "      <td>57.278666</td>\n",
              "      <td>11.971193</td>\n",
              "      <td>6.005766</td>\n",
              "      <td>1000.286398</td>\n",
              "      <td>-400.065196</td>\n",
              "      <td>...</td>\n",
              "      <td>9.001494</td>\n",
              "      <td>42.701629</td>\n",
              "      <td>6.029369</td>\n",
              "      <td>9.968944</td>\n",
              "      <td>5.257781</td>\n",
              "      <td>69.266198</td>\n",
              "      <td>2.224930</td>\n",
              "      <td>10.462676</td>\n",
              "      <td>0.927452</td>\n",
              "      <td>16.634514</td>\n",
              "    </tr>\n",
              "  </tbody>\n",
              "</table>\n",
              "<p>2 rows × 86 columns</p>\n",
              "</div>"
            ],
            "text/plain": [
              "                     rougher.input.feed_au  rougher.input.feed_ag  \\\n",
              "date                                                                \n",
              "2016-01-15 00:00:00               6.486150               6.100378   \n",
              "2016-01-15 01:00:00               6.478583               6.161113   \n",
              "\n",
              "                     rougher.input.feed_pb  rougher.input.feed_sol  \\\n",
              "date                                                                 \n",
              "2016-01-15 00:00:00               2.284912               36.808594   \n",
              "2016-01-15 01:00:00               2.266033               35.753385   \n",
              "\n",
              "                     rougher.input.feed_rate  rougher.input.feed_size  \\\n",
              "date                                                                    \n",
              "2016-01-15 00:00:00               523.546326                55.486599   \n",
              "2016-01-15 01:00:00               525.290581                57.278666   \n",
              "\n",
              "                     rougher.input.floatbank10_sulfate  \\\n",
              "date                                                     \n",
              "2016-01-15 00:00:00                          11.986616   \n",
              "2016-01-15 01:00:00                          11.971193   \n",
              "\n",
              "                     rougher.input.floatbank10_xanthate  \\\n",
              "date                                                      \n",
              "2016-01-15 00:00:00                            6.007990   \n",
              "2016-01-15 01:00:00                            6.005766   \n",
              "\n",
              "                     rougher.state.floatbank10_a_air  \\\n",
              "date                                                   \n",
              "2016-01-15 00:00:00                       999.706909   \n",
              "2016-01-15 01:00:00                      1000.286398   \n",
              "\n",
              "                     rougher.state.floatbank10_a_level  ...  \\\n",
              "date                                                    ...   \n",
              "2016-01-15 00:00:00                        -404.066986  ...   \n",
              "2016-01-15 01:00:00                        -400.065196  ...   \n",
              "\n",
              "                     secondary_cleaner.output.tail_sol  \\\n",
              "date                                                     \n",
              "2016-01-15 00:00:00                           8.764648   \n",
              "2016-01-15 01:00:00                           9.001494   \n",
              "\n",
              "                     final.output.concentrate_au  final.output.concentrate_ag  \\\n",
              "date                                                                            \n",
              "2016-01-15 00:00:00                    42.192020                     6.055403   \n",
              "2016-01-15 01:00:00                    42.701629                     6.029369   \n",
              "\n",
              "                     final.output.concentrate_pb  \\\n",
              "date                                               \n",
              "2016-01-15 00:00:00                     9.889648   \n",
              "2016-01-15 01:00:00                     9.968944   \n",
              "\n",
              "                     final.output.concentrate_sol  final.output.recovery  \\\n",
              "date                                                                       \n",
              "2016-01-15 00:00:00                      5.507324              70.541216   \n",
              "2016-01-15 01:00:00                      5.257781              69.266198   \n",
              "\n",
              "                     final.output.tail_au  final.output.tail_ag  \\\n",
              "date                                                              \n",
              "2016-01-15 00:00:00              2.143149             10.411962   \n",
              "2016-01-15 01:00:00              2.224930             10.462676   \n",
              "\n",
              "                     final.output.tail_pb  final.output.tail_sol  \n",
              "date                                                              \n",
              "2016-01-15 00:00:00              0.895447              16.904297  \n",
              "2016-01-15 01:00:00              0.927452              16.634514  \n",
              "\n",
              "[2 rows x 86 columns]"
            ]
          },
          "execution_count": 13,
          "metadata": {},
          "output_type": "execute_result"
        }
      ],
      "source": [
        "train_df['date'] = pd.to_datetime(train_df['date'])\n",
        "train_df.index = train_df['date']\n",
        "train_df = train_df.drop(['date'], axis =1)\n",
        "train_df.sort_index()\n",
        "train_df.head(2)"
      ]
    },
    {
      "cell_type": "code",
      "execution_count": null,
      "metadata": {
        "id": "k7A_54RNniza",
        "outputId": "1a462dc9-e1c2-4c9b-cba9-80e5aa781423"
      },
      "outputs": [
        {
          "data": {
            "text/html": [
              "<div>\n",
              "<style scoped>\n",
              "    .dataframe tbody tr th:only-of-type {\n",
              "        vertical-align: middle;\n",
              "    }\n",
              "\n",
              "    .dataframe tbody tr th {\n",
              "        vertical-align: top;\n",
              "    }\n",
              "\n",
              "    .dataframe thead th {\n",
              "        text-align: right;\n",
              "    }\n",
              "</style>\n",
              "<table border=\"1\" class=\"dataframe\">\n",
              "  <thead>\n",
              "    <tr style=\"text-align: right;\">\n",
              "      <th></th>\n",
              "      <th>rougher.input.feed_au</th>\n",
              "      <th>rougher.input.feed_ag</th>\n",
              "      <th>rougher.input.feed_pb</th>\n",
              "      <th>rougher.input.feed_sol</th>\n",
              "      <th>rougher.input.feed_rate</th>\n",
              "      <th>rougher.input.feed_size</th>\n",
              "      <th>rougher.input.floatbank10_sulfate</th>\n",
              "      <th>rougher.input.floatbank10_xanthate</th>\n",
              "      <th>rougher.state.floatbank10_a_air</th>\n",
              "      <th>rougher.state.floatbank10_a_level</th>\n",
              "      <th>...</th>\n",
              "      <th>secondary_cleaner.state.floatbank4_a_air</th>\n",
              "      <th>secondary_cleaner.state.floatbank4_a_level</th>\n",
              "      <th>secondary_cleaner.state.floatbank4_b_air</th>\n",
              "      <th>secondary_cleaner.state.floatbank4_b_level</th>\n",
              "      <th>secondary_cleaner.state.floatbank5_a_air</th>\n",
              "      <th>secondary_cleaner.state.floatbank5_a_level</th>\n",
              "      <th>secondary_cleaner.state.floatbank5_b_air</th>\n",
              "      <th>secondary_cleaner.state.floatbank5_b_level</th>\n",
              "      <th>secondary_cleaner.state.floatbank6_a_air</th>\n",
              "      <th>secondary_cleaner.state.floatbank6_a_level</th>\n",
              "    </tr>\n",
              "    <tr>\n",
              "      <th>date</th>\n",
              "      <th></th>\n",
              "      <th></th>\n",
              "      <th></th>\n",
              "      <th></th>\n",
              "      <th></th>\n",
              "      <th></th>\n",
              "      <th></th>\n",
              "      <th></th>\n",
              "      <th></th>\n",
              "      <th></th>\n",
              "      <th></th>\n",
              "      <th></th>\n",
              "      <th></th>\n",
              "      <th></th>\n",
              "      <th></th>\n",
              "      <th></th>\n",
              "      <th></th>\n",
              "      <th></th>\n",
              "      <th></th>\n",
              "      <th></th>\n",
              "      <th></th>\n",
              "    </tr>\n",
              "  </thead>\n",
              "  <tbody>\n",
              "    <tr>\n",
              "      <th>2017-12-09 14:59:59</th>\n",
              "      <td>4.365491</td>\n",
              "      <td>6.158718</td>\n",
              "      <td>3.875727</td>\n",
              "      <td>39.135119</td>\n",
              "      <td>555.820208</td>\n",
              "      <td>94.544358</td>\n",
              "      <td>6.146982</td>\n",
              "      <td>9.308612</td>\n",
              "      <td>1196.238112</td>\n",
              "      <td>-299.862743</td>\n",
              "      <td>...</td>\n",
              "      <td>23.018622</td>\n",
              "      <td>-500.492702</td>\n",
              "      <td>20.020205</td>\n",
              "      <td>-500.220296</td>\n",
              "      <td>17.963512</td>\n",
              "      <td>-499.939490</td>\n",
              "      <td>12.990306</td>\n",
              "      <td>-500.080993</td>\n",
              "      <td>19.990336</td>\n",
              "      <td>-499.191575</td>\n",
              "    </tr>\n",
              "    <tr>\n",
              "      <th>2017-12-09 15:59:59</th>\n",
              "      <td>4.362781</td>\n",
              "      <td>6.048130</td>\n",
              "      <td>3.902537</td>\n",
              "      <td>39.713906</td>\n",
              "      <td>544.731687</td>\n",
              "      <td>123.742430</td>\n",
              "      <td>6.210119</td>\n",
              "      <td>9.297709</td>\n",
              "      <td>1201.904177</td>\n",
              "      <td>-299.907308</td>\n",
              "      <td>...</td>\n",
              "      <td>23.024963</td>\n",
              "      <td>-501.153409</td>\n",
              "      <td>20.054122</td>\n",
              "      <td>-500.314711</td>\n",
              "      <td>17.979515</td>\n",
              "      <td>-499.272871</td>\n",
              "      <td>12.992404</td>\n",
              "      <td>-499.976268</td>\n",
              "      <td>20.013986</td>\n",
              "      <td>-500.625471</td>\n",
              "    </tr>\n",
              "  </tbody>\n",
              "</table>\n",
              "<p>2 rows × 52 columns</p>\n",
              "</div>"
            ],
            "text/plain": [
              "                     rougher.input.feed_au  rougher.input.feed_ag  \\\n",
              "date                                                                \n",
              "2017-12-09 14:59:59               4.365491               6.158718   \n",
              "2017-12-09 15:59:59               4.362781               6.048130   \n",
              "\n",
              "                     rougher.input.feed_pb  rougher.input.feed_sol  \\\n",
              "date                                                                 \n",
              "2017-12-09 14:59:59               3.875727               39.135119   \n",
              "2017-12-09 15:59:59               3.902537               39.713906   \n",
              "\n",
              "                     rougher.input.feed_rate  rougher.input.feed_size  \\\n",
              "date                                                                    \n",
              "2017-12-09 14:59:59               555.820208                94.544358   \n",
              "2017-12-09 15:59:59               544.731687               123.742430   \n",
              "\n",
              "                     rougher.input.floatbank10_sulfate  \\\n",
              "date                                                     \n",
              "2017-12-09 14:59:59                           6.146982   \n",
              "2017-12-09 15:59:59                           6.210119   \n",
              "\n",
              "                     rougher.input.floatbank10_xanthate  \\\n",
              "date                                                      \n",
              "2017-12-09 14:59:59                            9.308612   \n",
              "2017-12-09 15:59:59                            9.297709   \n",
              "\n",
              "                     rougher.state.floatbank10_a_air  \\\n",
              "date                                                   \n",
              "2017-12-09 14:59:59                      1196.238112   \n",
              "2017-12-09 15:59:59                      1201.904177   \n",
              "\n",
              "                     rougher.state.floatbank10_a_level  ...  \\\n",
              "date                                                    ...   \n",
              "2017-12-09 14:59:59                        -299.862743  ...   \n",
              "2017-12-09 15:59:59                        -299.907308  ...   \n",
              "\n",
              "                     secondary_cleaner.state.floatbank4_a_air  \\\n",
              "date                                                            \n",
              "2017-12-09 14:59:59                                 23.018622   \n",
              "2017-12-09 15:59:59                                 23.024963   \n",
              "\n",
              "                     secondary_cleaner.state.floatbank4_a_level  \\\n",
              "date                                                              \n",
              "2017-12-09 14:59:59                                 -500.492702   \n",
              "2017-12-09 15:59:59                                 -501.153409   \n",
              "\n",
              "                     secondary_cleaner.state.floatbank4_b_air  \\\n",
              "date                                                            \n",
              "2017-12-09 14:59:59                                 20.020205   \n",
              "2017-12-09 15:59:59                                 20.054122   \n",
              "\n",
              "                     secondary_cleaner.state.floatbank4_b_level  \\\n",
              "date                                                              \n",
              "2017-12-09 14:59:59                                 -500.220296   \n",
              "2017-12-09 15:59:59                                 -500.314711   \n",
              "\n",
              "                     secondary_cleaner.state.floatbank5_a_air  \\\n",
              "date                                                            \n",
              "2017-12-09 14:59:59                                 17.963512   \n",
              "2017-12-09 15:59:59                                 17.979515   \n",
              "\n",
              "                     secondary_cleaner.state.floatbank5_a_level  \\\n",
              "date                                                              \n",
              "2017-12-09 14:59:59                                 -499.939490   \n",
              "2017-12-09 15:59:59                                 -499.272871   \n",
              "\n",
              "                     secondary_cleaner.state.floatbank5_b_air  \\\n",
              "date                                                            \n",
              "2017-12-09 14:59:59                                 12.990306   \n",
              "2017-12-09 15:59:59                                 12.992404   \n",
              "\n",
              "                     secondary_cleaner.state.floatbank5_b_level  \\\n",
              "date                                                              \n",
              "2017-12-09 14:59:59                                 -500.080993   \n",
              "2017-12-09 15:59:59                                 -499.976268   \n",
              "\n",
              "                     secondary_cleaner.state.floatbank6_a_air  \\\n",
              "date                                                            \n",
              "2017-12-09 14:59:59                                 19.990336   \n",
              "2017-12-09 15:59:59                                 20.013986   \n",
              "\n",
              "                     secondary_cleaner.state.floatbank6_a_level  \n",
              "date                                                             \n",
              "2017-12-09 14:59:59                                 -499.191575  \n",
              "2017-12-09 15:59:59                                 -500.625471  \n",
              "\n",
              "[2 rows x 52 columns]"
            ]
          },
          "execution_count": 14,
          "metadata": {},
          "output_type": "execute_result"
        }
      ],
      "source": [
        "test_df['date'] = pd.to_datetime(test_df['date'])\n",
        "test_df.index = test_df['date']\n",
        "test_df = test_df.drop(['date'], axis =1)\n",
        "train_df.sort_index()\n",
        "test_df.head(2)"
      ]
    },
    {
      "cell_type": "code",
      "execution_count": null,
      "metadata": {
        "id": "RblcAeUcnizb",
        "outputId": "b7755531-b93d-4b47-824d-2479840a623f"
      },
      "outputs": [
        {
          "data": {
            "text/html": [
              "<div>\n",
              "<style scoped>\n",
              "    .dataframe tbody tr th:only-of-type {\n",
              "        vertical-align: middle;\n",
              "    }\n",
              "\n",
              "    .dataframe tbody tr th {\n",
              "        vertical-align: top;\n",
              "    }\n",
              "\n",
              "    .dataframe thead th {\n",
              "        text-align: right;\n",
              "    }\n",
              "</style>\n",
              "<table border=\"1\" class=\"dataframe\">\n",
              "  <thead>\n",
              "    <tr style=\"text-align: right;\">\n",
              "      <th></th>\n",
              "      <th>rougher.input.feed_au</th>\n",
              "      <th>rougher.input.feed_ag</th>\n",
              "      <th>rougher.input.feed_pb</th>\n",
              "      <th>rougher.input.feed_sol</th>\n",
              "      <th>rougher.input.feed_rate</th>\n",
              "      <th>rougher.input.feed_size</th>\n",
              "      <th>rougher.input.floatbank10_sulfate</th>\n",
              "      <th>rougher.input.floatbank10_xanthate</th>\n",
              "      <th>rougher.state.floatbank10_a_air</th>\n",
              "      <th>rougher.state.floatbank10_a_level</th>\n",
              "      <th>...</th>\n",
              "      <th>secondary_cleaner.output.tail_sol</th>\n",
              "      <th>final.output.concentrate_au</th>\n",
              "      <th>final.output.concentrate_ag</th>\n",
              "      <th>final.output.concentrate_pb</th>\n",
              "      <th>final.output.concentrate_sol</th>\n",
              "      <th>final.output.recovery</th>\n",
              "      <th>final.output.tail_au</th>\n",
              "      <th>final.output.tail_ag</th>\n",
              "      <th>final.output.tail_pb</th>\n",
              "      <th>final.output.tail_sol</th>\n",
              "    </tr>\n",
              "    <tr>\n",
              "      <th>date</th>\n",
              "      <th></th>\n",
              "      <th></th>\n",
              "      <th></th>\n",
              "      <th></th>\n",
              "      <th></th>\n",
              "      <th></th>\n",
              "      <th></th>\n",
              "      <th></th>\n",
              "      <th></th>\n",
              "      <th></th>\n",
              "      <th></th>\n",
              "      <th></th>\n",
              "      <th></th>\n",
              "      <th></th>\n",
              "      <th></th>\n",
              "      <th></th>\n",
              "      <th></th>\n",
              "      <th></th>\n",
              "      <th></th>\n",
              "      <th></th>\n",
              "      <th></th>\n",
              "    </tr>\n",
              "  </thead>\n",
              "  <tbody>\n",
              "    <tr>\n",
              "      <th>2016-01-15 00:00:00</th>\n",
              "      <td>6.486150</td>\n",
              "      <td>6.100378</td>\n",
              "      <td>2.284912</td>\n",
              "      <td>36.808594</td>\n",
              "      <td>523.546326</td>\n",
              "      <td>55.486599</td>\n",
              "      <td>11.986616</td>\n",
              "      <td>6.007990</td>\n",
              "      <td>999.706909</td>\n",
              "      <td>-404.066986</td>\n",
              "      <td>...</td>\n",
              "      <td>8.764648</td>\n",
              "      <td>42.192020</td>\n",
              "      <td>6.055403</td>\n",
              "      <td>9.889648</td>\n",
              "      <td>5.507324</td>\n",
              "      <td>70.541216</td>\n",
              "      <td>2.143149</td>\n",
              "      <td>10.411962</td>\n",
              "      <td>0.895447</td>\n",
              "      <td>16.904297</td>\n",
              "    </tr>\n",
              "    <tr>\n",
              "      <th>2016-01-15 01:00:00</th>\n",
              "      <td>6.478583</td>\n",
              "      <td>6.161113</td>\n",
              "      <td>2.266033</td>\n",
              "      <td>35.753385</td>\n",
              "      <td>525.290581</td>\n",
              "      <td>57.278666</td>\n",
              "      <td>11.971193</td>\n",
              "      <td>6.005766</td>\n",
              "      <td>1000.286398</td>\n",
              "      <td>-400.065196</td>\n",
              "      <td>...</td>\n",
              "      <td>9.001494</td>\n",
              "      <td>42.701629</td>\n",
              "      <td>6.029369</td>\n",
              "      <td>9.968944</td>\n",
              "      <td>5.257781</td>\n",
              "      <td>69.266198</td>\n",
              "      <td>2.224930</td>\n",
              "      <td>10.462676</td>\n",
              "      <td>0.927452</td>\n",
              "      <td>16.634514</td>\n",
              "    </tr>\n",
              "  </tbody>\n",
              "</table>\n",
              "<p>2 rows × 86 columns</p>\n",
              "</div>"
            ],
            "text/plain": [
              "                     rougher.input.feed_au  rougher.input.feed_ag  \\\n",
              "date                                                                \n",
              "2016-01-15 00:00:00               6.486150               6.100378   \n",
              "2016-01-15 01:00:00               6.478583               6.161113   \n",
              "\n",
              "                     rougher.input.feed_pb  rougher.input.feed_sol  \\\n",
              "date                                                                 \n",
              "2016-01-15 00:00:00               2.284912               36.808594   \n",
              "2016-01-15 01:00:00               2.266033               35.753385   \n",
              "\n",
              "                     rougher.input.feed_rate  rougher.input.feed_size  \\\n",
              "date                                                                    \n",
              "2016-01-15 00:00:00               523.546326                55.486599   \n",
              "2016-01-15 01:00:00               525.290581                57.278666   \n",
              "\n",
              "                     rougher.input.floatbank10_sulfate  \\\n",
              "date                                                     \n",
              "2016-01-15 00:00:00                          11.986616   \n",
              "2016-01-15 01:00:00                          11.971193   \n",
              "\n",
              "                     rougher.input.floatbank10_xanthate  \\\n",
              "date                                                      \n",
              "2016-01-15 00:00:00                            6.007990   \n",
              "2016-01-15 01:00:00                            6.005766   \n",
              "\n",
              "                     rougher.state.floatbank10_a_air  \\\n",
              "date                                                   \n",
              "2016-01-15 00:00:00                       999.706909   \n",
              "2016-01-15 01:00:00                      1000.286398   \n",
              "\n",
              "                     rougher.state.floatbank10_a_level  ...  \\\n",
              "date                                                    ...   \n",
              "2016-01-15 00:00:00                        -404.066986  ...   \n",
              "2016-01-15 01:00:00                        -400.065196  ...   \n",
              "\n",
              "                     secondary_cleaner.output.tail_sol  \\\n",
              "date                                                     \n",
              "2016-01-15 00:00:00                           8.764648   \n",
              "2016-01-15 01:00:00                           9.001494   \n",
              "\n",
              "                     final.output.concentrate_au  final.output.concentrate_ag  \\\n",
              "date                                                                            \n",
              "2016-01-15 00:00:00                    42.192020                     6.055403   \n",
              "2016-01-15 01:00:00                    42.701629                     6.029369   \n",
              "\n",
              "                     final.output.concentrate_pb  \\\n",
              "date                                               \n",
              "2016-01-15 00:00:00                     9.889648   \n",
              "2016-01-15 01:00:00                     9.968944   \n",
              "\n",
              "                     final.output.concentrate_sol  final.output.recovery  \\\n",
              "date                                                                       \n",
              "2016-01-15 00:00:00                      5.507324              70.541216   \n",
              "2016-01-15 01:00:00                      5.257781              69.266198   \n",
              "\n",
              "                     final.output.tail_au  final.output.tail_ag  \\\n",
              "date                                                              \n",
              "2016-01-15 00:00:00              2.143149             10.411962   \n",
              "2016-01-15 01:00:00              2.224930             10.462676   \n",
              "\n",
              "                     final.output.tail_pb  final.output.tail_sol  \n",
              "date                                                              \n",
              "2016-01-15 00:00:00              0.895447              16.904297  \n",
              "2016-01-15 01:00:00              0.927452              16.634514  \n",
              "\n",
              "[2 rows x 86 columns]"
            ]
          },
          "execution_count": 15,
          "metadata": {},
          "output_type": "execute_result"
        }
      ],
      "source": [
        "full_df['date'] = pd.to_datetime(full_df['date'])\n",
        "full_df.index = full_df['date']\n",
        "full_df = full_df.drop(['date'], axis =1)\n",
        "train_df.sort_index()\n",
        "full_df.head(2)"
      ]
    },
    {
      "cell_type": "markdown",
      "metadata": {
        "id": "tfhQ0o91nizc"
      },
      "source": [
        "#### Анализ признаков, недоступных в тестовой выборке"
      ]
    },
    {
      "cell_type": "code",
      "execution_count": null,
      "metadata": {
        "scrolled": true,
        "id": "3crI-cdOnizd",
        "outputId": "ef7f4c91-30c1-4665-9b34-86b722978bae"
      },
      "outputs": [
        {
          "data": {
            "text/plain": [
              "['final.output.concentrate_ag',\n",
              " 'final.output.concentrate_au',\n",
              " 'final.output.concentrate_pb',\n",
              " 'final.output.concentrate_sol',\n",
              " 'final.output.recovery',\n",
              " 'final.output.tail_ag',\n",
              " 'final.output.tail_au',\n",
              " 'final.output.tail_pb',\n",
              " 'final.output.tail_sol',\n",
              " 'primary_cleaner.output.concentrate_ag',\n",
              " 'primary_cleaner.output.concentrate_au',\n",
              " 'primary_cleaner.output.concentrate_pb',\n",
              " 'primary_cleaner.output.concentrate_sol',\n",
              " 'primary_cleaner.output.tail_ag',\n",
              " 'primary_cleaner.output.tail_au',\n",
              " 'primary_cleaner.output.tail_pb',\n",
              " 'primary_cleaner.output.tail_sol',\n",
              " 'rougher.calculation.au_pb_ratio',\n",
              " 'rougher.calculation.floatbank10_sulfate_to_au_feed',\n",
              " 'rougher.calculation.floatbank11_sulfate_to_au_feed',\n",
              " 'rougher.calculation.sulfate_to_au_concentrate',\n",
              " 'rougher.output.concentrate_ag',\n",
              " 'rougher.output.concentrate_au',\n",
              " 'rougher.output.concentrate_pb',\n",
              " 'rougher.output.concentrate_sol',\n",
              " 'rougher.output.recovery',\n",
              " 'rougher.output.tail_ag',\n",
              " 'rougher.output.tail_au',\n",
              " 'rougher.output.tail_pb',\n",
              " 'rougher.output.tail_sol',\n",
              " 'secondary_cleaner.output.tail_ag',\n",
              " 'secondary_cleaner.output.tail_au',\n",
              " 'secondary_cleaner.output.tail_pb',\n",
              " 'secondary_cleaner.output.tail_sol']"
            ]
          },
          "execution_count": 16,
          "metadata": {},
          "output_type": "execute_result"
        }
      ],
      "source": [
        "warnings.filterwarnings(\"ignore\")\n",
        "hidden_columns = list(train_df.columns ^ test_df.columns)\n",
        "hidden_columns"
      ]
    },
    {
      "cell_type": "markdown",
      "metadata": {
        "id": "ZFE4o434nize"
      },
      "source": [
        "**Вывод:** Проанализировав признаки, недоступные в тестовой выборке можно сделать вывод, что это параметры, которые замеряются и/или рассчитываются значительно позже и результаты обработки металлов."
      ]
    },
    {
      "cell_type": "markdown",
      "metadata": {
        "id": "YkHWe2Wznizg"
      },
      "source": [
        "#### Заполнение пропусков в данных"
      ]
    },
    {
      "cell_type": "markdown",
      "metadata": {
        "id": "w43z_IkOnizg"
      },
      "source": [
        "Данные индексируются датой и временем получения информации. По информации от заказчика близкие по времени данные имеют похожие значения.Поэтому я приняла решение по заполнению пропусков в тренировочных данных ближайшими значениями, строки с пропусками в целевых значениях следует исключить."
      ]
    },
    {
      "cell_type": "code",
      "execution_count": null,
      "metadata": {
        "id": "nMYcWiYQnizh",
        "outputId": "e760300e-140d-4da4-c76a-1e9debbdd6c6"
      },
      "outputs": [
        {
          "data": {
            "text/plain": [
              "rougher.output.recovery    0\n",
              "final.output.recovery      0\n",
              "dtype: int64"
            ]
          },
          "execution_count": 17,
          "metadata": {},
          "output_type": "execute_result"
        }
      ],
      "source": [
        "train_df[['rougher.output.recovery', 'final.output.recovery']].isna().sum()"
      ]
    },
    {
      "cell_type": "code",
      "execution_count": null,
      "metadata": {
        "id": "JrQXPZUHnizi",
        "outputId": "c0159972-2214-4c26-de05-2619e8f3e1d8"
      },
      "outputs": [
        {
          "data": {
            "text/plain": [
              "rougher.input.feed_au      0\n",
              "rougher.input.feed_ag      0\n",
              "rougher.input.feed_pb      0\n",
              "rougher.input.feed_sol     0\n",
              "rougher.input.feed_rate    0\n",
              "                          ..\n",
              "final.output.recovery      0\n",
              "final.output.tail_au       0\n",
              "final.output.tail_ag       0\n",
              "final.output.tail_pb       0\n",
              "final.output.tail_sol      0\n",
              "Length: 86, dtype: int64"
            ]
          },
          "execution_count": 18,
          "metadata": {},
          "output_type": "execute_result"
        }
      ],
      "source": [
        "train_df = train_df.fillna(method='ffill')\n",
        "train_df.isna().sum()"
      ]
    },
    {
      "cell_type": "code",
      "execution_count": null,
      "metadata": {
        "id": "ocWjEKzvnizk",
        "outputId": "6114c165-6992-40ad-efa4-1d6ee461d403"
      },
      "outputs": [
        {
          "data": {
            "text/plain": [
              "(14579, 86)"
            ]
          },
          "execution_count": 19,
          "metadata": {},
          "output_type": "execute_result"
        }
      ],
      "source": [
        "train_df.shape"
      ]
    },
    {
      "cell_type": "markdown",
      "metadata": {
        "id": "GJF5Pj52nizm"
      },
      "source": [
        "**Вывод:** В данных отсутствовали пропуски в целевых столбцах. поэтому было выполнено только заполнение ячеек с признаками в тренировочном датасете."
      ]
    },
    {
      "cell_type": "markdown",
      "metadata": {
        "id": "3_o7Yz1anizn"
      },
      "source": [
        "#### Проверка эффективности обогащения"
      ]
    },
    {
      "cell_type": "markdown",
      "metadata": {
        "id": "oKEAF_qanizo"
      },
      "source": [
        "Для оценки качества предоставленных данных необходимо проверить, что эффективность обогащения рассчитана правильно. Необходимо вычислить её на обучающей выборке для признака rougher.output.recovery. Определить качество можно с помощью вычисления средней абсолютной ошибки - MAE между расчётами и значением признака."
      ]
    },
    {
      "cell_type": "markdown",
      "metadata": {
        "id": "m9stXKdWnizp"
      },
      "source": [
        "rougher.output.recovery (эффективность обогащения на флотации) можно расчитать по формуле\n",
        "\n",
        "Recovery = (C x (F-T))/(F x (C-T)) x 100%\n",
        "\n",
        "где:\n",
        "\n",
        "- C = доля золота (au) в концентрате (concentrate) после (output) флотации (rougher) - rougher.output.concentrate_au\n",
        "- F = доля золота в сырье (feed_au) до (input) флотации (rougher) - rougher.input.feed_au\n",
        "- T = доля золота в отвальных хвостах (tail_au) после (output) флотации (rougher) - rougher.output.tail_au"
      ]
    },
    {
      "cell_type": "code",
      "execution_count": null,
      "metadata": {
        "id": "NKLOAT1lni0Y"
      },
      "outputs": [],
      "source": [
        "C = train_df['rougher.output.concentrate_au']\n",
        "F = train_df['rougher.input.feed_au']\n",
        "T = train_df['rougher.output.tail_au']"
      ]
    },
    {
      "cell_type": "code",
      "execution_count": null,
      "metadata": {
        "id": "WRXpTchnni0Z",
        "outputId": "9d13d139-fb81-410d-c6b8-49a98b1ae381"
      },
      "outputs": [
        {
          "data": {
            "text/plain": [
              "82.52119968211336"
            ]
          },
          "execution_count": 21,
          "metadata": {},
          "output_type": "execute_result"
        }
      ],
      "source": [
        "train_df['rougher.output.recovery_calc'] = (C * (F-T))/(F * (C-T)) * 100\n",
        "train_df['rougher.output.recovery_calc'].mean()"
      ]
    },
    {
      "cell_type": "code",
      "execution_count": null,
      "metadata": {
        "id": "eusK48quni0b",
        "outputId": "cfd1e42b-d662-446d-e182-f04534433fb1"
      },
      "outputs": [
        {
          "data": {
            "text/plain": [
              "82.52119968211336"
            ]
          },
          "execution_count": 22,
          "metadata": {},
          "output_type": "execute_result"
        }
      ],
      "source": [
        "train_df['rougher.output.recovery'].mean()"
      ]
    },
    {
      "cell_type": "code",
      "execution_count": null,
      "metadata": {
        "id": "2Pbk_ik9ni0c",
        "outputId": "2d60282e-ca5c-4d72-c114-d80f76c03b6e"
      },
      "outputs": [
        {
          "data": {
            "text/plain": [
              "9.83758577644259e-15"
            ]
          },
          "execution_count": 23,
          "metadata": {},
          "output_type": "execute_result"
        }
      ],
      "source": [
        "mae(\n",
        "    train_df['rougher.output.recovery'],\n",
        "    train_df['rougher.output.recovery_calc']\n",
        ")"
      ]
    },
    {
      "cell_type": "code",
      "execution_count": null,
      "metadata": {
        "id": "f72Nb21wni0d"
      },
      "outputs": [],
      "source": [
        "train_df = train_df.drop(['rougher.output.recovery_calc'], axis=1)"
      ]
    },
    {
      "cell_type": "markdown",
      "metadata": {
        "id": "nC-S_uIini0f"
      },
      "source": [
        "**Вывод:** По итогам анализа средняя абсолютная ошибка (MAE) показала результат близкий к 0, что говорит о том, что в данных эффективность обагащения расчитана правильно."
      ]
    },
    {
      "cell_type": "markdown",
      "metadata": {
        "id": "x8yOaNJBni0h"
      },
      "source": [
        "## Анализ данных"
      ]
    },
    {
      "cell_type": "markdown",
      "metadata": {
        "id": "3FFX-OQdni0i"
      },
      "source": [
        "**Процесс производства:**\n",
        "\n",
        "Когда добытая руда проходит первичную обработку, получается дроблёная смесь. Её отправляют на флотацию (обогащение) и двухэтапную очистку.\n",
        "1. Флотация\n",
        "Во флотационную установку подаётся смесь золотосодержащей руды. После обогащения получается черновой концентрат и «отвальные хвосты», то есть остатки продукта с низкой концентрацией ценных металлов.\n",
        "На стабильность этого процесса влияет непостоянное и неоптимальное физико-химическое состояние флотационной пульпы (смеси твёрдых частиц и жидкости).\n",
        "2. Очистка\n",
        "Черновой концентрат проходит две очистки. На выходе получается финальный концентрат и новые отвальные хвосты."
      ]
    },
    {
      "cell_type": "markdown",
      "metadata": {
        "id": "pqNMtIxdni0j"
      },
      "source": [
        "### Анализ того, как меняется концентрация металлов (Au, Ag, Pb) на различных этапах очистки"
      ]
    },
    {
      "cell_type": "markdown",
      "metadata": {
        "id": "VZts9gOCni0k"
      },
      "source": [
        "#### Анализ концентрации Золота(Au) на разных этапах очистки"
      ]
    },
    {
      "cell_type": "code",
      "execution_count": null,
      "metadata": {
        "id": "GUxO44OMni0l",
        "outputId": "6dae2f38-3eb0-472f-a009-b521c726b50a"
      },
      "outputs": [
        {
          "name": "stdout",
          "output_type": "stream",
          "text": [
            "Среднее значение концентрации золота на этапах очистки:\n",
            "8.352940920963524\n",
            "19.71747030146708\n",
            "32.00753497230735\n",
            "43.97949926726813\n"
          ]
        }
      ],
      "source": [
        "print('Среднее значение концентрации золота на этапах очистки:')\n",
        "print(train_df['rougher.input.feed_au'].mean())\n",
        "print(train_df['rougher.output.concentrate_au'].mean())\n",
        "print(train_df['primary_cleaner.output.concentrate_au'].mean())\n",
        "print(train_df['final.output.concentrate_au'].mean())"
      ]
    },
    {
      "cell_type": "code",
      "execution_count": null,
      "metadata": {
        "id": "OwuGzHI3ni0m"
      },
      "outputs": [],
      "source": [
        "def concentrate_plot (stage_1, stage_2, stage_3, stage_4, name):\n",
        "    fig = plt.figure(figsize=(10, 5))\n",
        "    ax = fig.add_subplot()\n",
        "\n",
        "    ax.hist(stage_1, edgecolor='None', alpha = 0.5, color= 'yellow', label=\"Сырье\")\n",
        "    ax.hist(stage_2, edgecolor=\"None\", alpha = 0.5, color= 'green', label=\"Черновой концентрат\")\n",
        "    ax.hist(stage_3, edgecolor='None', alpha = 0.5, color= 'red', label=\"Первая очистка\")\n",
        "    ax.hist(stage_4, edgecolor='None', alpha = 0.5, color= 'blue', label=\"Финальный концентрат\")\n",
        "\n",
        "    plt.xlabel('concentrate', fontsize=12)\n",
        "    plt.ylabel('number', fontsize=12)\n",
        "    plt.title(name, fontsize=16)\n",
        "    plt.legend(fontsize=14)\n",
        "\n",
        "    plt.show()"
      ]
    },
    {
      "cell_type": "code",
      "execution_count": null,
      "metadata": {
        "id": "vuv2AfNBni0o",
        "outputId": "22edccb6-b3da-401e-fc50-0b524e635faf"
      },
      "outputs": [
        {
          "data": {
            "image/png": "[encoded data removed]",
            "text/plain": [
              "<Figure size 720x360 with 1 Axes>"
            ]
          },
          "metadata": {
            "needs_background": "light"
          },
          "output_type": "display_data"
        }
      ],
      "source": [
        "concentrate_plot(\n",
        "    train_df['rougher.input.feed_au'],\n",
        "    train_df['rougher.output.concentrate_au'],\n",
        "    train_df['primary_cleaner.output.concentrate_au'],\n",
        "    train_df['final.output.concentrate_au'],\n",
        "    'Анализ концентрации золота на разных этапах очистки'\n",
        ")"
      ]
    },
    {
      "cell_type": "code",
      "execution_count": null,
      "metadata": {
        "id": "6vfmzTfNni0q",
        "outputId": "09062b78-24e0-475b-85fa-31a450d4b24c"
      },
      "outputs": [
        {
          "name": "stdout",
          "output_type": "stream",
          "text": [
            "0.0099999997764825\n",
            "0.0\n",
            "0.0\n",
            "0.0\n"
          ]
        }
      ],
      "source": [
        "print(train_df['rougher.input.feed_au'].min())\n",
        "print(train_df['rougher.output.concentrate_au'].min())\n",
        "print(train_df['primary_cleaner.output.concentrate_au'].min())\n",
        "print(train_df['final.output.concentrate_au'].min())"
      ]
    },
    {
      "cell_type": "code",
      "execution_count": null,
      "metadata": {
        "id": "n8ckEgrTni0r"
      },
      "outputs": [],
      "source": [
        "train_df = train_df.loc[(\n",
        "    train_df['rougher.output.concentrate_au'] > 0)& (\n",
        "    train_df['primary_cleaner.output.concentrate_au'] > 0) & (\n",
        "    train_df['final.output.concentrate_au'] > 0)\n",
        "]"
      ]
    },
    {
      "cell_type": "code",
      "execution_count": null,
      "metadata": {
        "id": "hsuiW8Eyni0s",
        "outputId": "4c188415-91a5-4cc3-de05-8e5e3441ebcd"
      },
      "outputs": [
        {
          "name": "stdout",
          "output_type": "stream",
          "text": [
            "0.0099999997764825\n",
            "0.0099999997764825\n",
            "0.0099999997764825\n",
            "0.0099999997764825\n"
          ]
        }
      ],
      "source": [
        "print(train_df['rougher.input.feed_au'].min())\n",
        "print(train_df['rougher.output.concentrate_au'].min())\n",
        "print(train_df['primary_cleaner.output.concentrate_au'].min())\n",
        "print(train_df['final.output.concentrate_au'].min())"
      ]
    },
    {
      "cell_type": "code",
      "execution_count": null,
      "metadata": {
        "id": "O6LqMw8mni0t",
        "outputId": "03960955-41c2-457a-ab41-8111951dbb44"
      },
      "outputs": [
        {
          "name": "stdout",
          "output_type": "stream",
          "text": [
            "Среднее значение концентрации золота на этапах очистки:\n",
            "8.344555412800952\n",
            "20.26810308658852\n",
            "32.20998029325248\n",
            "44.26677857582459\n"
          ]
        }
      ],
      "source": [
        "print('Среднее значение концентрации золота на этапах очистки:')\n",
        "print(train_df['rougher.input.feed_au'].mean())\n",
        "print(train_df['rougher.output.concentrate_au'].mean())\n",
        "print(train_df['primary_cleaner.output.concentrate_au'].mean())\n",
        "print(train_df['final.output.concentrate_au'].mean())"
      ]
    },
    {
      "cell_type": "markdown",
      "metadata": {
        "id": "pe4ZG__yni0v"
      },
      "source": [
        "**Вывод:** Результаты анализа концентрации золота на разных этапах очистки показывают, что концентрация растет от этапа к этапу очистки и достигает максимальных значений на финальных замерах. Данные распределены нормально. Средние показатели концентрации меняются в среднем от 8.34 в исходном сырье до 44.27 на финальном."
      ]
    },
    {
      "cell_type": "markdown",
      "metadata": {
        "id": "faajK5Ouni0w"
      },
      "source": [
        "#### Анализ концентрации Серебра(Ag) на разных этапах очистки"
      ]
    },
    {
      "cell_type": "code",
      "execution_count": null,
      "metadata": {
        "id": "Pq484gWzni0x",
        "outputId": "65c25473-b482-49b3-e544-cf9c43b256e3"
      },
      "outputs": [
        {
          "name": "stdout",
          "output_type": "stream",
          "text": [
            "8.872197749602394\n",
            "12.282856207478627\n",
            "8.553669833075409\n",
            "5.234226036980026\n"
          ]
        }
      ],
      "source": [
        "print(train_df['rougher.input.feed_ag'].mean())\n",
        "print(train_df['rougher.output.concentrate_ag'].mean())\n",
        "print(train_df['primary_cleaner.output.concentrate_ag'].mean())\n",
        "print(train_df['final.output.concentrate_ag'].mean())"
      ]
    },
    {
      "cell_type": "code",
      "execution_count": null,
      "metadata": {
        "id": "jv32ZqJMni0y",
        "outputId": "d370830f-4099-4fa2-a5ef-f112df54e299"
      },
      "outputs": [
        {
          "name": "stdout",
          "output_type": "stream",
          "text": [
            "Среднее значение концентрации золота на этапах очистки:\n",
            "0.0099999997764825\n",
            "0.0099999997764825\n",
            "0.0099999997764825\n",
            "0.0099999997764825\n"
          ]
        }
      ],
      "source": [
        "print('Среднее значение концентрации золота на этапах очистки:')\n",
        "print(train_df['rougher.input.feed_au'].min())\n",
        "print(train_df['rougher.output.concentrate_au'].min())\n",
        "print(train_df['primary_cleaner.output.concentrate_au'].min())\n",
        "print(train_df['final.output.concentrate_au'].min())"
      ]
    },
    {
      "cell_type": "code",
      "execution_count": null,
      "metadata": {
        "id": "OBPWnWsvni00",
        "outputId": "48f3adb1-7c5e-4117-ec8b-e1d95fc30e9e"
      },
      "outputs": [
        {
          "data": {
            "text/plain": [
              "<function matplotlib.pyplot.show(close=None, block=None)>"
            ]
          },
          "execution_count": 34,
          "metadata": {},
          "output_type": "execute_result"
        },
        {
          "data": {
            "image/png": "[encoded data removed]",
            "text/plain": [
              "<Figure size 432x288 with 1 Axes>"
            ]
          },
          "metadata": {
            "needs_background": "light"
          },
          "output_type": "display_data"
        }
      ],
      "source": [
        "ag_mean = []\n",
        "ag_mean.append(train_df['rougher.input.feed_ag'].mean())\n",
        "ag_mean.append(train_df['rougher.output.concentrate_ag'].mean())\n",
        "ag_mean.append(train_df['primary_cleaner.output.concentrate_ag'].mean())\n",
        "ag_mean.append(train_df['final.output.concentrate_ag'].mean())\n",
        "plt.plot(ag_mean)\n",
        "plt.show"
      ]
    },
    {
      "cell_type": "code",
      "execution_count": null,
      "metadata": {
        "id": "0VMt7YbBni01",
        "outputId": "4e16c6d0-11f0-4558-ac5a-00d46c9b7e11"
      },
      "outputs": [
        {
          "data": {
            "image/png": "[encoded data removed]",
            "text/plain": [
              "<Figure size 720x360 with 1 Axes>"
            ]
          },
          "metadata": {
            "needs_background": "light"
          },
          "output_type": "display_data"
        }
      ],
      "source": [
        "concentrate_plot(\n",
        "    train_df['rougher.input.feed_ag'],\n",
        "    train_df['rougher.output.concentrate_ag'],\n",
        "    train_df['primary_cleaner.output.concentrate_ag'],\n",
        "    train_df['final.output.concentrate_ag'],\n",
        "    'Анализ концентрации серебра на разных этапах очистки'\n",
        ")"
      ]
    },
    {
      "cell_type": "markdown",
      "metadata": {
        "id": "AG6FaZpNni02"
      },
      "source": [
        "**Вывод:** Результаты анализа концентрации серебра на разных этапах очистки показывают, что концентрация металла существенно уменьшается на финальном этапе.\n",
        "\n",
        "\n",
        "Необходимо обратить внимание заказчика на имеющиеся проблемы с данными по серебру, скорее всего в них закралась ошибка"
      ]
    },
    {
      "cell_type": "markdown",
      "metadata": {
        "id": "oDBT66_mni03"
      },
      "source": [
        "#### Анализ концентрации Свинца(Pb) на разных этапах очистки"
      ]
    },
    {
      "cell_type": "code",
      "execution_count": null,
      "metadata": {
        "id": "njlJTlAini05",
        "outputId": "3508acf4-5937-4409-8f6f-1f30cc72960d"
      },
      "outputs": [
        {
          "name": "stdout",
          "output_type": "stream",
          "text": [
            "3.5853280231669955\n",
            "7.699265886688221\n",
            "9.7931997007007\n",
            "9.990775499812074\n"
          ]
        }
      ],
      "source": [
        "print(train_df['rougher.input.feed_pb'].mean())\n",
        "print(train_df['rougher.output.concentrate_pb'].mean())\n",
        "print(train_df['primary_cleaner.output.concentrate_pb'].mean())\n",
        "print(train_df['final.output.concentrate_pb'].mean())"
      ]
    },
    {
      "cell_type": "code",
      "execution_count": null,
      "metadata": {
        "id": "SRJUoHZAni06",
        "outputId": "9bee5b16-1291-452a-ba5b-8f35c77b2518"
      },
      "outputs": [
        {
          "name": "stdout",
          "output_type": "stream",
          "text": [
            "0.0099999997764825\n",
            "0.0099999997764825\n",
            "0.0\n",
            "0.0099999997764825\n"
          ]
        }
      ],
      "source": [
        "print(train_df['rougher.input.feed_pb'].min())\n",
        "print(train_df['rougher.output.concentrate_pb'].min())\n",
        "print(train_df['primary_cleaner.output.concentrate_pb'].min())\n",
        "print(train_df['final.output.concentrate_pb'].min())"
      ]
    },
    {
      "cell_type": "code",
      "execution_count": null,
      "metadata": {
        "id": "ZBZXaTVEni07",
        "outputId": "a9452c6b-1ca4-41cc-c713-0093517a74d4"
      },
      "outputs": [
        {
          "name": "stdout",
          "output_type": "stream",
          "text": [
            "0.0099999997764825\n"
          ]
        }
      ],
      "source": [
        "train_df = train_df.loc[train_df['primary_cleaner.output.concentrate_pb'] > 0]\n",
        "print(train_df['primary_cleaner.output.concentrate_pb'].min())"
      ]
    },
    {
      "cell_type": "code",
      "execution_count": null,
      "metadata": {
        "id": "wkXcY7G9ni08",
        "outputId": "d53fb3fe-e711-458f-f868-62e4a3a53759"
      },
      "outputs": [
        {
          "data": {
            "image/png": "[encoded data removed]",
            "text/plain": [
              "<Figure size 720x360 with 1 Axes>"
            ]
          },
          "metadata": {
            "needs_background": "light"
          },
          "output_type": "display_data"
        }
      ],
      "source": [
        "concentrate_plot(\n",
        "    train_df['rougher.input.feed_pb'],\n",
        "    train_df['rougher.output.concentrate_pb'],\n",
        "    train_df['primary_cleaner.output.concentrate_pb'],\n",
        "    train_df['final.output.concentrate_pb'],\n",
        "    'Анализ концентрации свинца на разных этапах очистки'\n",
        ")"
      ]
    },
    {
      "cell_type": "markdown",
      "metadata": {
        "id": "7hnjmgCNni0-"
      },
      "source": [
        "**Вывод:** Результаты анализа концентрации свинца на разных этапах очистки показывают, что концентрация растет от этапа к этапу очистки и достигает максимальных значений на финальных замерах. Разница между средними на последних этапах не существенна. Данные распределены нормально. Средние показатели концентрации меняются в среднем от 3.64 в исходном сырье до 9.96 на финальном."
      ]
    },
    {
      "cell_type": "markdown",
      "metadata": {
        "id": "ppjQ3wy7ni1A"
      },
      "source": [
        "### Сравнение распределения размеров гранул исходного сырья на обучающей и тестовой выборках."
      ]
    },
    {
      "cell_type": "markdown",
      "metadata": {
        "id": "FCvWL9xdni1B"
      },
      "source": [
        "Необходимо провести сравнение распределения размеров гранул исходного сырья на обучающей и тестовой выборках. Если распределения сильно отличаются друг от друга, оценка модели будет неправильной."
      ]
    },
    {
      "cell_type": "code",
      "execution_count": null,
      "metadata": {
        "id": "9gdOCOQGni1C",
        "outputId": "c7e8cc55-84fb-4d86-accd-1e105446d8a1"
      },
      "outputs": [
        {
          "data": {
            "image/png": "[encoded data removed]",
            "text/plain": [
              "<Figure size 720x216 with 1 Axes>"
            ]
          },
          "metadata": {
            "needs_background": "light"
          },
          "output_type": "display_data"
        }
      ],
      "source": [
        "plt.rcParams[\"figure.figsize\"] = [10, 3]\n",
        "sns.kdeplot(train_df['rougher.input.feed_size'], fill=True, alpha = 0.5, color= 'red', label=\"Тренировочная выборка\")\n",
        "sns.kdeplot(test_df['rougher.input.feed_size'], fill=True, alpha = 0.5, color= 'blue', label=\"Тестовая выборка\")\n",
        "plt.title('Распределения размеров гранул исходного сырья на обучающей и тестовой выборках', fontsize=16)\n",
        "\n",
        "plt.show()"
      ]
    },
    {
      "cell_type": "code",
      "execution_count": null,
      "metadata": {
        "id": "0V6bDNj8ni1D",
        "outputId": "d255467a-a0a0-4cd5-a8b1-d5c327433b14"
      },
      "outputs": [
        {
          "data": {
            "image/png": "[encoded data removed]",
            "text/plain": [
              "<Figure size 720x216 with 1 Axes>"
            ]
          },
          "metadata": {
            "needs_background": "light"
          },
          "output_type": "display_data"
        }
      ],
      "source": [
        "plt.rcParams[\"figure.figsize\"] = [10, 3]\n",
        "\n",
        "data_boxplot = pd.DataFrame({\"Train\": train_df['rougher.input.feed_size'], \"Test\": test_df['rougher.input.feed_size']})\n",
        "ax = data_boxplot[['Train', 'Test']].plot(kind='box', title='boxplot', vert=False)\n",
        "plt.title('Распределения размеров гранул исходного сырья на обучающей и тестовой выборках', fontsize=16)\n",
        "\n",
        "plt.show()"
      ]
    },
    {
      "cell_type": "markdown",
      "metadata": {
        "id": "kLRrVIDYni1F"
      },
      "source": [
        "**Вывод:** По итогам сравнение распределения размеров гранул исходного сырья на обучающей и тестовой выборках можно сделать вывод, они не отличаются друг от друга и не повлияют на оценку модели."
      ]
    },
    {
      "cell_type": "markdown",
      "metadata": {
        "id": "a4b1wlfwni1H"
      },
      "source": [
        "### Исследование суммарной концентрации металлов на разных стадиях: в сырье, в черновом концентрате, в концентрате после первой очистки и в финальном концентрате."
      ]
    },
    {
      "cell_type": "markdown",
      "metadata": {
        "id": "iD6p3QN_ni1I"
      },
      "source": [
        "Для удобства анализа удобно объединить данные об итогах каждого этапа в отдельной таблице"
      ]
    },
    {
      "cell_type": "code",
      "execution_count": null,
      "metadata": {
        "id": "WVwGbzYbni1J",
        "outputId": "5aebc559-efdc-429f-af66-353b20ba1ba1"
      },
      "outputs": [
        {
          "data": {
            "text/html": [
              "<div>\n",
              "<style scoped>\n",
              "    .dataframe tbody tr th:only-of-type {\n",
              "        vertical-align: middle;\n",
              "    }\n",
              "\n",
              "    .dataframe tbody tr th {\n",
              "        vertical-align: top;\n",
              "    }\n",
              "\n",
              "    .dataframe thead th {\n",
              "        text-align: right;\n",
              "    }\n",
              "</style>\n",
              "<table border=\"1\" class=\"dataframe\">\n",
              "  <thead>\n",
              "    <tr style=\"text-align: right;\">\n",
              "      <th></th>\n",
              "      <th>rougher.input.feed_sum</th>\n",
              "      <th>rougher.output.concentrate_sum</th>\n",
              "      <th>primary_cleaner.output.concentrate_sum</th>\n",
              "      <th>final.output.concentrate_sum</th>\n",
              "    </tr>\n",
              "    <tr>\n",
              "      <th>date</th>\n",
              "      <th></th>\n",
              "      <th></th>\n",
              "      <th></th>\n",
              "      <th></th>\n",
              "    </tr>\n",
              "  </thead>\n",
              "  <tbody>\n",
              "    <tr>\n",
              "      <th>2016-01-15 00:00:00</th>\n",
              "      <td>19.458449</td>\n",
              "      <td>38.395653</td>\n",
              "      <td>53.111627</td>\n",
              "      <td>58.137072</td>\n",
              "    </tr>\n",
              "    <tr>\n",
              "      <th>2016-01-15 01:00:00</th>\n",
              "      <td>19.435748</td>\n",
              "      <td>38.945647</td>\n",
              "      <td>53.174338</td>\n",
              "      <td>58.699942</td>\n",
              "    </tr>\n",
              "    <tr>\n",
              "      <th>2016-01-15 02:00:00</th>\n",
              "      <td>19.086666</td>\n",
              "      <td>38.649756</td>\n",
              "      <td>52.927464</td>\n",
              "      <td>58.927421</td>\n",
              "    </tr>\n",
              "    <tr>\n",
              "      <th>2016-01-15 03:00:00</th>\n",
              "      <td>18.354568</td>\n",
              "      <td>38.411473</td>\n",
              "      <td>43.979185</td>\n",
              "      <td>58.714815</td>\n",
              "    </tr>\n",
              "    <tr>\n",
              "      <th>2016-01-15 04:00:00</th>\n",
              "      <td>16.991120</td>\n",
              "      <td>38.867359</td>\n",
              "      <td>52.121146</td>\n",
              "      <td>59.065251</td>\n",
              "    </tr>\n",
              "  </tbody>\n",
              "</table>\n",
              "</div>"
            ],
            "text/plain": [
              "                     rougher.input.feed_sum  rougher.output.concentrate_sum  \\\n",
              "date                                                                          \n",
              "2016-01-15 00:00:00               19.458449                       38.395653   \n",
              "2016-01-15 01:00:00               19.435748                       38.945647   \n",
              "2016-01-15 02:00:00               19.086666                       38.649756   \n",
              "2016-01-15 03:00:00               18.354568                       38.411473   \n",
              "2016-01-15 04:00:00               16.991120                       38.867359   \n",
              "\n",
              "                     primary_cleaner.output.concentrate_sum  \\\n",
              "date                                                          \n",
              "2016-01-15 00:00:00                               53.111627   \n",
              "2016-01-15 01:00:00                               53.174338   \n",
              "2016-01-15 02:00:00                               52.927464   \n",
              "2016-01-15 03:00:00                               43.979185   \n",
              "2016-01-15 04:00:00                               52.121146   \n",
              "\n",
              "                     final.output.concentrate_sum  \n",
              "date                                               \n",
              "2016-01-15 00:00:00                     58.137072  \n",
              "2016-01-15 01:00:00                     58.699942  \n",
              "2016-01-15 02:00:00                     58.927421  \n",
              "2016-01-15 03:00:00                     58.714815  \n",
              "2016-01-15 04:00:00                     59.065251  "
            ]
          },
          "execution_count": 42,
          "metadata": {},
          "output_type": "execute_result"
        }
      ],
      "source": [
        "df_sum = pd.DataFrame(index = train_df.index)\n",
        "\n",
        "df_sum['rougher.input.feed_sum'] = (\n",
        "    train_df['rougher.input.feed_au'] + train_df['rougher.input.feed_au'] + train_df['rougher.input.feed_au']\n",
        ")\n",
        "\n",
        "df_sum['rougher.output.concentrate_sum'] = (\n",
        "    train_df['rougher.output.concentrate_au'] + train_df['rougher.output.concentrate_ag'] + train_df['rougher.output.concentrate_pb']\n",
        ")\n",
        "\n",
        "df_sum['primary_cleaner.output.concentrate_sum'] = (\n",
        "    train_df['primary_cleaner.output.concentrate_au'] + train_df['primary_cleaner.output.concentrate_ag'] + train_df['primary_cleaner.output.concentrate_pb']\n",
        ")\n",
        "\n",
        "\n",
        "df_sum['final.output.concentrate_sum'] = (\n",
        "    train_df['final.output.concentrate_au'] + train_df['final.output.concentrate_ag'] + train_df['final.output.concentrate_pb']\n",
        ")\n",
        "\n",
        "df_sum.head()"
      ]
    },
    {
      "cell_type": "code",
      "execution_count": null,
      "metadata": {
        "id": "_dqHxFW7ni1K",
        "outputId": "d9fd77e1-0019-44a0-b3dc-2b24f3df78b3"
      },
      "outputs": [
        {
          "data": {
            "image/png": "[encoded data removed]",
            "text/plain": [
              "<Figure size 720x360 with 1 Axes>"
            ]
          },
          "metadata": {
            "needs_background": "light"
          },
          "output_type": "display_data"
        }
      ],
      "source": [
        "concentrate_plot(\n",
        "    df_sum['rougher.input.feed_sum'],\n",
        "    df_sum['rougher.output.concentrate_sum'],\n",
        "    df_sum['primary_cleaner.output.concentrate_sum'],\n",
        "    df_sum['final.output.concentrate_sum'],\n",
        "    'Анализ суммарной концентрации металлов на разных стадиях'\n",
        ")"
      ]
    },
    {
      "cell_type": "markdown",
      "metadata": {
        "id": "7CAZpYTani1M"
      },
      "source": [
        "**Вывод:** Результаты анализа концентрации всех металлов на разных этапах очистки показывают, что концентрация растет от этапа к этапу очистки и достигает максимальных значений на финальных замерах. Данные распределены нормально."
      ]
    },
    {
      "cell_type": "code",
      "execution_count": null,
      "metadata": {
        "id": "92-PjOI0ni1U",
        "outputId": "54034ddc-3aae-4b20-c552-ca4857fa759e"
      },
      "outputs": [
        {
          "name": "stdout",
          "output_type": "stream",
          "text": [
            "0.029999999329447503\n",
            "0.029999999329447503\n",
            "0.029999999329447503\n",
            "0.029999999329447503\n"
          ]
        }
      ],
      "source": [
        "print(df_sum['rougher.input.feed_sum'].min())\n",
        "print(df_sum['rougher.output.concentrate_sum'].min())\n",
        "print(df_sum['primary_cleaner.output.concentrate_sum'].min())\n",
        "print(df_sum['final.output.concentrate_sum'].min())"
      ]
    },
    {
      "cell_type": "markdown",
      "metadata": {
        "id": "JXg5JHoyni1W"
      },
      "source": [
        "## Модель"
      ]
    },
    {
      "cell_type": "markdown",
      "metadata": {
        "id": "RphSXwUcni1X"
      },
      "source": [
        "Для решения задачи нужно спрогнозировать две величины:\n",
        "эффективность обогащения чернового концентрата rougher.output.recovery;\n",
        "эффективность обогащения финального концентрата final.output.recovery.\n",
        "Итоговая метрика складывается из двух величин"
      ]
    },
    {
      "cell_type": "markdown",
      "metadata": {
        "id": "LzdCyXrLni1Y"
      },
      "source": [
        "#### Разделение тренировочных данных на признаки и целевые"
      ]
    },
    {
      "cell_type": "code",
      "execution_count": null,
      "metadata": {
        "id": "bzED6shtni1Z",
        "outputId": "5b97d74b-6efa-4b32-8e16-6e32789e0eff"
      },
      "outputs": [
        {
          "data": {
            "text/plain": [
              "(13982, 52)"
            ]
          },
          "execution_count": 45,
          "metadata": {},
          "output_type": "execute_result"
        }
      ],
      "source": [
        "train_df_features = train_df.drop(hidden_columns, axis=1)\n",
        "train_df_features.shape"
      ]
    },
    {
      "cell_type": "code",
      "execution_count": null,
      "metadata": {
        "id": "HNdmN3hEni1a"
      },
      "outputs": [],
      "source": [
        "train_df_target = train_df[['rougher.output.recovery', 'final.output.recovery']]"
      ]
    },
    {
      "cell_type": "code",
      "execution_count": null,
      "metadata": {
        "id": "lVw0Uwg-ni1b",
        "outputId": "2e5c98c9-13d8-44cd-e42f-53dfd121a1c4"
      },
      "outputs": [
        {
          "data": {
            "text/plain": [
              "(13982, 2)"
            ]
          },
          "execution_count": 47,
          "metadata": {},
          "output_type": "execute_result"
        }
      ],
      "source": [
        "train_df_target.shape"
      ]
    },
    {
      "cell_type": "code",
      "execution_count": null,
      "metadata": {
        "id": "IY8IKUtbni1d",
        "outputId": "e9bfd849-0383-4251-f571-848c645200b9"
      },
      "outputs": [
        {
          "name": "stdout",
          "output_type": "stream",
          "text": [
            "<class 'pandas.core.frame.DataFrame'>\n",
            "DatetimeIndex: 13982 entries, 2016-01-15 00:00:00 to 2017-12-09 13:59:59\n",
            "Data columns (total 2 columns):\n",
            " #   Column                   Non-Null Count  Dtype  \n",
            "---  ------                   --------------  -----  \n",
            " 0   rougher.output.recovery  13982 non-null  float64\n",
            " 1   final.output.recovery    13982 non-null  float64\n",
            "dtypes: float64(2)\n",
            "memory usage: 843.7 KB\n"
          ]
        }
      ],
      "source": [
        "train_df_target.info()"
      ]
    },
    {
      "cell_type": "code",
      "execution_count": null,
      "metadata": {
        "id": "8sRknK5Qni1e"
      },
      "outputs": [],
      "source": [
        "train_df_target1 = np.array(train_df_target)"
      ]
    },
    {
      "cell_type": "markdown",
      "metadata": {
        "id": "cdI6QNi7ni1f"
      },
      "source": [
        "### Функция для вычисления итоговой sMAPE."
      ]
    },
    {
      "cell_type": "code",
      "execution_count": null,
      "metadata": {
        "id": "Rw8WS7_Dni1g"
      },
      "outputs": [],
      "source": [
        "def smape(target, predictions):\n",
        "    numerator = np.abs(predictions-target)\n",
        "    denominator = (np.abs(target) + np.abs(predictions))/2\n",
        "    return 1/len(target) * np.sum(numerator/denominator) *100"
      ]
    },
    {
      "cell_type": "code",
      "execution_count": null,
      "metadata": {
        "id": "kL5qDBAtni1g"
      },
      "outputs": [],
      "source": [
        "def result_smape1(target, predictions):\n",
        "    target_rougher = target[:,0]\n",
        "    target_final = target[:,1]\n",
        "\n",
        "    predictions_rouger = predictions[:,0]\n",
        "    predictions_final = predictions[:,1]\n",
        "\n",
        "    return 0.25*smape(target_rougher,predictions_rouger) + 0.75*smape(target_final,predictions_final)"
      ]
    },
    {
      "cell_type": "code",
      "execution_count": null,
      "metadata": {
        "id": "0C1DlvP7ni1h"
      },
      "outputs": [],
      "source": [
        "score_smape = make_scorer(result_smape1, greater_is_better=False)"
      ]
    },
    {
      "cell_type": "markdown",
      "metadata": {
        "id": "arTcHO0_ni1k"
      },
      "source": [
        "### Обучение моделей"
      ]
    },
    {
      "cell_type": "markdown",
      "metadata": {
        "id": "q-NwDKDZni1l"
      },
      "source": [
        "Нужно спрогнозировать сразу две величины:\n",
        "эффективность обогащения чернового концентрата rougher.output.recovery;\n",
        "эффективность обогащения финального концентрата final.output.recovery."
      ]
    },
    {
      "cell_type": "markdown",
      "metadata": {
        "id": "nXxa3nuSni1l"
      },
      "source": [
        "#### Обучение модели Дерево решений"
      ]
    },
    {
      "cell_type": "code",
      "execution_count": null,
      "metadata": {
        "id": "qhPf-z8Rni1m"
      },
      "outputs": [],
      "source": [
        "model_tree = DecisionTreeRegressor(random_state=12345)\n",
        "param_grid_tree = {'max_depth': range (1,13, 2),\n",
        "              'min_samples_leaf': range (1,8),\n",
        "              'min_samples_split': range (2,10,2) }\n",
        "\n",
        "grid_tree = GridSearchCV(model_tree, param_grid_tree, cv=5, scoring=score_smape, n_jobs=-1)\n",
        "best_tree_grid = grid_tree.fit(train_df_features,train_df_target1)"
      ]
    },
    {
      "cell_type": "code",
      "execution_count": null,
      "metadata": {
        "id": "XC4ZjERpni1p",
        "outputId": "d37568d0-4238-4c1e-dec1-0b9ff69c469f"
      },
      "outputs": [
        {
          "data": {
            "text/plain": [
              "{'max_depth': 3, 'min_samples_leaf': 1, 'min_samples_split': 2}"
            ]
          },
          "execution_count": 54,
          "metadata": {},
          "output_type": "execute_result"
        }
      ],
      "source": [
        "best_param_grid_tree = best_tree_grid.best_params_\n",
        "best_param_grid_tree"
      ]
    },
    {
      "cell_type": "code",
      "execution_count": null,
      "metadata": {
        "id": "sqFrPSPeni1r",
        "outputId": "d7880492-0ff2-47fc-f2e9-d637b63d41e6"
      },
      "outputs": [
        {
          "name": "stdout",
          "output_type": "stream",
          "text": [
            "sMAPE для модели Дерево решений = 8.744157167179827\n"
          ]
        }
      ],
      "source": [
        "smape_tree = -best_tree_grid.best_score_\n",
        "print('sMAPE для модели Дерево решений =', smape_tree)"
      ]
    },
    {
      "cell_type": "markdown",
      "metadata": {
        "id": "RV5YNsUzni1s"
      },
      "source": [
        "#### Обучение модели случайного леса"
      ]
    },
    {
      "cell_type": "code",
      "execution_count": null,
      "metadata": {
        "id": "FyDoeQfzni1t"
      },
      "outputs": [],
      "source": [
        "model_forest = RandomForestRegressor(random_state=12345)\n",
        "param_grid_forest = { 'n_estimators': [50,100],\n",
        "              'max_depth': [3,7,11]}\n",
        "\n",
        "grid_search_forest = GridSearchCV(model_forest, param_grid_forest, cv=5, scoring=score_smape, n_jobs=-1)\n",
        "best_grid_forest = grid_search_forest.fit(train_df_features,train_df_target1)"
      ]
    },
    {
      "cell_type": "code",
      "execution_count": null,
      "metadata": {
        "id": "juGl-T-nni1u",
        "outputId": "04f81dc5-3e3e-4337-9f13-14759457d708"
      },
      "outputs": [
        {
          "data": {
            "text/plain": [
              "{'max_depth': 3, 'n_estimators': 50}"
            ]
          },
          "execution_count": 72,
          "metadata": {},
          "output_type": "execute_result"
        }
      ],
      "source": [
        "best_param_grid_forest = best_grid_forest.best_params_\n",
        "best_param_grid_forest"
      ]
    },
    {
      "cell_type": "code",
      "execution_count": null,
      "metadata": {
        "id": "_PS-E7Jqni1w",
        "outputId": "ed53829a-8691-4e13-c5d8-3ddae82c9458"
      },
      "outputs": [
        {
          "name": "stdout",
          "output_type": "stream",
          "text": [
            "sMAPE для модели Случайного леса = 8.521468272886658\n"
          ]
        }
      ],
      "source": [
        "smape_forest = -best_grid_forest.best_score_\n",
        "print('sMAPE для модели Случайного леса =', smape_forest)"
      ]
    },
    {
      "cell_type": "markdown",
      "metadata": {
        "id": "_eSkUMY1ni1x"
      },
      "source": [
        "#### Обучение модели Линейной регрессии"
      ]
    },
    {
      "cell_type": "code",
      "execution_count": null,
      "metadata": {
        "id": "TPL3CrUPni1y"
      },
      "outputs": [],
      "source": [
        "model_line = LinearRegression()\n",
        "scores_line = (cross_val_score(\n",
        "    model_line, train_df_features, train_df_target1, cv=5, scoring=score_smape)\n",
        "              ).mean()"
      ]
    },
    {
      "cell_type": "code",
      "execution_count": null,
      "metadata": {
        "id": "xZGjCPwmni10",
        "outputId": "82422aed-9114-4440-b46a-029d266b6f95"
      },
      "outputs": [
        {
          "name": "stdout",
          "output_type": "stream",
          "text": [
            "sMAPE для модели Линейной регрессии = 8.866318998589017\n"
          ]
        }
      ],
      "source": [
        "smape_line = -scores_line\n",
        "print('sMAPE для модели Линейной регрессии =', smape_line)"
      ]
    },
    {
      "cell_type": "markdown",
      "metadata": {
        "id": "Y_77MQvqni11"
      },
      "source": [
        "**Вывод:** По метрике sMAPE наилучший результат показала модель Случайного леса с параметрами 'max_depth': 3, 'n_estimators': 50. Ее оценка 8.5\n",
        "Следует протестировать ее на тестовом датасете."
      ]
    },
    {
      "cell_type": "markdown",
      "metadata": {
        "id": "iv7io8b6ni13"
      },
      "source": [
        "#### Тестирование лучшей модели"
      ]
    },
    {
      "cell_type": "markdown",
      "metadata": {
        "id": "xRfEXvqPni14"
      },
      "source": [
        "Подготовка целевых признаков для тестовых данных:"
      ]
    },
    {
      "cell_type": "code",
      "execution_count": null,
      "metadata": {
        "id": "V39RUp0Vni15",
        "outputId": "c70b111b-511d-4a01-eb20-cc17c5fcf66e"
      },
      "outputs": [
        {
          "data": {
            "text/plain": [
              "(4860, 2)"
            ]
          },
          "execution_count": 61,
          "metadata": {},
          "output_type": "execute_result"
        }
      ],
      "source": [
        "test_df_target = full_df[['rougher.output.recovery', 'final.output.recovery']]\n",
        "test_df_target = test_df_target[test_df_target.index.isin(test_df.index)]\n",
        "test_df_target.shape"
      ]
    },
    {
      "cell_type": "code",
      "execution_count": null,
      "metadata": {
        "id": "1nVTNnLoni16",
        "outputId": "6b2f440c-d5eb-4ae3-c1ab-b4f5668db21b"
      },
      "outputs": [
        {
          "data": {
            "text/plain": [
              "18.49144626964551"
            ]
          },
          "execution_count": 62,
          "metadata": {},
          "output_type": "execute_result"
        }
      ],
      "source": [
        "test_df_target['rougher.output.recovery'].min()"
      ]
    },
    {
      "cell_type": "code",
      "execution_count": null,
      "metadata": {
        "id": "E-zKTp1vni17",
        "outputId": "4123d902-e3d4-4e76-8efb-7f88b6ed1028"
      },
      "outputs": [
        {
          "data": {
            "text/plain": [
              "5.586496367402162"
            ]
          },
          "execution_count": 63,
          "metadata": {},
          "output_type": "execute_result"
        }
      ],
      "source": [
        "test_df_target['final.output.recovery'].min()"
      ]
    },
    {
      "cell_type": "code",
      "execution_count": null,
      "metadata": {
        "id": "UcD0rNQOni18"
      },
      "outputs": [],
      "source": [
        "test_df = test_df.fillna(method='ffill')"
      ]
    },
    {
      "cell_type": "code",
      "execution_count": null,
      "metadata": {
        "id": "r5KpXBo9ni1-"
      },
      "outputs": [],
      "source": [
        "test_df_target = np.array(test_df_target)"
      ]
    },
    {
      "cell_type": "code",
      "execution_count": null,
      "metadata": {
        "id": "wZHL9kZini1_",
        "outputId": "13b6968e-2f22-47bd-99de-adac62d888ce"
      },
      "outputs": [
        {
          "data": {
            "text/plain": [
              "RandomForestRegressor(max_depth=3, n_estimators=50, random_state=12345)"
            ]
          },
          "execution_count": 66,
          "metadata": {},
          "output_type": "execute_result"
        }
      ],
      "source": [
        "best_model_forest = RandomForestRegressor(random_state=12345, max_depth=3, n_estimators=50)\n",
        "best_model_forest.fit(train_df_features,train_df_target1)"
      ]
    },
    {
      "cell_type": "code",
      "execution_count": null,
      "metadata": {
        "id": "Qe45gRk3ni2A"
      },
      "outputs": [],
      "source": [
        "test_predictions = best_model_forest.predict(test_df)"
      ]
    },
    {
      "cell_type": "code",
      "execution_count": null,
      "metadata": {
        "id": "vKhtN_jani2B",
        "outputId": "c1cd4071-6c87-41a4-d840-95398c6191c8"
      },
      "outputs": [
        {
          "data": {
            "text/plain": [
              "7.433703125930855"
            ]
          },
          "execution_count": 68,
          "metadata": {},
          "output_type": "execute_result"
        }
      ],
      "source": [
        "result_smape1(test_df_target,test_predictions)"
      ]
    },
    {
      "cell_type": "markdown",
      "metadata": {
        "id": "tmupNizlni2D"
      },
      "source": [
        "**Вывод:** Модель показала результат на тестовых данных 7.43 - лучше, чем на тренировочных."
      ]
    },
    {
      "cell_type": "markdown",
      "metadata": {
        "id": "OoGoVFY_ni2E"
      },
      "source": [
        "#### Тестирование данных на dummy модели"
      ]
    },
    {
      "cell_type": "markdown",
      "source": [
        "Сравним результаты модели с константной, заполненной средним из обучающего набора."
      ],
      "metadata": {
        "id": "2pNbYge_tPFk"
      }
    },
    {
      "cell_type": "code",
      "execution_count": null,
      "metadata": {
        "id": "W-lb6Zcbni2F",
        "outputId": "58e4ba9c-ecb6-4be2-833d-cf6361d1fd3f"
      },
      "outputs": [
        {
          "data": {
            "text/plain": [
              "DummyRegressor()"
            ]
          },
          "execution_count": 69,
          "metadata": {},
          "output_type": "execute_result"
        }
      ],
      "source": [
        "dummy_model = DummyRegressor(strategy = 'mean')\n",
        "dummy_model.fit(train_df_features,train_df_target1)"
      ]
    },
    {
      "cell_type": "code",
      "execution_count": null,
      "metadata": {
        "id": "DE51FsUcni2H",
        "outputId": "741a8201-403c-428a-f035-e7824c63ffa1"
      },
      "outputs": [
        {
          "data": {
            "text/plain": [
              "8.471903961218088"
            ]
          },
          "execution_count": 70,
          "metadata": {},
          "output_type": "execute_result"
        }
      ],
      "source": [
        "dummy_predictions = dummy_model.predict(test_df)\n",
        "result_smape1(test_df_target,dummy_predictions)"
      ]
    },
    {
      "cell_type": "markdown",
      "metadata": {
        "id": "G9CNWQyfni2I"
      },
      "source": [
        "**Вывод:** При анализе тестовых данных на дамми-модели результат метрики = 8.47. Модель Случайного леса показывает значительно лучшие результаты."
      ]
    },
    {
      "cell_type": "markdown",
      "metadata": {
        "id": "jmHdbNkani2L"
      },
      "source": [
        "## Вывод"
      ]
    },
    {
      "cell_type": "markdown",
      "metadata": {
        "id": "31jml57sni2M"
      },
      "source": [
        "Для реализации проекта необходимо было подготовить прототип модели машинного обучения для «Цифры». Компания разрабатывает решения для эффективной работы промышленных предприятий. Модель должна предсказать коэффициент восстановления золота из золотосодержащей руды.\n",
        "\n",
        "- Данные были предоставлены в 3х датасетах - тренировочные, тестовые и полные. В данных 87 колонок описывающих этапы процесса очистки металлов. Данные индексируются датой и временем получения информации.\n",
        "- На этапе предобработки была проведена индексация данных, заполнение пропусков в тренировочных данных ближайшими значениями.\n",
        "- Для оценки качества данных проведена проверка расчета эффективности обогащения по формуле. Средняя абсолютная ошибка (MAE) показала результат близкий к 0, что говорит о том, что в данных эффективность обагащения расчитана правильно.\n",
        "- Проведен анализ данных - визуализация того как меняется концентрация металлов на разных этапах обогащения. Данные результатов распределены нормально. Суммарная концентрация вещества растет от этапа к этапу.\n",
        "- Для выбора модели обучения данных сформирована функция расчета метрики sMAPE, которая  учитывает прогноз сразу двух величин: эффективность обогащения чернового концентрата rougher.output.recovery; эффективность обогащения финального концентрата final.output.recovery.\n",
        "- Для прогронизования данные для анализа выбраны следующие модели - Дерево решений, Случайный лес и Линейная регрессия. Для моделей произведена оценка с помощью кросс-валидации и подбора гиперпараметров.\n",
        "- Лучший результат показала модель Случайного леса с гиперпараметрами max_depth=3 и n_estimators=50.\n",
        "\n",
        "Модель поможет оптимизировать производство, чтобы не запускать предприятие с убыточными характеристиками.\n",
        "\n",
        "Так же необходимо обратить внимание заказчика на проблему со сбором достоверных данные, касающихся концентрации веществ на разных этапах\n",
        "\n"
      ]
    },
    {
      "cell_type": "code",
      "source": [],
      "metadata": {
        "id": "48KPbUu6vSKn"
      },
      "execution_count": null,
      "outputs": []
    }
  ],
  "metadata": {
    "ExecuteTimeLog": [
      {
        "duration": 1689,
        "start_time": "2023-05-15T10:15:41.935Z"
      },
      {
        "duration": 250,
        "start_time": "2023-05-15T12:11:39.194Z"
      },
      {
        "duration": 3514,
        "start_time": "2023-05-15T12:12:42.417Z"
      },
      {
        "duration": 234,
        "start_time": "2023-05-15T12:13:00.252Z"
      },
      {
        "duration": 220,
        "start_time": "2023-05-15T12:13:29.872Z"
      },
      {
        "duration": 16,
        "start_time": "2023-05-15T12:15:36.695Z"
      },
      {
        "duration": 10,
        "start_time": "2023-05-15T12:18:43.925Z"
      },
      {
        "duration": 14,
        "start_time": "2023-05-15T12:34:23.215Z"
      },
      {
        "duration": 12,
        "start_time": "2023-05-15T12:38:54.954Z"
      },
      {
        "duration": 10,
        "start_time": "2023-05-15T12:39:05.128Z"
      },
      {
        "duration": 9,
        "start_time": "2023-05-15T12:39:15.540Z"
      },
      {
        "duration": 5,
        "start_time": "2023-05-15T12:39:23.282Z"
      },
      {
        "duration": 176,
        "start_time": "2023-05-15T12:41:58.365Z"
      },
      {
        "duration": 5,
        "start_time": "2023-05-15T12:42:06.438Z"
      },
      {
        "duration": 6,
        "start_time": "2023-05-15T12:44:51.951Z"
      },
      {
        "duration": 230,
        "start_time": "2023-05-15T12:45:06.521Z"
      },
      {
        "duration": 12,
        "start_time": "2023-05-15T12:47:34.222Z"
      },
      {
        "duration": 5,
        "start_time": "2023-05-15T12:48:00.181Z"
      },
      {
        "duration": 328,
        "start_time": "2023-05-15T12:48:34.083Z"
      },
      {
        "duration": 17,
        "start_time": "2023-05-15T12:48:52.398Z"
      },
      {
        "duration": 6,
        "start_time": "2023-05-15T12:49:40.881Z"
      },
      {
        "duration": 12,
        "start_time": "2023-05-15T12:57:13.053Z"
      },
      {
        "duration": 10,
        "start_time": "2023-05-15T12:57:21.372Z"
      },
      {
        "duration": 5,
        "start_time": "2023-05-15T12:57:26.988Z"
      },
      {
        "duration": 10,
        "start_time": "2023-05-15T13:00:51.198Z"
      },
      {
        "duration": 3,
        "start_time": "2023-05-15T13:01:13.279Z"
      },
      {
        "duration": 244,
        "start_time": "2023-05-15T13:01:15.286Z"
      },
      {
        "duration": 3,
        "start_time": "2023-05-15T13:01:18.619Z"
      },
      {
        "duration": 5,
        "start_time": "2023-05-15T13:01:37.430Z"
      },
      {
        "duration": 4,
        "start_time": "2023-05-15T13:01:47.575Z"
      },
      {
        "duration": 5,
        "start_time": "2023-05-15T13:02:00.795Z"
      },
      {
        "duration": 6,
        "start_time": "2023-05-15T13:03:17.939Z"
      },
      {
        "duration": 13,
        "start_time": "2023-05-15T13:04:07.347Z"
      },
      {
        "duration": 33,
        "start_time": "2023-05-15T13:04:36.951Z"
      },
      {
        "duration": 18,
        "start_time": "2023-05-15T13:05:05.917Z"
      },
      {
        "duration": 9,
        "start_time": "2023-05-15T13:13:21.775Z"
      },
      {
        "duration": 14,
        "start_time": "2023-05-15T13:13:39.698Z"
      },
      {
        "duration": 5,
        "start_time": "2023-05-15T13:13:57.709Z"
      },
      {
        "duration": 26,
        "start_time": "2023-05-15T13:14:03.753Z"
      },
      {
        "duration": 13,
        "start_time": "2023-05-15T13:14:28.676Z"
      },
      {
        "duration": 6,
        "start_time": "2023-05-15T13:14:52.971Z"
      },
      {
        "duration": 1811,
        "start_time": "2023-05-15T13:17:00.818Z"
      },
      {
        "duration": 22,
        "start_time": "2023-05-15T13:18:22.720Z"
      },
      {
        "duration": 20,
        "start_time": "2023-05-15T13:20:27.623Z"
      },
      {
        "duration": 3,
        "start_time": "2023-05-15T13:22:26.224Z"
      },
      {
        "duration": 5,
        "start_time": "2023-05-15T13:22:36.803Z"
      },
      {
        "duration": 4,
        "start_time": "2023-05-15T13:22:54.380Z"
      },
      {
        "duration": 5,
        "start_time": "2023-05-15T13:23:09.078Z"
      },
      {
        "duration": 5,
        "start_time": "2023-05-15T13:23:26.926Z"
      },
      {
        "duration": 6,
        "start_time": "2023-05-16T09:08:33.958Z"
      },
      {
        "duration": 1597,
        "start_time": "2023-05-16T09:08:51.755Z"
      },
      {
        "duration": 2195,
        "start_time": "2023-05-16T09:08:53.354Z"
      },
      {
        "duration": 19,
        "start_time": "2023-05-16T09:08:55.551Z"
      },
      {
        "duration": 417,
        "start_time": "2023-05-16T09:08:55.618Z"
      },
      {
        "duration": 9,
        "start_time": "2023-05-16T09:08:56.037Z"
      },
      {
        "duration": 86,
        "start_time": "2023-05-16T09:08:56.048Z"
      },
      {
        "duration": 12,
        "start_time": "2023-05-16T09:08:56.136Z"
      },
      {
        "duration": 5,
        "start_time": "2023-05-16T09:08:56.149Z"
      },
      {
        "duration": 63,
        "start_time": "2023-05-16T09:08:56.156Z"
      },
      {
        "duration": 17,
        "start_time": "2023-05-16T09:08:56.220Z"
      },
      {
        "duration": 424,
        "start_time": "2023-05-16T09:08:56.239Z"
      },
      {
        "duration": 55,
        "start_time": "2023-05-16T09:08:56.664Z"
      },
      {
        "duration": 4,
        "start_time": "2023-05-16T09:08:56.721Z"
      },
      {
        "duration": 10,
        "start_time": "2023-05-16T09:08:56.727Z"
      },
      {
        "duration": 5,
        "start_time": "2023-05-16T09:08:56.739Z"
      },
      {
        "duration": 11,
        "start_time": "2023-05-16T09:08:56.746Z"
      },
      {
        "duration": 3,
        "start_time": "2023-05-16T09:08:56.759Z"
      },
      {
        "duration": 19,
        "start_time": "2023-05-16T09:08:56.763Z"
      },
      {
        "duration": 29,
        "start_time": "2023-05-16T09:09:36.022Z"
      },
      {
        "duration": 5,
        "start_time": "2023-05-16T09:10:43.511Z"
      },
      {
        "duration": 14,
        "start_time": "2023-05-16T09:12:55.604Z"
      },
      {
        "duration": 19,
        "start_time": "2023-05-16T09:13:51.950Z"
      },
      {
        "duration": 18,
        "start_time": "2023-05-16T09:13:58.956Z"
      },
      {
        "duration": 24,
        "start_time": "2023-05-16T09:14:33.902Z"
      },
      {
        "duration": 5,
        "start_time": "2023-05-16T09:15:54.248Z"
      },
      {
        "duration": 219,
        "start_time": "2023-05-16T09:18:31.001Z"
      },
      {
        "duration": 3383,
        "start_time": "2023-05-16T09:18:42.764Z"
      },
      {
        "duration": 2633,
        "start_time": "2023-05-16T09:20:45.382Z"
      },
      {
        "duration": 1427,
        "start_time": "2023-05-16T09:21:06.487Z"
      },
      {
        "duration": 692,
        "start_time": "2023-05-16T09:21:07.916Z"
      },
      {
        "duration": 23,
        "start_time": "2023-05-16T09:21:08.609Z"
      },
      {
        "duration": 222,
        "start_time": "2023-05-16T09:21:08.634Z"
      },
      {
        "duration": 11,
        "start_time": "2023-05-16T09:21:08.858Z"
      },
      {
        "duration": 23,
        "start_time": "2023-05-16T09:21:08.871Z"
      },
      {
        "duration": 30,
        "start_time": "2023-05-16T09:21:08.895Z"
      },
      {
        "duration": 5,
        "start_time": "2023-05-16T09:21:08.926Z"
      },
      {
        "duration": 21,
        "start_time": "2023-05-16T09:21:08.932Z"
      },
      {
        "duration": 22,
        "start_time": "2023-05-16T09:21:08.956Z"
      },
      {
        "duration": 225,
        "start_time": "2023-05-16T09:21:08.980Z"
      },
      {
        "duration": 21,
        "start_time": "2023-05-16T09:21:09.207Z"
      },
      {
        "duration": 4,
        "start_time": "2023-05-16T09:21:09.230Z"
      },
      {
        "duration": 2219,
        "start_time": "2023-05-16T09:21:09.236Z"
      },
      {
        "duration": 0,
        "start_time": "2023-05-16T09:21:11.457Z"
      },
      {
        "duration": 0,
        "start_time": "2023-05-16T09:21:11.457Z"
      },
      {
        "duration": 0,
        "start_time": "2023-05-16T09:21:11.458Z"
      },
      {
        "duration": 0,
        "start_time": "2023-05-16T09:21:11.460Z"
      },
      {
        "duration": 0,
        "start_time": "2023-05-16T09:21:11.461Z"
      },
      {
        "duration": 3656,
        "start_time": "2023-05-16T09:21:29.887Z"
      },
      {
        "duration": 1461,
        "start_time": "2023-05-16T09:22:01.605Z"
      },
      {
        "duration": 702,
        "start_time": "2023-05-16T09:22:03.068Z"
      },
      {
        "duration": 20,
        "start_time": "2023-05-16T09:22:03.771Z"
      },
      {
        "duration": 304,
        "start_time": "2023-05-16T09:22:03.793Z"
      },
      {
        "duration": 9,
        "start_time": "2023-05-16T09:22:04.099Z"
      },
      {
        "duration": 45,
        "start_time": "2023-05-16T09:22:04.117Z"
      },
      {
        "duration": 24,
        "start_time": "2023-05-16T09:22:04.164Z"
      },
      {
        "duration": 10,
        "start_time": "2023-05-16T09:22:04.190Z"
      },
      {
        "duration": 15,
        "start_time": "2023-05-16T09:22:04.202Z"
      },
      {
        "duration": 18,
        "start_time": "2023-05-16T09:22:04.218Z"
      },
      {
        "duration": 241,
        "start_time": "2023-05-16T09:22:04.238Z"
      },
      {
        "duration": 20,
        "start_time": "2023-05-16T09:22:04.482Z"
      },
      {
        "duration": 18,
        "start_time": "2023-05-16T09:22:04.504Z"
      },
      {
        "duration": 42,
        "start_time": "2023-05-16T09:22:04.525Z"
      },
      {
        "duration": 2714,
        "start_time": "2023-05-16T09:22:04.570Z"
      },
      {
        "duration": 0,
        "start_time": "2023-05-16T09:22:07.286Z"
      },
      {
        "duration": 0,
        "start_time": "2023-05-16T09:22:07.287Z"
      },
      {
        "duration": 0,
        "start_time": "2023-05-16T09:22:07.288Z"
      },
      {
        "duration": 0,
        "start_time": "2023-05-16T09:22:07.289Z"
      },
      {
        "duration": 3774,
        "start_time": "2023-05-16T09:30:12.369Z"
      },
      {
        "duration": 1441,
        "start_time": "2023-05-16T09:30:30.724Z"
      },
      {
        "duration": 723,
        "start_time": "2023-05-16T09:30:32.167Z"
      },
      {
        "duration": 18,
        "start_time": "2023-05-16T09:30:32.891Z"
      },
      {
        "duration": 232,
        "start_time": "2023-05-16T09:30:32.917Z"
      },
      {
        "duration": 8,
        "start_time": "2023-05-16T09:30:33.151Z"
      },
      {
        "duration": 18,
        "start_time": "2023-05-16T09:30:33.160Z"
      },
      {
        "duration": 26,
        "start_time": "2023-05-16T09:30:33.179Z"
      },
      {
        "duration": 6,
        "start_time": "2023-05-16T09:30:33.207Z"
      },
      {
        "duration": 8,
        "start_time": "2023-05-16T09:30:33.217Z"
      },
      {
        "duration": 34,
        "start_time": "2023-05-16T09:30:33.227Z"
      },
      {
        "duration": 232,
        "start_time": "2023-05-16T09:30:33.262Z"
      },
      {
        "duration": 28,
        "start_time": "2023-05-16T09:30:33.495Z"
      },
      {
        "duration": 9,
        "start_time": "2023-05-16T09:30:33.525Z"
      },
      {
        "duration": 35,
        "start_time": "2023-05-16T09:30:33.536Z"
      },
      {
        "duration": 16,
        "start_time": "2023-05-16T09:30:33.573Z"
      },
      {
        "duration": 41,
        "start_time": "2023-05-16T09:30:33.591Z"
      },
      {
        "duration": 22,
        "start_time": "2023-05-16T09:30:33.634Z"
      },
      {
        "duration": 25,
        "start_time": "2023-05-16T09:30:33.657Z"
      },
      {
        "duration": 24,
        "start_time": "2023-05-16T09:31:09.698Z"
      },
      {
        "duration": 38,
        "start_time": "2023-05-16T09:31:35.390Z"
      },
      {
        "duration": 140,
        "start_time": "2023-05-16T09:34:33.198Z"
      },
      {
        "duration": 13,
        "start_time": "2023-05-16T09:34:39.893Z"
      },
      {
        "duration": 5,
        "start_time": "2023-05-16T09:38:47.241Z"
      },
      {
        "duration": 13,
        "start_time": "2023-05-16T09:39:00.149Z"
      },
      {
        "duration": 7,
        "start_time": "2023-05-16T09:39:41.164Z"
      },
      {
        "duration": 18,
        "start_time": "2023-05-16T09:39:54.959Z"
      },
      {
        "duration": 4,
        "start_time": "2023-05-16T09:42:27.198Z"
      },
      {
        "duration": 20,
        "start_time": "2023-05-16T09:42:47.909Z"
      },
      {
        "duration": 1179,
        "start_time": "2023-05-16T10:06:05.909Z"
      },
      {
        "duration": 1570,
        "start_time": "2023-05-16T10:06:34.506Z"
      },
      {
        "duration": 684,
        "start_time": "2023-05-16T10:06:36.078Z"
      },
      {
        "duration": 18,
        "start_time": "2023-05-16T10:06:36.764Z"
      },
      {
        "duration": 220,
        "start_time": "2023-05-16T10:06:36.784Z"
      },
      {
        "duration": 12,
        "start_time": "2023-05-16T10:06:37.006Z"
      },
      {
        "duration": 26,
        "start_time": "2023-05-16T10:06:37.019Z"
      },
      {
        "duration": 16,
        "start_time": "2023-05-16T10:06:37.046Z"
      },
      {
        "duration": 5,
        "start_time": "2023-05-16T10:06:37.063Z"
      },
      {
        "duration": 15,
        "start_time": "2023-05-16T10:06:37.069Z"
      },
      {
        "duration": 34,
        "start_time": "2023-05-16T10:06:37.085Z"
      },
      {
        "duration": 234,
        "start_time": "2023-05-16T10:06:37.120Z"
      },
      {
        "duration": 17,
        "start_time": "2023-05-16T10:06:37.355Z"
      },
      {
        "duration": 3,
        "start_time": "2023-05-16T10:06:37.374Z"
      },
      {
        "duration": 45,
        "start_time": "2023-05-16T10:06:37.380Z"
      },
      {
        "duration": 21,
        "start_time": "2023-05-16T10:06:37.426Z"
      },
      {
        "duration": 28,
        "start_time": "2023-05-16T10:06:37.449Z"
      },
      {
        "duration": 148,
        "start_time": "2023-05-16T10:09:38.086Z"
      },
      {
        "duration": 4,
        "start_time": "2023-05-16T10:09:52.102Z"
      },
      {
        "duration": 6,
        "start_time": "2023-05-16T10:10:22.796Z"
      },
      {
        "duration": 33,
        "start_time": "2023-05-16T10:15:01.957Z"
      },
      {
        "duration": 42,
        "start_time": "2023-05-16T10:15:26.253Z"
      },
      {
        "duration": 11,
        "start_time": "2023-05-16T10:19:22.854Z"
      },
      {
        "duration": 11,
        "start_time": "2023-05-16T10:19:44.398Z"
      },
      {
        "duration": 20,
        "start_time": "2023-05-16T10:20:53.595Z"
      },
      {
        "duration": 28,
        "start_time": "2023-05-16T10:21:22.114Z"
      },
      {
        "duration": 8,
        "start_time": "2023-05-16T10:22:30.393Z"
      },
      {
        "duration": 9,
        "start_time": "2023-05-16T10:22:43.494Z"
      },
      {
        "duration": 8,
        "start_time": "2023-05-16T10:22:52.802Z"
      },
      {
        "duration": 6,
        "start_time": "2023-05-16T10:23:15.095Z"
      },
      {
        "duration": 11,
        "start_time": "2023-05-16T10:23:21.759Z"
      },
      {
        "duration": 246,
        "start_time": "2023-05-16T10:24:04.399Z"
      },
      {
        "duration": 89,
        "start_time": "2023-05-16T10:28:02.783Z"
      },
      {
        "duration": 108,
        "start_time": "2023-05-16T10:28:31.482Z"
      },
      {
        "duration": 17,
        "start_time": "2023-05-16T10:29:30.851Z"
      },
      {
        "duration": 15,
        "start_time": "2023-05-16T10:32:37.395Z"
      },
      {
        "duration": 4,
        "start_time": "2023-05-16T10:32:48.789Z"
      },
      {
        "duration": 8,
        "start_time": "2023-05-16T10:33:02.850Z"
      },
      {
        "duration": 3,
        "start_time": "2023-05-16T10:33:39.985Z"
      },
      {
        "duration": 4,
        "start_time": "2023-05-16T10:34:22.978Z"
      },
      {
        "duration": 1495,
        "start_time": "2023-05-16T10:35:22.186Z"
      },
      {
        "duration": 723,
        "start_time": "2023-05-16T10:35:23.683Z"
      },
      {
        "duration": 23,
        "start_time": "2023-05-16T10:35:24.407Z"
      },
      {
        "duration": 261,
        "start_time": "2023-05-16T10:35:24.432Z"
      },
      {
        "duration": 10,
        "start_time": "2023-05-16T10:35:24.695Z"
      },
      {
        "duration": 33,
        "start_time": "2023-05-16T10:35:24.707Z"
      },
      {
        "duration": 22,
        "start_time": "2023-05-16T10:35:24.742Z"
      },
      {
        "duration": 12,
        "start_time": "2023-05-16T10:35:24.767Z"
      },
      {
        "duration": 14,
        "start_time": "2023-05-16T10:35:24.780Z"
      },
      {
        "duration": 36,
        "start_time": "2023-05-16T10:35:24.795Z"
      },
      {
        "duration": 230,
        "start_time": "2023-05-16T10:35:24.832Z"
      },
      {
        "duration": 16,
        "start_time": "2023-05-16T10:35:25.064Z"
      },
      {
        "duration": 7,
        "start_time": "2023-05-16T10:35:25.083Z"
      },
      {
        "duration": 59,
        "start_time": "2023-05-16T10:35:25.093Z"
      },
      {
        "duration": 21,
        "start_time": "2023-05-16T10:35:25.154Z"
      },
      {
        "duration": 40,
        "start_time": "2023-05-16T10:35:25.177Z"
      },
      {
        "duration": 16,
        "start_time": "2023-05-16T10:35:25.220Z"
      },
      {
        "duration": 8,
        "start_time": "2023-05-16T10:35:25.237Z"
      },
      {
        "duration": 15,
        "start_time": "2023-05-16T10:35:25.246Z"
      },
      {
        "duration": 4,
        "start_time": "2023-05-16T10:35:25.263Z"
      },
      {
        "duration": 11,
        "start_time": "2023-05-16T10:35:25.268Z"
      },
      {
        "duration": 45,
        "start_time": "2023-05-16T10:35:25.280Z"
      },
      {
        "duration": 4,
        "start_time": "2023-05-16T10:38:18.189Z"
      },
      {
        "duration": 64,
        "start_time": "2023-05-16T10:39:11.710Z"
      },
      {
        "duration": 10,
        "start_time": "2023-05-16T10:39:18.685Z"
      },
      {
        "duration": 4,
        "start_time": "2023-05-16T10:40:23.002Z"
      },
      {
        "duration": 120,
        "start_time": "2023-05-16T10:43:38.209Z"
      },
      {
        "duration": 13,
        "start_time": "2023-05-16T10:45:12.497Z"
      },
      {
        "duration": 8,
        "start_time": "2023-05-16T10:47:05.985Z"
      },
      {
        "duration": 5,
        "start_time": "2023-05-16T10:47:37.609Z"
      },
      {
        "duration": 3,
        "start_time": "2023-05-16T10:51:38.501Z"
      },
      {
        "duration": 8,
        "start_time": "2023-05-16T10:51:39.648Z"
      },
      {
        "duration": 7,
        "start_time": "2023-05-16T10:51:41.599Z"
      },
      {
        "duration": 4,
        "start_time": "2023-05-16T10:53:15.151Z"
      },
      {
        "duration": 5,
        "start_time": "2023-05-16T10:53:54.357Z"
      },
      {
        "duration": 52,
        "start_time": "2023-05-16T10:54:20.005Z"
      },
      {
        "duration": 1628,
        "start_time": "2023-05-16T10:54:33.254Z"
      },
      {
        "duration": 722,
        "start_time": "2023-05-16T10:54:34.884Z"
      },
      {
        "duration": 22,
        "start_time": "2023-05-16T10:54:35.608Z"
      },
      {
        "duration": 219,
        "start_time": "2023-05-16T10:54:35.632Z"
      },
      {
        "duration": 9,
        "start_time": "2023-05-16T10:54:35.854Z"
      },
      {
        "duration": 34,
        "start_time": "2023-05-16T10:54:35.864Z"
      },
      {
        "duration": 21,
        "start_time": "2023-05-16T10:54:35.899Z"
      },
      {
        "duration": 5,
        "start_time": "2023-05-16T10:54:35.922Z"
      },
      {
        "duration": 33,
        "start_time": "2023-05-16T10:54:35.929Z"
      },
      {
        "duration": 26,
        "start_time": "2023-05-16T10:54:35.964Z"
      },
      {
        "duration": 266,
        "start_time": "2023-05-16T10:54:35.991Z"
      },
      {
        "duration": 19,
        "start_time": "2023-05-16T10:54:36.259Z"
      },
      {
        "duration": 5,
        "start_time": "2023-05-16T10:54:36.280Z"
      },
      {
        "duration": 54,
        "start_time": "2023-05-16T10:54:36.288Z"
      },
      {
        "duration": 22,
        "start_time": "2023-05-16T10:54:36.343Z"
      },
      {
        "duration": 30,
        "start_time": "2023-05-16T10:54:36.367Z"
      },
      {
        "duration": 14,
        "start_time": "2023-05-16T10:54:36.417Z"
      },
      {
        "duration": 7,
        "start_time": "2023-05-16T10:54:36.432Z"
      },
      {
        "duration": 12,
        "start_time": "2023-05-16T10:54:36.441Z"
      },
      {
        "duration": 5,
        "start_time": "2023-05-16T10:54:36.455Z"
      },
      {
        "duration": 5,
        "start_time": "2023-05-16T10:54:36.462Z"
      },
      {
        "duration": 50,
        "start_time": "2023-05-16T10:54:36.468Z"
      },
      {
        "duration": 3,
        "start_time": "2023-05-16T10:54:41.560Z"
      },
      {
        "duration": 9,
        "start_time": "2023-05-16T10:54:44.986Z"
      },
      {
        "duration": 5,
        "start_time": "2023-05-16T10:54:47.019Z"
      },
      {
        "duration": 5,
        "start_time": "2023-05-16T10:54:57.285Z"
      },
      {
        "duration": 7,
        "start_time": "2023-05-16T10:55:24.385Z"
      },
      {
        "duration": 5,
        "start_time": "2023-05-16T10:55:30.965Z"
      },
      {
        "duration": 4,
        "start_time": "2023-05-16T10:55:46.521Z"
      },
      {
        "duration": 6,
        "start_time": "2023-05-16T10:57:45.469Z"
      },
      {
        "duration": 4,
        "start_time": "2023-05-16T10:57:59.057Z"
      },
      {
        "duration": 81,
        "start_time": "2023-05-16T11:06:41.022Z"
      },
      {
        "duration": 15,
        "start_time": "2023-05-16T11:07:39.488Z"
      },
      {
        "duration": 9,
        "start_time": "2023-05-16T11:08:07.562Z"
      },
      {
        "duration": 5,
        "start_time": "2023-05-16T11:08:09.456Z"
      },
      {
        "duration": 4,
        "start_time": "2023-05-16T11:08:11.019Z"
      },
      {
        "duration": 1451,
        "start_time": "2023-05-16T11:08:57.483Z"
      },
      {
        "duration": 701,
        "start_time": "2023-05-16T11:08:58.936Z"
      },
      {
        "duration": 18,
        "start_time": "2023-05-16T11:08:59.639Z"
      },
      {
        "duration": 227,
        "start_time": "2023-05-16T11:08:59.659Z"
      },
      {
        "duration": 9,
        "start_time": "2023-05-16T11:08:59.888Z"
      },
      {
        "duration": 34,
        "start_time": "2023-05-16T11:08:59.899Z"
      },
      {
        "duration": 12,
        "start_time": "2023-05-16T11:08:59.935Z"
      },
      {
        "duration": 5,
        "start_time": "2023-05-16T11:08:59.949Z"
      },
      {
        "duration": 18,
        "start_time": "2023-05-16T11:08:59.956Z"
      },
      {
        "duration": 44,
        "start_time": "2023-05-16T11:08:59.976Z"
      },
      {
        "duration": 248,
        "start_time": "2023-05-16T11:09:00.022Z"
      },
      {
        "duration": 26,
        "start_time": "2023-05-16T11:09:00.272Z"
      },
      {
        "duration": 19,
        "start_time": "2023-05-16T11:09:00.300Z"
      },
      {
        "duration": 46,
        "start_time": "2023-05-16T11:09:00.323Z"
      },
      {
        "duration": 50,
        "start_time": "2023-05-16T11:09:00.371Z"
      },
      {
        "duration": 38,
        "start_time": "2023-05-16T11:09:00.423Z"
      },
      {
        "duration": 32,
        "start_time": "2023-05-16T11:09:00.463Z"
      },
      {
        "duration": 14,
        "start_time": "2023-05-16T11:09:00.497Z"
      },
      {
        "duration": 28,
        "start_time": "2023-05-16T11:09:00.517Z"
      },
      {
        "duration": 8,
        "start_time": "2023-05-16T11:09:00.547Z"
      },
      {
        "duration": 41,
        "start_time": "2023-05-16T11:09:00.557Z"
      },
      {
        "duration": 27,
        "start_time": "2023-05-16T11:09:00.599Z"
      },
      {
        "duration": 5,
        "start_time": "2023-05-16T11:09:00.627Z"
      },
      {
        "duration": 45,
        "start_time": "2023-05-16T11:09:00.633Z"
      },
      {
        "duration": 18,
        "start_time": "2023-05-16T11:09:00.680Z"
      },
      {
        "duration": 23,
        "start_time": "2023-05-16T11:09:00.700Z"
      },
      {
        "duration": 43,
        "start_time": "2023-05-16T11:09:00.725Z"
      },
      {
        "duration": 30,
        "start_time": "2023-05-16T11:09:00.770Z"
      },
      {
        "duration": 73,
        "start_time": "2023-05-16T11:09:00.802Z"
      },
      {
        "duration": 93,
        "start_time": "2023-05-16T11:09:00.877Z"
      },
      {
        "duration": 119,
        "start_time": "2023-05-16T12:42:44.079Z"
      },
      {
        "duration": 121,
        "start_time": "2023-05-16T12:43:36.714Z"
      },
      {
        "duration": 116,
        "start_time": "2023-05-16T12:43:47.554Z"
      },
      {
        "duration": 391,
        "start_time": "2023-05-16T12:48:06.154Z"
      },
      {
        "duration": 179,
        "start_time": "2023-05-16T12:53:19.603Z"
      },
      {
        "duration": 140,
        "start_time": "2023-05-16T12:55:35.966Z"
      },
      {
        "duration": 136,
        "start_time": "2023-05-16T12:55:46.595Z"
      },
      {
        "duration": 122,
        "start_time": "2023-05-16T12:55:52.799Z"
      },
      {
        "duration": 130,
        "start_time": "2023-05-16T12:57:34.872Z"
      },
      {
        "duration": 232,
        "start_time": "2023-05-16T13:00:13.655Z"
      },
      {
        "duration": 255,
        "start_time": "2023-05-16T13:01:30.496Z"
      },
      {
        "duration": 1773,
        "start_time": "2023-05-16T15:27:39.020Z"
      },
      {
        "duration": 5018,
        "start_time": "2023-05-16T15:27:40.795Z"
      },
      {
        "duration": 24,
        "start_time": "2023-05-16T15:27:45.819Z"
      },
      {
        "duration": 275,
        "start_time": "2023-05-16T15:27:45.846Z"
      },
      {
        "duration": 10,
        "start_time": "2023-05-16T15:27:46.123Z"
      },
      {
        "duration": 20,
        "start_time": "2023-05-16T15:27:46.134Z"
      },
      {
        "duration": 37,
        "start_time": "2023-05-16T15:27:46.156Z"
      },
      {
        "duration": 27,
        "start_time": "2023-05-16T15:27:46.194Z"
      },
      {
        "duration": 28,
        "start_time": "2023-05-16T15:27:46.223Z"
      },
      {
        "duration": 297,
        "start_time": "2023-05-16T15:27:46.254Z"
      },
      {
        "duration": 17,
        "start_time": "2023-05-16T15:27:46.553Z"
      },
      {
        "duration": 22,
        "start_time": "2023-05-16T15:27:46.578Z"
      },
      {
        "duration": 41,
        "start_time": "2023-05-16T15:27:46.605Z"
      },
      {
        "duration": 24,
        "start_time": "2023-05-16T15:27:46.647Z"
      },
      {
        "duration": 49,
        "start_time": "2023-05-16T15:27:46.672Z"
      },
      {
        "duration": 127,
        "start_time": "2023-05-16T15:27:46.722Z"
      },
      {
        "duration": 0,
        "start_time": "2023-05-16T15:27:46.851Z"
      },
      {
        "duration": 0,
        "start_time": "2023-05-16T15:27:46.852Z"
      },
      {
        "duration": 0,
        "start_time": "2023-05-16T15:27:46.853Z"
      },
      {
        "duration": 0,
        "start_time": "2023-05-16T15:27:46.855Z"
      },
      {
        "duration": 0,
        "start_time": "2023-05-16T15:27:46.856Z"
      },
      {
        "duration": 0,
        "start_time": "2023-05-16T15:27:46.857Z"
      },
      {
        "duration": 0,
        "start_time": "2023-05-16T15:27:46.858Z"
      },
      {
        "duration": 0,
        "start_time": "2023-05-16T15:27:46.859Z"
      },
      {
        "duration": 0,
        "start_time": "2023-05-16T15:27:46.860Z"
      },
      {
        "duration": 0,
        "start_time": "2023-05-16T15:27:46.874Z"
      },
      {
        "duration": 0,
        "start_time": "2023-05-16T15:27:46.875Z"
      },
      {
        "duration": 0,
        "start_time": "2023-05-16T15:27:46.876Z"
      },
      {
        "duration": 0,
        "start_time": "2023-05-16T15:27:46.877Z"
      },
      {
        "duration": 0,
        "start_time": "2023-05-16T15:27:46.878Z"
      },
      {
        "duration": 7,
        "start_time": "2023-05-16T15:30:44.332Z"
      },
      {
        "duration": 16,
        "start_time": "2023-05-16T15:31:06.246Z"
      },
      {
        "duration": 12,
        "start_time": "2023-05-16T15:31:06.265Z"
      },
      {
        "duration": 53,
        "start_time": "2023-05-16T15:31:06.278Z"
      },
      {
        "duration": 4,
        "start_time": "2023-05-16T15:31:06.337Z"
      },
      {
        "duration": 17,
        "start_time": "2023-05-16T15:31:06.343Z"
      },
      {
        "duration": 10,
        "start_time": "2023-05-16T15:31:06.361Z"
      },
      {
        "duration": 7,
        "start_time": "2023-05-16T15:31:06.372Z"
      },
      {
        "duration": 21,
        "start_time": "2023-05-16T15:31:06.381Z"
      },
      {
        "duration": 16,
        "start_time": "2023-05-16T15:31:06.404Z"
      },
      {
        "duration": 11,
        "start_time": "2023-05-16T15:31:06.426Z"
      },
      {
        "duration": 6,
        "start_time": "2023-05-16T15:31:06.441Z"
      },
      {
        "duration": 5,
        "start_time": "2023-05-16T15:31:06.449Z"
      },
      {
        "duration": 188,
        "start_time": "2023-05-16T15:31:06.455Z"
      },
      {
        "duration": 425,
        "start_time": "2023-05-16T15:31:06.648Z"
      },
      {
        "duration": 222,
        "start_time": "2023-05-16T15:31:48.737Z"
      },
      {
        "duration": 248,
        "start_time": "2023-05-16T15:32:07.310Z"
      },
      {
        "duration": 227,
        "start_time": "2023-05-16T15:34:07.607Z"
      },
      {
        "duration": 216,
        "start_time": "2023-05-16T15:34:50.617Z"
      },
      {
        "duration": 196,
        "start_time": "2023-05-16T15:35:10.539Z"
      },
      {
        "duration": 234,
        "start_time": "2023-05-16T15:35:28.047Z"
      },
      {
        "duration": 188,
        "start_time": "2023-05-16T15:35:39.151Z"
      },
      {
        "duration": 315,
        "start_time": "2023-05-16T15:36:58.588Z"
      },
      {
        "duration": 221,
        "start_time": "2023-05-16T15:37:43.344Z"
      },
      {
        "duration": 265,
        "start_time": "2023-05-16T15:40:35.954Z"
      },
      {
        "duration": 320,
        "start_time": "2023-05-16T15:44:00.622Z"
      },
      {
        "duration": 251,
        "start_time": "2023-05-16T15:44:41.698Z"
      },
      {
        "duration": 240,
        "start_time": "2023-05-16T15:44:50.747Z"
      },
      {
        "duration": 293,
        "start_time": "2023-05-16T15:45:18.816Z"
      },
      {
        "duration": 282,
        "start_time": "2023-05-16T15:46:01.033Z"
      },
      {
        "duration": 346,
        "start_time": "2023-05-16T15:46:38.994Z"
      },
      {
        "duration": 411,
        "start_time": "2023-05-16T15:47:17.334Z"
      },
      {
        "duration": 274,
        "start_time": "2023-05-16T15:47:28.874Z"
      },
      {
        "duration": 386,
        "start_time": "2023-05-16T15:47:33.911Z"
      },
      {
        "duration": 290,
        "start_time": "2023-05-16T15:47:46.356Z"
      },
      {
        "duration": 313,
        "start_time": "2023-05-16T15:47:53.722Z"
      },
      {
        "duration": 342,
        "start_time": "2023-05-16T15:47:58.622Z"
      },
      {
        "duration": 290,
        "start_time": "2023-05-16T15:48:07.336Z"
      },
      {
        "duration": 22,
        "start_time": "2023-05-16T15:48:29.633Z"
      },
      {
        "duration": 274,
        "start_time": "2023-05-16T15:48:41.534Z"
      },
      {
        "duration": 1070,
        "start_time": "2023-05-16T15:50:53.118Z"
      },
      {
        "duration": 14,
        "start_time": "2023-05-16T15:51:30.621Z"
      },
      {
        "duration": 25,
        "start_time": "2023-05-16T15:51:39.299Z"
      },
      {
        "duration": 91,
        "start_time": "2023-05-16T15:52:00.144Z"
      },
      {
        "duration": 13,
        "start_time": "2023-05-16T15:52:07.051Z"
      },
      {
        "duration": 10,
        "start_time": "2023-05-16T15:53:32.218Z"
      },
      {
        "duration": 284,
        "start_time": "2023-05-16T15:54:22.303Z"
      },
      {
        "duration": 17,
        "start_time": "2023-05-16T15:54:51.303Z"
      },
      {
        "duration": 334,
        "start_time": "2023-05-16T15:55:19.097Z"
      },
      {
        "duration": 315,
        "start_time": "2023-05-16T15:56:07.225Z"
      },
      {
        "duration": 420,
        "start_time": "2023-05-16T15:56:45.853Z"
      },
      {
        "duration": 6,
        "start_time": "2023-05-16T15:58:36.354Z"
      },
      {
        "duration": 341,
        "start_time": "2023-05-16T15:58:50.650Z"
      },
      {
        "duration": 345,
        "start_time": "2023-05-16T15:59:04.450Z"
      },
      {
        "duration": 350,
        "start_time": "2023-05-16T15:59:09.458Z"
      },
      {
        "duration": 355,
        "start_time": "2023-05-16T15:59:12.805Z"
      },
      {
        "duration": 9,
        "start_time": "2023-05-16T15:59:31.728Z"
      },
      {
        "duration": 332,
        "start_time": "2023-05-16T16:01:17.304Z"
      },
      {
        "duration": 9,
        "start_time": "2023-05-16T16:06:33.852Z"
      },
      {
        "duration": 374,
        "start_time": "2023-05-16T16:07:38.526Z"
      },
      {
        "duration": 14,
        "start_time": "2023-05-16T16:10:18.251Z"
      },
      {
        "duration": 7,
        "start_time": "2023-05-16T16:10:26.551Z"
      },
      {
        "duration": 372,
        "start_time": "2023-05-16T16:10:27.515Z"
      },
      {
        "duration": 302,
        "start_time": "2023-05-16T16:11:41.508Z"
      },
      {
        "duration": 8,
        "start_time": "2023-05-16T16:14:04.253Z"
      },
      {
        "duration": 310,
        "start_time": "2023-05-16T16:14:25.245Z"
      },
      {
        "duration": 101,
        "start_time": "2023-05-16T16:17:43.098Z"
      },
      {
        "duration": 1427,
        "start_time": "2023-05-16T16:18:17.007Z"
      },
      {
        "duration": 278,
        "start_time": "2023-05-16T16:18:24.347Z"
      },
      {
        "duration": 152,
        "start_time": "2023-05-16T16:18:48.402Z"
      },
      {
        "duration": 125,
        "start_time": "2023-05-16T16:19:00.110Z"
      },
      {
        "duration": 190,
        "start_time": "2023-05-16T16:19:29.764Z"
      },
      {
        "duration": 146,
        "start_time": "2023-05-16T16:20:32.955Z"
      },
      {
        "duration": 136,
        "start_time": "2023-05-16T16:20:36.253Z"
      },
      {
        "duration": 127,
        "start_time": "2023-05-16T16:20:40.362Z"
      },
      {
        "duration": 202,
        "start_time": "2023-05-16T16:31:10.951Z"
      },
      {
        "duration": 315,
        "start_time": "2023-05-16T16:31:39.522Z"
      },
      {
        "duration": 257,
        "start_time": "2023-05-16T16:32:12.810Z"
      },
      {
        "duration": 271,
        "start_time": "2023-05-16T16:32:53.160Z"
      },
      {
        "duration": 280,
        "start_time": "2023-05-16T16:33:10.744Z"
      },
      {
        "duration": 254,
        "start_time": "2023-05-16T16:33:20.931Z"
      },
      {
        "duration": 416,
        "start_time": "2023-05-16T16:33:58.854Z"
      },
      {
        "duration": 7,
        "start_time": "2023-05-16T16:34:17.932Z"
      },
      {
        "duration": 296,
        "start_time": "2023-05-16T16:34:18.590Z"
      },
      {
        "duration": 7,
        "start_time": "2023-05-16T16:34:21.659Z"
      },
      {
        "duration": 135,
        "start_time": "2023-05-16T16:34:22.631Z"
      },
      {
        "duration": 152,
        "start_time": "2023-05-16T16:34:23.236Z"
      },
      {
        "duration": 136,
        "start_time": "2023-05-16T16:34:24.354Z"
      },
      {
        "duration": 157,
        "start_time": "2023-05-16T16:34:25.114Z"
      },
      {
        "duration": 328,
        "start_time": "2023-05-16T16:34:40.930Z"
      },
      {
        "duration": 379,
        "start_time": "2023-05-16T16:34:47.858Z"
      },
      {
        "duration": 348,
        "start_time": "2023-05-16T16:34:53.410Z"
      },
      {
        "duration": 353,
        "start_time": "2023-05-16T16:34:58.355Z"
      },
      {
        "duration": 149,
        "start_time": "2023-05-16T16:39:25.421Z"
      },
      {
        "duration": 519,
        "start_time": "2023-05-16T16:39:41.952Z"
      },
      {
        "duration": 374,
        "start_time": "2023-05-16T16:39:57.352Z"
      },
      {
        "duration": 360,
        "start_time": "2023-05-16T16:40:46.151Z"
      },
      {
        "duration": 358,
        "start_time": "2023-05-16T16:41:00.918Z"
      },
      {
        "duration": 382,
        "start_time": "2023-05-16T16:41:13.311Z"
      },
      {
        "duration": 24,
        "start_time": "2023-05-16T16:45:24.601Z"
      },
      {
        "duration": 1742,
        "start_time": "2023-05-16T16:52:03.449Z"
      },
      {
        "duration": 4850,
        "start_time": "2023-05-16T16:52:05.193Z"
      },
      {
        "duration": 22,
        "start_time": "2023-05-16T16:52:10.045Z"
      },
      {
        "duration": 290,
        "start_time": "2023-05-16T16:52:10.069Z"
      },
      {
        "duration": 23,
        "start_time": "2023-05-16T16:52:10.363Z"
      },
      {
        "duration": 23,
        "start_time": "2023-05-16T16:52:10.388Z"
      },
      {
        "duration": 14,
        "start_time": "2023-05-16T16:52:10.413Z"
      },
      {
        "duration": 10,
        "start_time": "2023-05-16T16:52:10.429Z"
      },
      {
        "duration": 35,
        "start_time": "2023-05-16T16:52:10.441Z"
      },
      {
        "duration": 293,
        "start_time": "2023-05-16T16:52:10.478Z"
      },
      {
        "duration": 40,
        "start_time": "2023-05-16T16:52:10.773Z"
      },
      {
        "duration": 11,
        "start_time": "2023-05-16T16:52:10.815Z"
      },
      {
        "duration": 42,
        "start_time": "2023-05-16T16:52:10.830Z"
      },
      {
        "duration": 28,
        "start_time": "2023-05-16T16:52:10.876Z"
      },
      {
        "duration": 43,
        "start_time": "2023-05-16T16:52:10.906Z"
      },
      {
        "duration": 6,
        "start_time": "2023-05-16T16:52:10.952Z"
      },
      {
        "duration": 55,
        "start_time": "2023-05-16T16:52:10.960Z"
      },
      {
        "duration": 19,
        "start_time": "2023-05-16T16:52:11.016Z"
      },
      {
        "duration": 16,
        "start_time": "2023-05-16T16:52:11.044Z"
      },
      {
        "duration": 10,
        "start_time": "2023-05-16T16:52:11.062Z"
      },
      {
        "duration": 10,
        "start_time": "2023-05-16T16:52:11.076Z"
      },
      {
        "duration": 24,
        "start_time": "2023-05-16T16:52:11.087Z"
      },
      {
        "duration": 16,
        "start_time": "2023-05-16T16:52:11.115Z"
      },
      {
        "duration": 5,
        "start_time": "2023-05-16T16:52:11.134Z"
      },
      {
        "duration": 16,
        "start_time": "2023-05-16T16:52:11.141Z"
      },
      {
        "duration": 6,
        "start_time": "2023-05-16T16:52:11.159Z"
      },
      {
        "duration": 5,
        "start_time": "2023-05-16T16:52:11.167Z"
      },
      {
        "duration": 9,
        "start_time": "2023-05-16T16:52:11.173Z"
      },
      {
        "duration": 16,
        "start_time": "2023-05-16T16:52:11.184Z"
      },
      {
        "duration": 378,
        "start_time": "2023-05-16T16:52:11.202Z"
      },
      {
        "duration": 9,
        "start_time": "2023-05-16T16:52:11.582Z"
      },
      {
        "duration": 138,
        "start_time": "2023-05-16T16:52:11.592Z"
      },
      {
        "duration": 189,
        "start_time": "2023-05-16T16:52:11.731Z"
      },
      {
        "duration": 109,
        "start_time": "2023-05-16T16:52:11.922Z"
      },
      {
        "duration": 106,
        "start_time": "2023-05-16T16:52:12.032Z"
      },
      {
        "duration": 7,
        "start_time": "2023-05-16T16:52:12.141Z"
      },
      {
        "duration": 295,
        "start_time": "2023-05-16T16:52:12.149Z"
      },
      {
        "duration": 6,
        "start_time": "2023-05-16T16:52:12.446Z"
      },
      {
        "duration": 303,
        "start_time": "2023-05-16T16:52:12.454Z"
      },
      {
        "duration": 502,
        "start_time": "2023-05-16T16:52:12.759Z"
      },
      {
        "duration": 176,
        "start_time": "2023-05-16T16:54:02.622Z"
      },
      {
        "duration": 301,
        "start_time": "2023-05-16T16:54:54.847Z"
      },
      {
        "duration": 137,
        "start_time": "2023-05-16T16:55:08.416Z"
      },
      {
        "duration": 198,
        "start_time": "2023-05-16T16:55:25.595Z"
      },
      {
        "duration": 165,
        "start_time": "2023-05-16T16:55:52.103Z"
      },
      {
        "duration": 143,
        "start_time": "2023-05-16T16:56:05.405Z"
      },
      {
        "duration": 10,
        "start_time": "2023-05-16T16:59:58.453Z"
      },
      {
        "duration": 23,
        "start_time": "2023-05-16T17:00:09.708Z"
      },
      {
        "duration": 438,
        "start_time": "2023-05-16T17:00:19.930Z"
      },
      {
        "duration": 266,
        "start_time": "2023-05-16T17:00:37.451Z"
      },
      {
        "duration": 247,
        "start_time": "2023-05-16T17:01:13.506Z"
      },
      {
        "duration": 240,
        "start_time": "2023-05-16T17:01:27.052Z"
      },
      {
        "duration": 256,
        "start_time": "2023-05-16T17:01:34.003Z"
      },
      {
        "duration": 180,
        "start_time": "2023-05-16T17:04:22.512Z"
      },
      {
        "duration": 255,
        "start_time": "2023-05-16T17:04:30.151Z"
      },
      {
        "duration": 254,
        "start_time": "2023-05-16T17:04:35.658Z"
      },
      {
        "duration": 215,
        "start_time": "2023-05-16T17:04:41.817Z"
      },
      {
        "duration": 261,
        "start_time": "2023-05-16T17:04:49.018Z"
      },
      {
        "duration": 550,
        "start_time": "2023-05-16T17:06:38.705Z"
      },
      {
        "duration": 512,
        "start_time": "2023-05-16T17:08:25.631Z"
      },
      {
        "duration": 285,
        "start_time": "2023-05-16T17:08:48.900Z"
      },
      {
        "duration": 382,
        "start_time": "2023-05-16T17:09:15.620Z"
      },
      {
        "duration": 519,
        "start_time": "2023-05-16T17:09:34.425Z"
      },
      {
        "duration": 316,
        "start_time": "2023-05-16T17:09:38.451Z"
      },
      {
        "duration": 11,
        "start_time": "2023-05-16T17:17:57.109Z"
      },
      {
        "duration": 16,
        "start_time": "2023-05-16T17:20:10.899Z"
      },
      {
        "duration": 16,
        "start_time": "2023-05-16T17:22:48.225Z"
      },
      {
        "duration": 42,
        "start_time": "2023-05-16T17:25:10.517Z"
      },
      {
        "duration": 218,
        "start_time": "2023-05-16T17:25:48.822Z"
      },
      {
        "duration": 19,
        "start_time": "2023-05-16T17:27:08.208Z"
      },
      {
        "duration": 269,
        "start_time": "2023-05-16T17:27:29.051Z"
      },
      {
        "duration": 281,
        "start_time": "2023-05-16T17:27:55.614Z"
      },
      {
        "duration": 264,
        "start_time": "2023-05-16T17:28:30.652Z"
      },
      {
        "duration": 21,
        "start_time": "2023-05-16T17:29:16.095Z"
      },
      {
        "duration": 755,
        "start_time": "2023-05-16T17:32:05.699Z"
      },
      {
        "duration": 15,
        "start_time": "2023-05-16T17:32:34.441Z"
      },
      {
        "duration": 379,
        "start_time": "2023-05-16T17:32:35.347Z"
      },
      {
        "duration": 56,
        "start_time": "2023-05-16T17:42:38.884Z"
      },
      {
        "duration": 44,
        "start_time": "2023-05-16T17:42:53.239Z"
      },
      {
        "duration": 3,
        "start_time": "2023-05-16T17:50:01.784Z"
      },
      {
        "duration": 3,
        "start_time": "2023-05-16T17:57:10.406Z"
      },
      {
        "duration": 2,
        "start_time": "2023-05-16T17:57:52.487Z"
      },
      {
        "duration": 2179,
        "start_time": "2023-05-17T08:16:51.362Z"
      },
      {
        "duration": 3712,
        "start_time": "2023-05-17T08:16:53.543Z"
      },
      {
        "duration": 18,
        "start_time": "2023-05-17T08:16:57.257Z"
      },
      {
        "duration": 660,
        "start_time": "2023-05-17T08:16:57.277Z"
      },
      {
        "duration": 11,
        "start_time": "2023-05-17T08:16:57.940Z"
      },
      {
        "duration": 356,
        "start_time": "2023-05-17T08:16:57.953Z"
      },
      {
        "duration": 221,
        "start_time": "2023-05-17T08:16:58.310Z"
      },
      {
        "duration": 496,
        "start_time": "2023-05-17T08:16:58.533Z"
      },
      {
        "duration": 327,
        "start_time": "2023-05-17T08:16:59.031Z"
      },
      {
        "duration": 366,
        "start_time": "2023-05-17T08:16:59.364Z"
      },
      {
        "duration": 22,
        "start_time": "2023-05-17T08:16:59.732Z"
      },
      {
        "duration": 4,
        "start_time": "2023-05-17T08:16:59.756Z"
      },
      {
        "duration": 173,
        "start_time": "2023-05-17T08:16:59.761Z"
      },
      {
        "duration": 29,
        "start_time": "2023-05-17T08:16:59.940Z"
      },
      {
        "duration": 108,
        "start_time": "2023-05-17T08:16:59.971Z"
      },
      {
        "duration": 45,
        "start_time": "2023-05-17T08:17:00.081Z"
      },
      {
        "duration": 47,
        "start_time": "2023-05-17T08:17:00.132Z"
      },
      {
        "duration": 62,
        "start_time": "2023-05-17T08:17:00.182Z"
      },
      {
        "duration": 160,
        "start_time": "2023-05-17T08:17:00.246Z"
      },
      {
        "duration": 15,
        "start_time": "2023-05-17T08:17:00.407Z"
      },
      {
        "duration": 78,
        "start_time": "2023-05-17T08:17:00.424Z"
      },
      {
        "duration": 50,
        "start_time": "2023-05-17T08:17:00.510Z"
      },
      {
        "duration": 74,
        "start_time": "2023-05-17T08:17:00.561Z"
      },
      {
        "duration": 103,
        "start_time": "2023-05-17T08:17:00.637Z"
      },
      {
        "duration": 85,
        "start_time": "2023-05-17T08:17:00.741Z"
      },
      {
        "duration": 22,
        "start_time": "2023-05-17T08:17:00.835Z"
      },
      {
        "duration": 69,
        "start_time": "2023-05-17T08:17:00.858Z"
      },
      {
        "duration": 23,
        "start_time": "2023-05-17T08:17:00.931Z"
      },
      {
        "duration": 84,
        "start_time": "2023-05-17T08:17:00.956Z"
      },
      {
        "duration": 317,
        "start_time": "2023-05-17T08:17:01.042Z"
      },
      {
        "duration": 8,
        "start_time": "2023-05-17T08:17:01.360Z"
      },
      {
        "duration": 167,
        "start_time": "2023-05-17T08:17:01.370Z"
      },
      {
        "duration": 207,
        "start_time": "2023-05-17T08:17:01.540Z"
      },
      {
        "duration": 126,
        "start_time": "2023-05-17T08:17:01.748Z"
      },
      {
        "duration": 134,
        "start_time": "2023-05-17T08:17:01.876Z"
      },
      {
        "duration": 9,
        "start_time": "2023-05-17T08:17:02.021Z"
      },
      {
        "duration": 284,
        "start_time": "2023-05-17T08:17:02.032Z"
      },
      {
        "duration": 8,
        "start_time": "2023-05-17T08:17:02.321Z"
      },
      {
        "duration": 318,
        "start_time": "2023-05-17T08:17:02.331Z"
      },
      {
        "duration": 623,
        "start_time": "2023-05-17T08:17:02.651Z"
      },
      {
        "duration": 234,
        "start_time": "2023-05-17T08:17:03.276Z"
      },
      {
        "duration": 19,
        "start_time": "2023-05-17T08:17:03.517Z"
      },
      {
        "duration": 493,
        "start_time": "2023-05-17T08:17:03.537Z"
      },
      {
        "duration": 4,
        "start_time": "2023-05-17T08:17:04.032Z"
      },
      {
        "duration": 13,
        "start_time": "2023-05-17T08:17:04.037Z"
      },
      {
        "duration": 197,
        "start_time": "2023-05-17T08:20:44.161Z"
      },
      {
        "duration": 9,
        "start_time": "2023-05-17T08:21:09.126Z"
      },
      {
        "duration": 5,
        "start_time": "2023-05-17T08:21:23.040Z"
      },
      {
        "duration": 6,
        "start_time": "2023-05-17T08:21:37.759Z"
      },
      {
        "duration": 38,
        "start_time": "2023-05-17T08:22:51.084Z"
      },
      {
        "duration": 5,
        "start_time": "2023-05-17T08:23:00.344Z"
      },
      {
        "duration": 8,
        "start_time": "2023-05-17T08:23:13.024Z"
      },
      {
        "duration": 6,
        "start_time": "2023-05-17T08:30:44.757Z"
      },
      {
        "duration": 7,
        "start_time": "2023-05-17T08:30:52.160Z"
      },
      {
        "duration": 1488,
        "start_time": "2023-05-17T09:16:21.615Z"
      },
      {
        "duration": 1892,
        "start_time": "2023-05-17T09:16:23.111Z"
      },
      {
        "duration": 21,
        "start_time": "2023-05-17T09:16:25.004Z"
      },
      {
        "duration": 227,
        "start_time": "2023-05-17T09:16:25.027Z"
      },
      {
        "duration": 7,
        "start_time": "2023-05-17T09:16:25.256Z"
      },
      {
        "duration": 38,
        "start_time": "2023-05-17T09:16:25.264Z"
      },
      {
        "duration": 44,
        "start_time": "2023-05-17T09:16:25.304Z"
      },
      {
        "duration": 6,
        "start_time": "2023-05-17T09:16:25.350Z"
      },
      {
        "duration": 21,
        "start_time": "2023-05-17T09:16:25.357Z"
      },
      {
        "duration": 274,
        "start_time": "2023-05-17T09:16:25.380Z"
      },
      {
        "duration": 15,
        "start_time": "2023-05-17T09:16:25.655Z"
      },
      {
        "duration": 19,
        "start_time": "2023-05-17T09:16:25.671Z"
      },
      {
        "duration": 37,
        "start_time": "2023-05-17T09:16:25.691Z"
      },
      {
        "duration": 33,
        "start_time": "2023-05-17T09:16:25.729Z"
      },
      {
        "duration": 28,
        "start_time": "2023-05-17T09:16:25.763Z"
      },
      {
        "duration": 7,
        "start_time": "2023-05-17T09:16:25.792Z"
      },
      {
        "duration": 52,
        "start_time": "2023-05-17T09:16:25.801Z"
      },
      {
        "duration": 7,
        "start_time": "2023-05-17T09:16:25.855Z"
      },
      {
        "duration": 11,
        "start_time": "2023-05-17T09:16:25.864Z"
      },
      {
        "duration": 61,
        "start_time": "2023-05-17T09:16:25.877Z"
      },
      {
        "duration": 19,
        "start_time": "2023-05-17T09:16:25.942Z"
      },
      {
        "duration": 16,
        "start_time": "2023-05-17T09:16:25.963Z"
      },
      {
        "duration": 67,
        "start_time": "2023-05-17T09:16:25.981Z"
      },
      {
        "duration": 14,
        "start_time": "2023-05-17T09:16:26.050Z"
      },
      {
        "duration": 12,
        "start_time": "2023-05-17T09:16:26.065Z"
      },
      {
        "duration": 62,
        "start_time": "2023-05-17T09:16:26.078Z"
      },
      {
        "duration": 13,
        "start_time": "2023-05-17T09:16:26.141Z"
      },
      {
        "duration": 8,
        "start_time": "2023-05-17T09:16:26.157Z"
      },
      {
        "duration": 13,
        "start_time": "2023-05-17T09:16:26.167Z"
      },
      {
        "duration": 13,
        "start_time": "2023-05-17T09:16:26.182Z"
      },
      {
        "duration": 342,
        "start_time": "2023-05-17T09:16:26.196Z"
      },
      {
        "duration": 7,
        "start_time": "2023-05-17T09:16:26.540Z"
      },
      {
        "duration": 293,
        "start_time": "2023-05-17T09:16:26.550Z"
      },
      {
        "duration": 7,
        "start_time": "2023-05-17T09:16:26.844Z"
      },
      {
        "duration": 332,
        "start_time": "2023-05-17T09:16:26.853Z"
      },
      {
        "duration": 525,
        "start_time": "2023-05-17T09:16:27.187Z"
      },
      {
        "duration": 128,
        "start_time": "2023-05-17T09:16:27.719Z"
      },
      {
        "duration": 4,
        "start_time": "2023-05-17T09:16:27.849Z"
      },
      {
        "duration": 23,
        "start_time": "2023-05-17T09:16:27.855Z"
      },
      {
        "duration": 288,
        "start_time": "2023-05-17T09:16:27.879Z"
      },
      {
        "duration": 3,
        "start_time": "2023-05-17T09:16:28.168Z"
      },
      {
        "duration": 12,
        "start_time": "2023-05-17T09:16:28.172Z"
      },
      {
        "duration": 2821,
        "start_time": "2023-05-17T09:20:03.725Z"
      },
      {
        "duration": 0,
        "start_time": "2023-05-17T09:20:06.547Z"
      },
      {
        "duration": 4,
        "start_time": "2023-05-17T09:20:17.202Z"
      },
      {
        "duration": 4,
        "start_time": "2023-05-17T09:20:20.617Z"
      },
      {
        "duration": 39,
        "start_time": "2023-05-17T09:26:29.082Z"
      },
      {
        "duration": 6,
        "start_time": "2023-05-17T11:36:29.012Z"
      },
      {
        "duration": 5,
        "start_time": "2023-05-17T11:40:03.809Z"
      },
      {
        "duration": 28,
        "start_time": "2023-05-17T11:50:57.543Z"
      },
      {
        "duration": 13,
        "start_time": "2023-05-17T11:51:08.947Z"
      },
      {
        "duration": 10,
        "start_time": "2023-05-17T11:51:25.715Z"
      },
      {
        "duration": 14,
        "start_time": "2023-05-17T12:53:27.416Z"
      },
      {
        "duration": 5,
        "start_time": "2023-05-17T12:54:10.791Z"
      },
      {
        "duration": 145,
        "start_time": "2023-05-17T12:56:01.458Z"
      },
      {
        "duration": 316453,
        "start_time": "2023-05-17T12:56:49.384Z"
      },
      {
        "duration": 309304,
        "start_time": "2023-05-17T13:06:40.363Z"
      },
      {
        "duration": 110,
        "start_time": "2023-05-17T13:42:04.824Z"
      },
      {
        "duration": 0,
        "start_time": "2023-05-17T13:42:04.937Z"
      },
      {
        "duration": 44,
        "start_time": "2023-05-17T16:22:54.159Z"
      },
      {
        "duration": 1526,
        "start_time": "2023-05-17T16:23:24.399Z"
      },
      {
        "duration": 2052,
        "start_time": "2023-05-17T16:23:25.927Z"
      },
      {
        "duration": 17,
        "start_time": "2023-05-17T16:23:27.981Z"
      },
      {
        "duration": 226,
        "start_time": "2023-05-17T16:23:28.000Z"
      },
      {
        "duration": 8,
        "start_time": "2023-05-17T16:23:28.227Z"
      },
      {
        "duration": 22,
        "start_time": "2023-05-17T16:23:28.237Z"
      },
      {
        "duration": 16,
        "start_time": "2023-05-17T16:23:28.261Z"
      },
      {
        "duration": 19,
        "start_time": "2023-05-17T16:23:28.279Z"
      },
      {
        "duration": 18,
        "start_time": "2023-05-17T16:23:28.300Z"
      },
      {
        "duration": 239,
        "start_time": "2023-05-17T16:23:28.321Z"
      },
      {
        "duration": 16,
        "start_time": "2023-05-17T16:23:28.563Z"
      },
      {
        "duration": 3,
        "start_time": "2023-05-17T16:23:28.595Z"
      },
      {
        "duration": 34,
        "start_time": "2023-05-17T16:23:28.600Z"
      },
      {
        "duration": 23,
        "start_time": "2023-05-17T16:23:28.636Z"
      },
      {
        "duration": 50,
        "start_time": "2023-05-17T16:23:28.661Z"
      },
      {
        "duration": 6,
        "start_time": "2023-05-17T16:23:28.713Z"
      },
      {
        "duration": 18,
        "start_time": "2023-05-17T16:23:28.720Z"
      },
      {
        "duration": 8,
        "start_time": "2023-05-17T16:23:28.739Z"
      },
      {
        "duration": 13,
        "start_time": "2023-05-17T16:23:28.748Z"
      },
      {
        "duration": 34,
        "start_time": "2023-05-17T16:23:28.762Z"
      },
      {
        "duration": 6,
        "start_time": "2023-05-17T16:23:28.797Z"
      },
      {
        "duration": 11,
        "start_time": "2023-05-17T16:23:28.804Z"
      },
      {
        "duration": 4,
        "start_time": "2023-05-17T16:23:28.816Z"
      },
      {
        "duration": 13,
        "start_time": "2023-05-17T16:23:28.821Z"
      },
      {
        "duration": 18,
        "start_time": "2023-05-17T16:23:28.836Z"
      },
      {
        "duration": 9,
        "start_time": "2023-05-17T16:23:28.856Z"
      },
      {
        "duration": 5,
        "start_time": "2023-05-17T16:23:28.866Z"
      },
      {
        "duration": 234,
        "start_time": "2023-05-17T16:23:28.874Z"
      },
      {
        "duration": 5,
        "start_time": "2023-05-17T16:23:29.109Z"
      },
      {
        "duration": 208,
        "start_time": "2023-05-17T16:23:29.116Z"
      },
      {
        "duration": 5,
        "start_time": "2023-05-17T16:23:29.325Z"
      },
      {
        "duration": 231,
        "start_time": "2023-05-17T16:23:29.331Z"
      },
      {
        "duration": 502,
        "start_time": "2023-05-17T16:23:29.564Z"
      },
      {
        "duration": 140,
        "start_time": "2023-05-17T16:23:30.067Z"
      },
      {
        "duration": 5,
        "start_time": "2023-05-17T16:23:30.208Z"
      },
      {
        "duration": 62,
        "start_time": "2023-05-17T16:23:30.215Z"
      },
      {
        "duration": 260,
        "start_time": "2023-05-17T16:23:30.279Z"
      },
      {
        "duration": 3,
        "start_time": "2023-05-17T16:23:30.541Z"
      },
      {
        "duration": 84,
        "start_time": "2023-05-17T16:23:30.546Z"
      },
      {
        "duration": 62,
        "start_time": "2023-05-17T16:23:30.632Z"
      },
      {
        "duration": 54,
        "start_time": "2023-05-17T16:23:30.696Z"
      },
      {
        "duration": 64,
        "start_time": "2023-05-17T16:23:30.752Z"
      },
      {
        "duration": 131,
        "start_time": "2023-05-17T16:23:30.818Z"
      },
      {
        "duration": 0,
        "start_time": "2023-05-17T16:23:30.951Z"
      },
      {
        "duration": 0,
        "start_time": "2023-05-17T16:23:30.952Z"
      },
      {
        "duration": 0,
        "start_time": "2023-05-17T16:23:30.953Z"
      },
      {
        "duration": 0,
        "start_time": "2023-05-17T16:23:30.954Z"
      },
      {
        "duration": 0,
        "start_time": "2023-05-17T16:23:30.955Z"
      },
      {
        "duration": 0,
        "start_time": "2023-05-17T16:23:30.955Z"
      },
      {
        "duration": 117,
        "start_time": "2023-05-17T16:23:44.716Z"
      },
      {
        "duration": 88,
        "start_time": "2023-05-17T16:24:48.583Z"
      },
      {
        "duration": 10,
        "start_time": "2023-05-17T16:29:35.295Z"
      },
      {
        "duration": 3,
        "start_time": "2023-05-17T16:30:21.156Z"
      },
      {
        "duration": 9,
        "start_time": "2023-05-17T16:30:29.845Z"
      },
      {
        "duration": 382,
        "start_time": "2023-05-17T16:30:46.417Z"
      },
      {
        "duration": 12,
        "start_time": "2023-05-17T16:38:33.695Z"
      },
      {
        "duration": 1181,
        "start_time": "2023-05-17T16:40:03.284Z"
      },
      {
        "duration": 1230,
        "start_time": "2023-05-17T16:41:10.991Z"
      },
      {
        "duration": 1186,
        "start_time": "2023-05-17T16:44:38.484Z"
      },
      {
        "duration": 1196,
        "start_time": "2023-05-17T16:44:53.599Z"
      },
      {
        "duration": 87,
        "start_time": "2023-05-17T16:52:19.596Z"
      },
      {
        "duration": 91,
        "start_time": "2023-05-17T16:52:25.236Z"
      },
      {
        "duration": 46,
        "start_time": "2023-05-17T16:59:35.205Z"
      },
      {
        "duration": 34,
        "start_time": "2023-05-17T17:00:02.554Z"
      },
      {
        "duration": 34,
        "start_time": "2023-05-17T17:00:27.657Z"
      },
      {
        "duration": 136,
        "start_time": "2023-05-17T17:13:24.721Z"
      },
      {
        "duration": 4,
        "start_time": "2023-05-17T17:17:14.700Z"
      },
      {
        "duration": 6,
        "start_time": "2023-05-17T17:21:30.511Z"
      },
      {
        "duration": 136,
        "start_time": "2023-05-17T17:21:31.491Z"
      },
      {
        "duration": 3,
        "start_time": "2023-05-17T17:21:39.291Z"
      },
      {
        "duration": 4,
        "start_time": "2023-05-17T17:21:41.887Z"
      },
      {
        "duration": 2,
        "start_time": "2023-05-17T17:21:47.299Z"
      },
      {
        "duration": 3,
        "start_time": "2023-05-17T17:25:02.653Z"
      },
      {
        "duration": 3,
        "start_time": "2023-05-17T17:25:03.403Z"
      },
      {
        "duration": 268404,
        "start_time": "2023-05-17T17:34:15.433Z"
      },
      {
        "duration": 74,
        "start_time": "2023-05-17T17:38:43.839Z"
      },
      {
        "duration": 8,
        "start_time": "2023-05-17T17:42:36.987Z"
      },
      {
        "duration": 4,
        "start_time": "2023-05-17T17:43:31.620Z"
      },
      {
        "duration": 3,
        "start_time": "2023-05-17T17:44:06.523Z"
      },
      {
        "duration": 1321,
        "start_time": "2023-05-17T17:46:43.074Z"
      },
      {
        "duration": 1244,
        "start_time": "2023-05-17T17:47:06.455Z"
      },
      {
        "duration": 16257,
        "start_time": "2023-05-17T17:49:14.812Z"
      },
      {
        "duration": 3,
        "start_time": "2023-05-17T17:54:14.096Z"
      },
      {
        "duration": 1407,
        "start_time": "2023-05-17T18:03:05.792Z"
      },
      {
        "duration": 3,
        "start_time": "2023-05-17T18:07:57.954Z"
      },
      {
        "duration": 2,
        "start_time": "2023-05-17T18:07:59.191Z"
      },
      {
        "duration": 89,
        "start_time": "2023-05-17T18:08:05.951Z"
      },
      {
        "duration": 10,
        "start_time": "2023-05-17T18:10:23.890Z"
      },
      {
        "duration": 10,
        "start_time": "2023-05-17T18:11:32.600Z"
      },
      {
        "duration": 4,
        "start_time": "2023-05-17T18:11:42.552Z"
      },
      {
        "duration": 266234,
        "start_time": "2023-05-17T18:11:52.297Z"
      },
      {
        "duration": 2,
        "start_time": "2023-05-17T18:16:50.333Z"
      },
      {
        "duration": 4,
        "start_time": "2023-05-17T18:17:09.508Z"
      },
      {
        "duration": 3,
        "start_time": "2023-05-17T18:17:30.134Z"
      },
      {
        "duration": 1381,
        "start_time": "2023-05-17T18:22:41.992Z"
      },
      {
        "duration": 832,
        "start_time": "2023-05-17T18:22:43.375Z"
      },
      {
        "duration": 17,
        "start_time": "2023-05-17T18:22:44.209Z"
      },
      {
        "duration": 222,
        "start_time": "2023-05-17T18:22:44.228Z"
      },
      {
        "duration": 8,
        "start_time": "2023-05-17T18:22:44.452Z"
      },
      {
        "duration": 41,
        "start_time": "2023-05-17T18:22:44.461Z"
      },
      {
        "duration": 25,
        "start_time": "2023-05-17T18:22:44.504Z"
      },
      {
        "duration": 7,
        "start_time": "2023-05-17T18:22:44.531Z"
      },
      {
        "duration": 27,
        "start_time": "2023-05-17T18:22:44.540Z"
      },
      {
        "duration": 295,
        "start_time": "2023-05-17T18:22:44.568Z"
      },
      {
        "duration": 15,
        "start_time": "2023-05-17T18:22:44.865Z"
      },
      {
        "duration": 17,
        "start_time": "2023-05-17T18:22:44.882Z"
      },
      {
        "duration": 43,
        "start_time": "2023-05-17T18:22:44.900Z"
      },
      {
        "duration": 23,
        "start_time": "2023-05-17T18:22:44.946Z"
      },
      {
        "duration": 42,
        "start_time": "2023-05-17T18:22:44.970Z"
      },
      {
        "duration": 4,
        "start_time": "2023-05-17T18:22:45.014Z"
      },
      {
        "duration": 47,
        "start_time": "2023-05-17T18:22:45.020Z"
      },
      {
        "duration": 16,
        "start_time": "2023-05-17T18:22:45.068Z"
      },
      {
        "duration": 38,
        "start_time": "2023-05-17T18:22:45.086Z"
      },
      {
        "duration": 3,
        "start_time": "2023-05-17T18:22:45.126Z"
      },
      {
        "duration": 7,
        "start_time": "2023-05-17T18:22:45.130Z"
      },
      {
        "duration": 13,
        "start_time": "2023-05-17T18:22:45.138Z"
      },
      {
        "duration": 8,
        "start_time": "2023-05-17T18:22:45.153Z"
      },
      {
        "duration": 8,
        "start_time": "2023-05-17T18:22:45.163Z"
      },
      {
        "duration": 18,
        "start_time": "2023-05-17T18:22:45.172Z"
      },
      {
        "duration": 18,
        "start_time": "2023-05-17T18:22:45.192Z"
      },
      {
        "duration": 6,
        "start_time": "2023-05-17T18:22:45.212Z"
      },
      {
        "duration": 256,
        "start_time": "2023-05-17T18:22:45.219Z"
      },
      {
        "duration": 71,
        "start_time": "2023-05-17T18:22:45.476Z"
      },
      {
        "duration": 0,
        "start_time": "2023-05-17T18:22:45.548Z"
      },
      {
        "duration": 0,
        "start_time": "2023-05-17T18:22:45.550Z"
      },
      {
        "duration": 0,
        "start_time": "2023-05-17T18:22:45.551Z"
      },
      {
        "duration": 0,
        "start_time": "2023-05-17T18:22:45.552Z"
      },
      {
        "duration": 0,
        "start_time": "2023-05-17T18:22:45.553Z"
      },
      {
        "duration": 0,
        "start_time": "2023-05-17T18:22:45.554Z"
      },
      {
        "duration": 0,
        "start_time": "2023-05-17T18:22:45.555Z"
      },
      {
        "duration": 0,
        "start_time": "2023-05-17T18:22:45.556Z"
      },
      {
        "duration": 0,
        "start_time": "2023-05-17T18:22:45.556Z"
      },
      {
        "duration": 0,
        "start_time": "2023-05-17T18:22:45.557Z"
      },
      {
        "duration": 0,
        "start_time": "2023-05-17T18:22:45.558Z"
      },
      {
        "duration": 0,
        "start_time": "2023-05-17T18:22:45.559Z"
      },
      {
        "duration": 4,
        "start_time": "2023-05-17T18:23:24.147Z"
      },
      {
        "duration": 780,
        "start_time": "2023-05-17T18:23:24.153Z"
      },
      {
        "duration": 14,
        "start_time": "2023-05-17T18:23:24.935Z"
      },
      {
        "duration": 226,
        "start_time": "2023-05-17T18:23:24.951Z"
      },
      {
        "duration": 29,
        "start_time": "2023-05-17T18:23:25.179Z"
      },
      {
        "duration": 17,
        "start_time": "2023-05-17T18:23:25.209Z"
      },
      {
        "duration": 10,
        "start_time": "2023-05-17T18:23:25.228Z"
      },
      {
        "duration": 8,
        "start_time": "2023-05-17T18:23:25.239Z"
      },
      {
        "duration": 19,
        "start_time": "2023-05-17T18:23:25.249Z"
      },
      {
        "duration": 241,
        "start_time": "2023-05-17T18:23:25.270Z"
      },
      {
        "duration": 15,
        "start_time": "2023-05-17T18:23:25.512Z"
      },
      {
        "duration": 3,
        "start_time": "2023-05-17T18:23:25.528Z"
      },
      {
        "duration": 30,
        "start_time": "2023-05-17T18:23:25.533Z"
      },
      {
        "duration": 45,
        "start_time": "2023-05-17T18:23:25.565Z"
      },
      {
        "duration": 25,
        "start_time": "2023-05-17T18:23:25.611Z"
      },
      {
        "duration": 4,
        "start_time": "2023-05-17T18:23:25.638Z"
      },
      {
        "duration": 20,
        "start_time": "2023-05-17T18:23:25.643Z"
      },
      {
        "duration": 7,
        "start_time": "2023-05-17T18:23:25.664Z"
      },
      {
        "duration": 39,
        "start_time": "2023-05-17T18:23:25.672Z"
      },
      {
        "duration": 10,
        "start_time": "2023-05-17T18:23:25.713Z"
      },
      {
        "duration": 7,
        "start_time": "2023-05-17T18:23:25.724Z"
      },
      {
        "duration": 36,
        "start_time": "2023-05-17T18:23:25.732Z"
      },
      {
        "duration": 7,
        "start_time": "2023-05-17T18:23:25.770Z"
      },
      {
        "duration": 5,
        "start_time": "2023-05-17T18:23:25.780Z"
      },
      {
        "duration": 17,
        "start_time": "2023-05-17T18:23:25.786Z"
      },
      {
        "duration": 14,
        "start_time": "2023-05-17T18:23:25.805Z"
      },
      {
        "duration": 6,
        "start_time": "2023-05-17T18:23:25.821Z"
      },
      {
        "duration": 212,
        "start_time": "2023-05-17T18:23:25.828Z"
      },
      {
        "duration": 5,
        "start_time": "2023-05-17T18:23:26.042Z"
      },
      {
        "duration": 315,
        "start_time": "2023-05-17T18:23:26.048Z"
      },
      {
        "duration": 6,
        "start_time": "2023-05-17T18:23:26.364Z"
      },
      {
        "duration": 260,
        "start_time": "2023-05-17T18:23:26.371Z"
      },
      {
        "duration": 340,
        "start_time": "2023-05-17T18:23:26.633Z"
      },
      {
        "duration": 139,
        "start_time": "2023-05-17T18:23:26.975Z"
      },
      {
        "duration": 5,
        "start_time": "2023-05-17T18:23:27.115Z"
      },
      {
        "duration": 27,
        "start_time": "2023-05-17T18:23:27.121Z"
      },
      {
        "duration": 219,
        "start_time": "2023-05-17T18:23:27.149Z"
      },
      {
        "duration": 5,
        "start_time": "2023-05-17T18:23:27.370Z"
      },
      {
        "duration": 5,
        "start_time": "2023-05-17T18:23:27.377Z"
      },
      {
        "duration": 3,
        "start_time": "2023-05-17T18:23:27.398Z"
      },
      {
        "duration": 10,
        "start_time": "2023-05-17T18:23:30.455Z"
      },
      {
        "duration": 109,
        "start_time": "2023-05-17T18:24:37.923Z"
      },
      {
        "duration": 14,
        "start_time": "2023-05-17T18:24:46.615Z"
      },
      {
        "duration": 9,
        "start_time": "2023-05-17T18:26:29.327Z"
      },
      {
        "duration": 3,
        "start_time": "2023-05-17T18:26:36.839Z"
      },
      {
        "duration": 13,
        "start_time": "2023-05-17T18:26:46.585Z"
      },
      {
        "duration": 7,
        "start_time": "2023-05-17T18:26:58.705Z"
      },
      {
        "duration": 9,
        "start_time": "2023-05-17T18:27:44.817Z"
      },
      {
        "duration": 3,
        "start_time": "2023-05-17T18:27:51.898Z"
      },
      {
        "duration": 3,
        "start_time": "2023-05-17T18:27:52.491Z"
      },
      {
        "duration": 3,
        "start_time": "2023-05-17T18:27:53.297Z"
      },
      {
        "duration": 585,
        "start_time": "2023-05-17T18:27:54.015Z"
      },
      {
        "duration": 3,
        "start_time": "2023-05-17T18:31:12.191Z"
      },
      {
        "duration": 11,
        "start_time": "2023-05-17T18:31:16.715Z"
      },
      {
        "duration": 4,
        "start_time": "2023-05-17T18:48:17.006Z"
      },
      {
        "duration": 4,
        "start_time": "2023-05-17T18:49:43.255Z"
      },
      {
        "duration": 12,
        "start_time": "2023-05-17T18:49:44.947Z"
      },
      {
        "duration": 5,
        "start_time": "2023-05-17T18:49:55.921Z"
      },
      {
        "duration": 3,
        "start_time": "2023-05-17T18:50:40.343Z"
      },
      {
        "duration": 88,
        "start_time": "2023-05-17T18:50:46.009Z"
      },
      {
        "duration": 9,
        "start_time": "2023-05-17T19:25:45.333Z"
      },
      {
        "duration": 109,
        "start_time": "2023-05-17T19:28:43.809Z"
      },
      {
        "duration": 4,
        "start_time": "2023-05-17T19:29:59.427Z"
      },
      {
        "duration": 4,
        "start_time": "2023-05-17T19:30:10.876Z"
      },
      {
        "duration": 9,
        "start_time": "2023-05-17T19:30:29.380Z"
      },
      {
        "duration": 8,
        "start_time": "2023-05-17T19:31:25.991Z"
      },
      {
        "duration": 11,
        "start_time": "2023-05-17T19:31:36.481Z"
      },
      {
        "duration": 6,
        "start_time": "2023-05-17T19:31:42.320Z"
      },
      {
        "duration": 120,
        "start_time": "2023-05-17T19:32:43.996Z"
      },
      {
        "duration": 116,
        "start_time": "2023-05-17T19:32:56.887Z"
      },
      {
        "duration": 3,
        "start_time": "2023-05-17T19:47:00.573Z"
      },
      {
        "duration": 3,
        "start_time": "2023-05-17T19:47:09.576Z"
      },
      {
        "duration": 4,
        "start_time": "2023-05-17T19:47:10.522Z"
      },
      {
        "duration": 5,
        "start_time": "2023-05-17T19:47:22.181Z"
      },
      {
        "duration": 5,
        "start_time": "2023-05-17T19:47:26.603Z"
      },
      {
        "duration": 1351,
        "start_time": "2023-05-17T19:47:47.195Z"
      },
      {
        "duration": 766,
        "start_time": "2023-05-17T19:47:48.548Z"
      },
      {
        "duration": 17,
        "start_time": "2023-05-17T19:47:49.315Z"
      },
      {
        "duration": 231,
        "start_time": "2023-05-17T19:47:49.334Z"
      },
      {
        "duration": 7,
        "start_time": "2023-05-17T19:47:49.567Z"
      },
      {
        "duration": 31,
        "start_time": "2023-05-17T19:47:49.576Z"
      },
      {
        "duration": 23,
        "start_time": "2023-05-17T19:47:49.609Z"
      },
      {
        "duration": 12,
        "start_time": "2023-05-17T19:47:49.634Z"
      },
      {
        "duration": 28,
        "start_time": "2023-05-17T19:47:49.648Z"
      },
      {
        "duration": 230,
        "start_time": "2023-05-17T19:47:49.677Z"
      },
      {
        "duration": 16,
        "start_time": "2023-05-17T19:47:49.909Z"
      },
      {
        "duration": 3,
        "start_time": "2023-05-17T19:47:49.927Z"
      },
      {
        "duration": 32,
        "start_time": "2023-05-17T19:47:49.932Z"
      },
      {
        "duration": 45,
        "start_time": "2023-05-17T19:47:49.966Z"
      },
      {
        "duration": 34,
        "start_time": "2023-05-17T19:47:50.012Z"
      },
      {
        "duration": 4,
        "start_time": "2023-05-17T19:47:50.048Z"
      },
      {
        "duration": 14,
        "start_time": "2023-05-17T19:47:50.054Z"
      },
      {
        "duration": 27,
        "start_time": "2023-05-17T19:47:50.070Z"
      },
      {
        "duration": 15,
        "start_time": "2023-05-17T19:47:50.099Z"
      },
      {
        "duration": 8,
        "start_time": "2023-05-17T19:47:50.115Z"
      },
      {
        "duration": 16,
        "start_time": "2023-05-17T19:47:50.124Z"
      },
      {
        "duration": 15,
        "start_time": "2023-05-17T19:47:50.141Z"
      },
      {
        "duration": 16,
        "start_time": "2023-05-17T19:47:50.157Z"
      },
      {
        "duration": 6,
        "start_time": "2023-05-17T19:47:50.174Z"
      },
      {
        "duration": 25,
        "start_time": "2023-05-17T19:47:50.181Z"
      },
      {
        "duration": 6,
        "start_time": "2023-05-17T19:47:50.208Z"
      },
      {
        "duration": 15,
        "start_time": "2023-05-17T19:47:50.215Z"
      },
      {
        "duration": 231,
        "start_time": "2023-05-17T19:47:50.231Z"
      },
      {
        "duration": 6,
        "start_time": "2023-05-17T19:47:50.464Z"
      },
      {
        "duration": 148,
        "start_time": "2023-05-17T19:47:50.472Z"
      },
      {
        "duration": 231,
        "start_time": "2023-05-17T19:47:50.621Z"
      },
      {
        "duration": 6,
        "start_time": "2023-05-17T19:47:50.854Z"
      },
      {
        "duration": 296,
        "start_time": "2023-05-17T19:47:50.862Z"
      },
      {
        "duration": 402,
        "start_time": "2023-05-17T19:47:51.160Z"
      },
      {
        "duration": 125,
        "start_time": "2023-05-17T19:47:51.564Z"
      },
      {
        "duration": 14,
        "start_time": "2023-05-17T19:47:51.694Z"
      },
      {
        "duration": 242,
        "start_time": "2023-05-17T19:47:51.710Z"
      },
      {
        "duration": 6,
        "start_time": "2023-05-17T19:47:51.954Z"
      },
      {
        "duration": 26,
        "start_time": "2023-05-17T19:47:51.961Z"
      },
      {
        "duration": 14,
        "start_time": "2023-05-17T19:47:51.988Z"
      },
      {
        "duration": 31,
        "start_time": "2023-05-17T19:47:52.006Z"
      },
      {
        "duration": 24,
        "start_time": "2023-05-17T19:47:52.039Z"
      },
      {
        "duration": 13,
        "start_time": "2023-05-17T19:47:52.064Z"
      },
      {
        "duration": 27,
        "start_time": "2023-05-17T19:47:52.079Z"
      },
      {
        "duration": 3,
        "start_time": "2023-05-17T19:47:55.335Z"
      },
      {
        "duration": 3,
        "start_time": "2023-05-17T19:47:56.303Z"
      },
      {
        "duration": 3,
        "start_time": "2023-05-17T19:47:57.056Z"
      },
      {
        "duration": 5,
        "start_time": "2023-05-17T19:47:57.828Z"
      },
      {
        "duration": 2,
        "start_time": "2023-05-17T19:48:07.307Z"
      },
      {
        "duration": 212,
        "start_time": "2023-05-17T19:48:14.739Z"
      },
      {
        "duration": 567,
        "start_time": "2023-05-17T19:49:09.085Z"
      },
      {
        "duration": 267855,
        "start_time": "2023-05-17T19:49:34.959Z"
      },
      {
        "duration": 3,
        "start_time": "2023-05-17T19:54:02.816Z"
      },
      {
        "duration": 6,
        "start_time": "2023-05-17T19:54:57.004Z"
      },
      {
        "duration": 8,
        "start_time": "2023-05-17T19:55:06.307Z"
      },
      {
        "duration": 265150,
        "start_time": "2023-05-17T19:56:16.484Z"
      },
      {
        "duration": 6,
        "start_time": "2023-05-17T20:00:41.636Z"
      },
      {
        "duration": 5,
        "start_time": "2023-05-17T20:00:41.643Z"
      },
      {
        "duration": 3,
        "start_time": "2023-05-17T20:01:03.737Z"
      },
      {
        "duration": 3,
        "start_time": "2023-05-17T20:01:53.414Z"
      },
      {
        "duration": 4,
        "start_time": "2023-05-17T20:01:56.510Z"
      },
      {
        "duration": 3,
        "start_time": "2023-05-17T20:01:58.133Z"
      },
      {
        "duration": 678,
        "start_time": "2023-05-17T20:02:00.443Z"
      },
      {
        "duration": 5,
        "start_time": "2023-05-17T20:02:08.606Z"
      },
      {
        "duration": 3,
        "start_time": "2023-05-17T20:03:10.414Z"
      },
      {
        "duration": 264808,
        "start_time": "2023-05-17T20:04:35.140Z"
      },
      {
        "duration": 3,
        "start_time": "2023-05-17T20:08:59.950Z"
      },
      {
        "duration": 7,
        "start_time": "2023-05-17T20:09:15.380Z"
      },
      {
        "duration": 7,
        "start_time": "2023-05-17T20:10:09.742Z"
      },
      {
        "duration": 3,
        "start_time": "2023-05-17T20:10:15.631Z"
      },
      {
        "duration": 3,
        "start_time": "2023-05-17T20:11:18.180Z"
      },
      {
        "duration": 3,
        "start_time": "2023-05-17T20:11:43.987Z"
      },
      {
        "duration": 5,
        "start_time": "2023-05-17T20:11:54.441Z"
      },
      {
        "duration": 10,
        "start_time": "2023-05-17T20:18:46.650Z"
      },
      {
        "duration": 522332,
        "start_time": "2023-05-17T20:19:05.634Z"
      },
      {
        "duration": 0,
        "start_time": "2023-05-17T20:27:47.968Z"
      },
      {
        "duration": 0,
        "start_time": "2023-05-17T20:27:47.969Z"
      },
      {
        "duration": 0,
        "start_time": "2023-05-17T20:27:47.970Z"
      },
      {
        "duration": 1365,
        "start_time": "2023-05-17T20:29:46.484Z"
      },
      {
        "duration": 752,
        "start_time": "2023-05-17T20:29:47.851Z"
      },
      {
        "duration": 17,
        "start_time": "2023-05-17T20:29:48.605Z"
      },
      {
        "duration": 231,
        "start_time": "2023-05-17T20:29:48.623Z"
      },
      {
        "duration": 7,
        "start_time": "2023-05-17T20:29:48.856Z"
      },
      {
        "duration": 30,
        "start_time": "2023-05-17T20:29:48.865Z"
      },
      {
        "duration": 14,
        "start_time": "2023-05-17T20:29:48.897Z"
      },
      {
        "duration": 5,
        "start_time": "2023-05-17T20:29:48.913Z"
      },
      {
        "duration": 20,
        "start_time": "2023-05-17T20:29:48.920Z"
      },
      {
        "duration": 246,
        "start_time": "2023-05-17T20:29:48.942Z"
      },
      {
        "duration": 20,
        "start_time": "2023-05-17T20:29:49.190Z"
      },
      {
        "duration": 4,
        "start_time": "2023-05-17T20:29:49.211Z"
      },
      {
        "duration": 30,
        "start_time": "2023-05-17T20:29:49.217Z"
      },
      {
        "duration": 20,
        "start_time": "2023-05-17T20:29:49.249Z"
      },
      {
        "duration": 49,
        "start_time": "2023-05-17T20:29:49.270Z"
      },
      {
        "duration": 4,
        "start_time": "2023-05-17T20:29:49.321Z"
      },
      {
        "duration": 74,
        "start_time": "2023-05-17T20:31:03.207Z"
      },
      {
        "duration": 12,
        "start_time": "2023-05-17T20:33:29.215Z"
      },
      {
        "duration": 12,
        "start_time": "2023-05-17T20:34:00.503Z"
      },
      {
        "duration": 1189,
        "start_time": "2023-05-17T20:34:20.150Z"
      },
      {
        "duration": 11,
        "start_time": "2023-05-17T20:34:29.121Z"
      },
      {
        "duration": 14,
        "start_time": "2023-05-17T20:34:57.895Z"
      },
      {
        "duration": 4,
        "start_time": "2023-05-17T20:34:59.813Z"
      },
      {
        "duration": 1532,
        "start_time": "2023-05-17T20:36:27.391Z"
      },
      {
        "duration": 867,
        "start_time": "2023-05-17T20:36:28.924Z"
      },
      {
        "duration": 22,
        "start_time": "2023-05-17T20:36:29.794Z"
      },
      {
        "duration": 239,
        "start_time": "2023-05-17T20:36:29.818Z"
      },
      {
        "duration": 8,
        "start_time": "2023-05-17T20:36:30.059Z"
      },
      {
        "duration": 74,
        "start_time": "2023-05-17T20:36:30.069Z"
      },
      {
        "duration": 64,
        "start_time": "2023-05-17T20:36:30.145Z"
      },
      {
        "duration": 40,
        "start_time": "2023-05-17T20:36:30.211Z"
      },
      {
        "duration": 34,
        "start_time": "2023-05-17T20:36:30.252Z"
      },
      {
        "duration": 281,
        "start_time": "2023-05-17T20:36:30.287Z"
      },
      {
        "duration": 15,
        "start_time": "2023-05-17T20:36:30.570Z"
      },
      {
        "duration": 84,
        "start_time": "2023-05-17T20:36:30.596Z"
      },
      {
        "duration": 136,
        "start_time": "2023-05-17T20:36:30.682Z"
      },
      {
        "duration": 26,
        "start_time": "2023-05-17T20:36:30.820Z"
      },
      {
        "duration": 32,
        "start_time": "2023-05-17T20:36:30.848Z"
      },
      {
        "duration": 28,
        "start_time": "2023-05-17T20:36:30.882Z"
      },
      {
        "duration": 7,
        "start_time": "2023-05-17T20:36:50.087Z"
      },
      {
        "duration": 8,
        "start_time": "2023-05-17T20:39:52.439Z"
      },
      {
        "duration": 13,
        "start_time": "2023-05-17T20:40:04.950Z"
      },
      {
        "duration": 3,
        "start_time": "2023-05-17T20:40:07.487Z"
      },
      {
        "duration": 3,
        "start_time": "2023-05-17T20:41:15.056Z"
      },
      {
        "duration": 12,
        "start_time": "2023-05-17T20:41:16.239Z"
      },
      {
        "duration": 5,
        "start_time": "2023-05-17T20:41:17.410Z"
      },
      {
        "duration": 5,
        "start_time": "2023-05-17T20:41:18.634Z"
      },
      {
        "duration": 15,
        "start_time": "2023-05-17T20:41:22.302Z"
      },
      {
        "duration": 8,
        "start_time": "2023-05-17T20:41:31.681Z"
      },
      {
        "duration": 5,
        "start_time": "2023-05-17T20:41:33.554Z"
      },
      {
        "duration": 255,
        "start_time": "2023-05-17T20:41:40.512Z"
      },
      {
        "duration": 119,
        "start_time": "2023-05-17T20:43:10.540Z"
      },
      {
        "duration": 4,
        "start_time": "2023-05-17T20:43:35.046Z"
      },
      {
        "duration": 11,
        "start_time": "2023-05-17T20:43:45.416Z"
      },
      {
        "duration": 10,
        "start_time": "2023-05-17T20:43:51.250Z"
      },
      {
        "duration": 5,
        "start_time": "2023-05-17T20:46:25.086Z"
      },
      {
        "duration": 4,
        "start_time": "2023-05-17T20:46:31.790Z"
      },
      {
        "duration": 7,
        "start_time": "2023-05-17T20:46:56.598Z"
      },
      {
        "duration": 4,
        "start_time": "2023-05-17T20:47:10.394Z"
      },
      {
        "duration": 10,
        "start_time": "2023-05-17T20:49:32.639Z"
      },
      {
        "duration": 15,
        "start_time": "2023-05-17T20:49:58.302Z"
      },
      {
        "duration": 14,
        "start_time": "2023-05-17T20:50:21.139Z"
      },
      {
        "duration": 79,
        "start_time": "2023-05-17T20:50:45.669Z"
      },
      {
        "duration": 27,
        "start_time": "2023-05-17T20:50:52.536Z"
      },
      {
        "duration": 13,
        "start_time": "2023-05-17T20:51:40.940Z"
      },
      {
        "duration": 3,
        "start_time": "2023-05-17T20:53:02.443Z"
      },
      {
        "duration": 4,
        "start_time": "2023-05-17T20:53:15.527Z"
      },
      {
        "duration": 1190,
        "start_time": "2023-05-17T20:53:19.931Z"
      },
      {
        "duration": 36,
        "start_time": "2023-05-17T20:54:30.013Z"
      },
      {
        "duration": 35,
        "start_time": "2023-05-17T20:54:59.114Z"
      },
      {
        "duration": 6,
        "start_time": "2023-05-17T20:55:05.906Z"
      },
      {
        "duration": 6,
        "start_time": "2023-05-17T20:55:39.906Z"
      },
      {
        "duration": 9,
        "start_time": "2023-05-17T20:55:55.885Z"
      },
      {
        "duration": 10,
        "start_time": "2023-05-17T20:56:02.950Z"
      },
      {
        "duration": 6,
        "start_time": "2023-05-17T20:57:00.220Z"
      },
      {
        "duration": 9,
        "start_time": "2023-05-17T21:01:24.939Z"
      },
      {
        "duration": 5,
        "start_time": "2023-05-17T21:01:53.118Z"
      },
      {
        "duration": 6,
        "start_time": "2023-05-17T21:02:06.490Z"
      },
      {
        "duration": 9,
        "start_time": "2023-05-17T21:03:31.586Z"
      },
      {
        "duration": 6,
        "start_time": "2023-05-17T21:03:32.449Z"
      },
      {
        "duration": 6,
        "start_time": "2023-05-17T21:05:03.413Z"
      },
      {
        "duration": 7,
        "start_time": "2023-05-17T21:05:33.494Z"
      },
      {
        "duration": 6,
        "start_time": "2023-05-17T21:06:17.138Z"
      },
      {
        "duration": 110,
        "start_time": "2023-05-17T21:06:24.106Z"
      },
      {
        "duration": 230,
        "start_time": "2023-05-17T21:06:27.813Z"
      },
      {
        "duration": 8,
        "start_time": "2023-05-17T21:06:37.225Z"
      },
      {
        "duration": 5,
        "start_time": "2023-05-17T21:07:18.347Z"
      },
      {
        "duration": 6,
        "start_time": "2023-05-17T21:08:33.212Z"
      },
      {
        "duration": 7,
        "start_time": "2023-05-17T21:08:46.345Z"
      },
      {
        "duration": 8,
        "start_time": "2023-05-17T21:09:07.405Z"
      },
      {
        "duration": 293,
        "start_time": "2023-05-17T21:09:34.839Z"
      },
      {
        "duration": 421,
        "start_time": "2023-05-17T21:09:46.278Z"
      },
      {
        "duration": 119,
        "start_time": "2023-05-17T21:09:50.246Z"
      },
      {
        "duration": 16,
        "start_time": "2023-05-17T21:09:58.722Z"
      },
      {
        "duration": 213,
        "start_time": "2023-05-17T21:10:04.002Z"
      },
      {
        "duration": 6,
        "start_time": "2023-05-17T21:10:13.718Z"
      },
      {
        "duration": 4,
        "start_time": "2023-05-17T21:10:14.841Z"
      },
      {
        "duration": 5,
        "start_time": "2023-05-17T21:10:16.417Z"
      },
      {
        "duration": 9,
        "start_time": "2023-05-17T21:10:17.498Z"
      },
      {
        "duration": 7,
        "start_time": "2023-05-17T21:10:21.490Z"
      },
      {
        "duration": 3,
        "start_time": "2023-05-17T21:10:22.617Z"
      },
      {
        "duration": 4,
        "start_time": "2023-05-17T21:10:24.898Z"
      },
      {
        "duration": 3,
        "start_time": "2023-05-17T21:10:52.020Z"
      },
      {
        "duration": 3,
        "start_time": "2023-05-17T21:11:20.747Z"
      },
      {
        "duration": 4,
        "start_time": "2023-05-17T21:11:31.799Z"
      },
      {
        "duration": 3,
        "start_time": "2023-05-17T21:11:32.638Z"
      },
      {
        "duration": 3,
        "start_time": "2023-05-17T21:11:33.498Z"
      },
      {
        "duration": 3,
        "start_time": "2023-05-17T21:11:48.347Z"
      },
      {
        "duration": 266159,
        "start_time": "2023-05-17T21:12:05.938Z"
      },
      {
        "duration": 4,
        "start_time": "2023-05-17T21:16:32.099Z"
      },
      {
        "duration": 16,
        "start_time": "2023-05-17T21:16:32.104Z"
      },
      {
        "duration": 1157701,
        "start_time": "2023-05-17T21:16:32.121Z"
      },
      {
        "duration": 0,
        "start_time": "2023-05-17T21:35:49.824Z"
      },
      {
        "duration": 0,
        "start_time": "2023-05-17T21:35:49.825Z"
      },
      {
        "duration": 0,
        "start_time": "2023-05-17T21:35:49.827Z"
      },
      {
        "duration": 0,
        "start_time": "2023-05-17T21:35:49.828Z"
      },
      {
        "duration": 0,
        "start_time": "2023-05-17T21:35:49.829Z"
      },
      {
        "duration": 115,
        "start_time": "2023-05-17T21:35:53.619Z"
      },
      {
        "duration": 3,
        "start_time": "2023-05-17T21:36:02.756Z"
      },
      {
        "duration": 1597,
        "start_time": "2023-05-17T21:36:11.499Z"
      },
      {
        "duration": 1604,
        "start_time": "2023-05-17T21:37:07.215Z"
      },
      {
        "duration": 3973,
        "start_time": "2023-05-17T21:37:18.627Z"
      },
      {
        "duration": 12,
        "start_time": "2023-05-17T21:37:26.499Z"
      },
      {
        "duration": 1434,
        "start_time": "2023-05-17T21:37:58.774Z"
      },
      {
        "duration": 4,
        "start_time": "2023-05-17T21:38:29.300Z"
      },
      {
        "duration": 36,
        "start_time": "2023-05-17T21:39:28.974Z"
      },
      {
        "duration": 35,
        "start_time": "2023-05-17T21:39:37.394Z"
      },
      {
        "duration": 37,
        "start_time": "2023-05-17T21:40:17.111Z"
      },
      {
        "duration": 35,
        "start_time": "2023-05-17T21:43:06.906Z"
      },
      {
        "duration": 17,
        "start_time": "2023-05-17T21:44:03.705Z"
      },
      {
        "duration": 17,
        "start_time": "2023-05-17T21:44:40.016Z"
      },
      {
        "duration": 4,
        "start_time": "2023-05-17T21:46:04.631Z"
      },
      {
        "duration": 20381,
        "start_time": "2023-05-17T21:46:20.259Z"
      },
      {
        "duration": 0,
        "start_time": "2023-05-17T21:46:40.641Z"
      },
      {
        "duration": 0,
        "start_time": "2023-05-17T21:46:40.643Z"
      },
      {
        "duration": 1086,
        "start_time": "2023-05-17T21:46:46.917Z"
      },
      {
        "duration": 1249,
        "start_time": "2023-05-17T21:47:29.948Z"
      },
      {
        "duration": 13,
        "start_time": "2023-05-17T21:48:34.718Z"
      },
      {
        "duration": 93,
        "start_time": "2023-05-17T21:51:33.348Z"
      },
      {
        "duration": 6,
        "start_time": "2023-05-17T21:55:06.821Z"
      },
      {
        "duration": 12,
        "start_time": "2023-05-17T21:57:02.216Z"
      },
      {
        "duration": 5,
        "start_time": "2023-05-17T21:57:19.287Z"
      },
      {
        "duration": 6,
        "start_time": "2023-05-17T21:57:28.535Z"
      },
      {
        "duration": 6,
        "start_time": "2023-05-17T21:57:53.924Z"
      },
      {
        "duration": 6,
        "start_time": "2023-05-17T21:58:00.626Z"
      },
      {
        "duration": 5,
        "start_time": "2023-05-17T21:58:21.842Z"
      },
      {
        "duration": 1094906,
        "start_time": "2023-05-17T21:58:42.189Z"
      },
      {
        "duration": 0,
        "start_time": "2023-05-17T22:16:57.097Z"
      },
      {
        "duration": 0,
        "start_time": "2023-05-17T22:16:57.098Z"
      },
      {
        "duration": 1547,
        "start_time": "2023-05-18T04:35:13.818Z"
      },
      {
        "duration": 2052,
        "start_time": "2023-05-18T04:35:15.367Z"
      },
      {
        "duration": 18,
        "start_time": "2023-05-18T04:35:17.421Z"
      },
      {
        "duration": 225,
        "start_time": "2023-05-18T04:35:17.441Z"
      },
      {
        "duration": 7,
        "start_time": "2023-05-18T04:35:17.667Z"
      },
      {
        "duration": 30,
        "start_time": "2023-05-18T04:35:17.676Z"
      },
      {
        "duration": 12,
        "start_time": "2023-05-18T04:35:17.707Z"
      },
      {
        "duration": 6,
        "start_time": "2023-05-18T04:35:17.720Z"
      },
      {
        "duration": 18,
        "start_time": "2023-05-18T04:35:17.728Z"
      },
      {
        "duration": 259,
        "start_time": "2023-05-18T04:35:17.749Z"
      },
      {
        "duration": 17,
        "start_time": "2023-05-18T04:35:18.009Z"
      },
      {
        "duration": 5,
        "start_time": "2023-05-18T04:35:18.028Z"
      },
      {
        "duration": 33,
        "start_time": "2023-05-18T04:35:18.035Z"
      },
      {
        "duration": 46,
        "start_time": "2023-05-18T04:35:18.070Z"
      },
      {
        "duration": 32,
        "start_time": "2023-05-18T04:35:18.117Z"
      },
      {
        "duration": 5,
        "start_time": "2023-05-18T04:35:18.151Z"
      },
      {
        "duration": 16,
        "start_time": "2023-05-18T04:35:18.157Z"
      },
      {
        "duration": 30,
        "start_time": "2023-05-18T04:35:18.175Z"
      },
      {
        "duration": 4,
        "start_time": "2023-05-18T04:35:18.207Z"
      },
      {
        "duration": 8,
        "start_time": "2023-05-18T04:35:18.212Z"
      },
      {
        "duration": 12,
        "start_time": "2023-05-18T04:35:18.221Z"
      },
      {
        "duration": 4,
        "start_time": "2023-05-18T04:35:18.234Z"
      },
      {
        "duration": 21,
        "start_time": "2023-05-18T04:35:18.240Z"
      },
      {
        "duration": 13,
        "start_time": "2023-05-18T04:35:18.263Z"
      },
      {
        "duration": 19,
        "start_time": "2023-05-18T04:35:18.277Z"
      },
      {
        "duration": 5,
        "start_time": "2023-05-18T04:35:18.298Z"
      },
      {
        "duration": 246,
        "start_time": "2023-05-18T04:35:18.304Z"
      },
      {
        "duration": 5,
        "start_time": "2023-05-18T04:35:18.554Z"
      },
      {
        "duration": 7,
        "start_time": "2023-05-18T04:35:18.560Z"
      },
      {
        "duration": 5,
        "start_time": "2023-05-18T04:35:18.569Z"
      },
      {
        "duration": 6,
        "start_time": "2023-05-18T04:35:18.594Z"
      },
      {
        "duration": 7,
        "start_time": "2023-05-18T04:35:18.601Z"
      },
      {
        "duration": 6,
        "start_time": "2023-05-18T04:35:18.609Z"
      },
      {
        "duration": 134,
        "start_time": "2023-05-18T04:35:18.617Z"
      },
      {
        "duration": 224,
        "start_time": "2023-05-18T04:35:18.753Z"
      },
      {
        "duration": 16,
        "start_time": "2023-05-18T04:35:18.978Z"
      },
      {
        "duration": 5,
        "start_time": "2023-05-18T04:35:18.995Z"
      },
      {
        "duration": 14,
        "start_time": "2023-05-18T04:35:19.001Z"
      },
      {
        "duration": 294,
        "start_time": "2023-05-18T04:35:19.017Z"
      },
      {
        "duration": 349,
        "start_time": "2023-05-18T04:35:19.312Z"
      },
      {
        "duration": 123,
        "start_time": "2023-05-18T04:35:19.662Z"
      },
      {
        "duration": 17,
        "start_time": "2023-05-18T04:35:19.787Z"
      },
      {
        "duration": 214,
        "start_time": "2023-05-18T04:35:19.805Z"
      },
      {
        "duration": 5,
        "start_time": "2023-05-18T04:35:20.021Z"
      },
      {
        "duration": 11,
        "start_time": "2023-05-18T04:35:20.028Z"
      },
      {
        "duration": 11,
        "start_time": "2023-05-18T04:35:20.041Z"
      },
      {
        "duration": 24,
        "start_time": "2023-05-18T04:35:20.053Z"
      },
      {
        "duration": 2,
        "start_time": "2023-05-18T04:35:20.078Z"
      },
      {
        "duration": 8,
        "start_time": "2023-05-18T04:35:20.082Z"
      },
      {
        "duration": 8,
        "start_time": "2023-05-18T04:35:20.091Z"
      },
      {
        "duration": 20,
        "start_time": "2023-05-18T04:35:20.101Z"
      },
      {
        "duration": 14,
        "start_time": "2023-05-18T04:35:20.123Z"
      },
      {
        "duration": 269678,
        "start_time": "2023-05-18T04:35:20.139Z"
      },
      {
        "duration": 4,
        "start_time": "2023-05-18T04:39:49.818Z"
      },
      {
        "duration": 6,
        "start_time": "2023-05-18T04:39:49.823Z"
      },
      {
        "duration": 9664475,
        "start_time": "2023-05-18T04:39:49.830Z"
      },
      {
        "duration": 0,
        "start_time": "2023-05-18T07:20:54.307Z"
      },
      {
        "duration": 0,
        "start_time": "2023-05-18T07:20:54.308Z"
      },
      {
        "duration": 0,
        "start_time": "2023-05-18T07:20:54.309Z"
      },
      {
        "duration": 0,
        "start_time": "2023-05-18T07:20:54.311Z"
      },
      {
        "duration": 0,
        "start_time": "2023-05-18T07:20:54.312Z"
      },
      {
        "duration": 0,
        "start_time": "2023-05-18T07:20:54.313Z"
      },
      {
        "duration": 22641,
        "start_time": "2023-05-18T07:21:46.364Z"
      },
      {
        "duration": 4,
        "start_time": "2023-05-18T07:22:28.164Z"
      },
      {
        "duration": 3,
        "start_time": "2023-05-18T07:22:29.184Z"
      },
      {
        "duration": 64598,
        "start_time": "2023-05-18T07:22:42.015Z"
      },
      {
        "duration": 5,
        "start_time": "2023-05-18T07:23:46.616Z"
      },
      {
        "duration": 18,
        "start_time": "2023-05-18T07:23:46.623Z"
      },
      {
        "duration": 883669,
        "start_time": "2023-05-18T07:45:07.518Z"
      },
      {
        "duration": 8,
        "start_time": "2023-05-18T07:59:51.188Z"
      },
      {
        "duration": 3,
        "start_time": "2023-05-18T07:59:51.197Z"
      },
      {
        "duration": 1383,
        "start_time": "2023-05-18T08:03:57.713Z"
      },
      {
        "duration": 95,
        "start_time": "2023-05-18T08:03:59.102Z"
      },
      {
        "duration": 7434,
        "start_time": "2023-05-18T08:09:39.684Z"
      },
      {
        "duration": 6726,
        "start_time": "2023-05-18T08:13:29.986Z"
      },
      {
        "duration": 6,
        "start_time": "2023-05-18T08:14:21.810Z"
      },
      {
        "duration": 4,
        "start_time": "2023-05-18T08:14:22.833Z"
      },
      {
        "duration": 20,
        "start_time": "2023-05-18T08:14:23.613Z"
      },
      {
        "duration": 4,
        "start_time": "2023-05-18T08:15:47.680Z"
      },
      {
        "duration": 4,
        "start_time": "2023-05-18T08:15:48.465Z"
      },
      {
        "duration": 13,
        "start_time": "2023-05-18T08:15:50.023Z"
      },
      {
        "duration": 1223,
        "start_time": "2023-05-18T08:16:42.793Z"
      },
      {
        "duration": 3,
        "start_time": "2023-05-18T08:17:31.878Z"
      },
      {
        "duration": 3,
        "start_time": "2023-05-18T08:17:46.864Z"
      },
      {
        "duration": 12,
        "start_time": "2023-05-18T08:17:47.772Z"
      },
      {
        "duration": 4,
        "start_time": "2023-05-18T08:17:48.964Z"
      },
      {
        "duration": 3,
        "start_time": "2023-05-18T08:19:25.269Z"
      },
      {
        "duration": 4,
        "start_time": "2023-05-18T08:20:39.861Z"
      },
      {
        "duration": 10,
        "start_time": "2023-05-18T08:20:43.867Z"
      },
      {
        "duration": 4,
        "start_time": "2023-05-18T08:20:58.412Z"
      },
      {
        "duration": 12,
        "start_time": "2023-05-18T08:22:34.078Z"
      },
      {
        "duration": 4,
        "start_time": "2023-05-18T08:22:35.309Z"
      },
      {
        "duration": 224,
        "start_time": "2023-05-18T08:29:25.510Z"
      },
      {
        "duration": 4,
        "start_time": "2023-05-18T08:29:44.666Z"
      },
      {
        "duration": 4,
        "start_time": "2023-05-18T08:29:53.634Z"
      },
      {
        "duration": 9,
        "start_time": "2023-05-18T08:32:37.681Z"
      },
      {
        "duration": 9,
        "start_time": "2023-05-18T08:33:57.153Z"
      },
      {
        "duration": 1382,
        "start_time": "2023-05-18T08:36:06.116Z"
      },
      {
        "duration": 738,
        "start_time": "2023-05-18T08:36:07.500Z"
      },
      {
        "duration": 18,
        "start_time": "2023-05-18T08:36:08.239Z"
      },
      {
        "duration": 239,
        "start_time": "2023-05-18T08:36:08.259Z"
      },
      {
        "duration": 7,
        "start_time": "2023-05-18T08:36:08.500Z"
      },
      {
        "duration": 18,
        "start_time": "2023-05-18T08:36:08.509Z"
      },
      {
        "duration": 13,
        "start_time": "2023-05-18T08:36:08.528Z"
      },
      {
        "duration": 6,
        "start_time": "2023-05-18T08:36:08.543Z"
      },
      {
        "duration": 49,
        "start_time": "2023-05-18T08:36:08.550Z"
      },
      {
        "duration": 237,
        "start_time": "2023-05-18T08:36:08.601Z"
      },
      {
        "duration": 15,
        "start_time": "2023-05-18T08:36:08.840Z"
      },
      {
        "duration": 3,
        "start_time": "2023-05-18T08:36:08.857Z"
      },
      {
        "duration": 47,
        "start_time": "2023-05-18T08:36:08.861Z"
      },
      {
        "duration": 22,
        "start_time": "2023-05-18T08:36:08.910Z"
      },
      {
        "duration": 30,
        "start_time": "2023-05-18T08:36:08.934Z"
      },
      {
        "duration": 4,
        "start_time": "2023-05-18T08:36:08.966Z"
      },
      {
        "duration": 29,
        "start_time": "2023-05-18T08:36:08.971Z"
      },
      {
        "duration": 37,
        "start_time": "2023-05-18T08:36:09.002Z"
      },
      {
        "duration": 17,
        "start_time": "2023-05-18T08:36:09.041Z"
      },
      {
        "duration": 17,
        "start_time": "2023-05-18T08:36:09.060Z"
      },
      {
        "duration": 26,
        "start_time": "2023-05-18T08:36:09.078Z"
      },
      {
        "duration": 22,
        "start_time": "2023-05-18T08:36:09.106Z"
      },
      {
        "duration": 25,
        "start_time": "2023-05-18T08:36:09.130Z"
      },
      {
        "duration": 20,
        "start_time": "2023-05-18T08:36:09.156Z"
      },
      {
        "duration": 9,
        "start_time": "2023-05-18T08:36:09.178Z"
      },
      {
        "duration": 18,
        "start_time": "2023-05-18T08:36:09.188Z"
      },
      {
        "duration": 254,
        "start_time": "2023-05-18T08:36:09.207Z"
      },
      {
        "duration": 5,
        "start_time": "2023-05-18T08:36:09.463Z"
      },
      {
        "duration": 10,
        "start_time": "2023-05-18T08:36:09.469Z"
      },
      {
        "duration": 19,
        "start_time": "2023-05-18T08:36:09.480Z"
      },
      {
        "duration": 18,
        "start_time": "2023-05-18T08:36:09.501Z"
      },
      {
        "duration": 9,
        "start_time": "2023-05-18T08:36:09.520Z"
      },
      {
        "duration": 12,
        "start_time": "2023-05-18T08:36:09.530Z"
      },
      {
        "duration": 124,
        "start_time": "2023-05-18T08:36:09.543Z"
      },
      {
        "duration": 259,
        "start_time": "2023-05-18T08:36:09.670Z"
      },
      {
        "duration": 6,
        "start_time": "2023-05-18T08:36:09.931Z"
      },
      {
        "duration": 9,
        "start_time": "2023-05-18T08:36:09.938Z"
      },
      {
        "duration": 36,
        "start_time": "2023-05-18T08:36:09.948Z"
      },
      {
        "duration": 360,
        "start_time": "2023-05-18T08:36:09.985Z"
      },
      {
        "duration": 422,
        "start_time": "2023-05-18T08:36:10.347Z"
      },
      {
        "duration": 126,
        "start_time": "2023-05-18T08:36:10.772Z"
      },
      {
        "duration": 14,
        "start_time": "2023-05-18T08:36:10.900Z"
      },
      {
        "duration": 244,
        "start_time": "2023-05-18T08:36:10.916Z"
      },
      {
        "duration": 5,
        "start_time": "2023-05-18T08:36:11.162Z"
      },
      {
        "duration": 18,
        "start_time": "2023-05-18T08:36:11.168Z"
      },
      {
        "duration": 18,
        "start_time": "2023-05-18T08:36:11.187Z"
      },
      {
        "duration": 12,
        "start_time": "2023-05-18T08:36:11.206Z"
      },
      {
        "duration": 4,
        "start_time": "2023-05-18T08:36:11.219Z"
      },
      {
        "duration": 10,
        "start_time": "2023-05-18T08:36:11.225Z"
      },
      {
        "duration": 8,
        "start_time": "2023-05-18T08:36:11.236Z"
      },
      {
        "duration": 7,
        "start_time": "2023-05-18T08:36:11.245Z"
      },
      {
        "duration": 265243,
        "start_time": "2023-05-18T08:36:11.253Z"
      },
      {
        "duration": 4,
        "start_time": "2023-05-18T08:40:36.498Z"
      },
      {
        "duration": 15,
        "start_time": "2023-05-18T08:40:36.503Z"
      },
      {
        "duration": 885225,
        "start_time": "2023-05-18T08:40:36.520Z"
      },
      {
        "duration": 3,
        "start_time": "2023-05-18T08:55:21.747Z"
      },
      {
        "duration": 10,
        "start_time": "2023-05-18T08:55:21.752Z"
      },
      {
        "duration": 1533,
        "start_time": "2023-05-18T08:55:21.763Z"
      },
      {
        "duration": 4,
        "start_time": "2023-05-18T08:55:23.298Z"
      },
      {
        "duration": 94,
        "start_time": "2023-05-18T08:55:23.304Z"
      },
      {
        "duration": 4,
        "start_time": "2023-05-18T08:55:23.399Z"
      },
      {
        "duration": 24,
        "start_time": "2023-05-18T08:55:23.405Z"
      },
      {
        "duration": 6734,
        "start_time": "2023-05-18T08:55:23.430Z"
      },
      {
        "duration": 12,
        "start_time": "2023-05-18T08:55:30.165Z"
      },
      {
        "duration": 29,
        "start_time": "2023-05-18T08:55:30.178Z"
      },
      {
        "duration": 50,
        "start_time": "2023-05-18T19:26:31.472Z"
      },
      {
        "duration": 1639,
        "start_time": "2023-05-18T19:27:14.284Z"
      },
      {
        "duration": 2145,
        "start_time": "2023-05-18T19:27:15.925Z"
      },
      {
        "duration": 25,
        "start_time": "2023-05-18T19:27:18.072Z"
      },
      {
        "duration": 215,
        "start_time": "2023-05-18T19:27:18.098Z"
      },
      {
        "duration": 8,
        "start_time": "2023-05-18T19:27:18.315Z"
      },
      {
        "duration": 16,
        "start_time": "2023-05-18T19:27:18.325Z"
      },
      {
        "duration": 18,
        "start_time": "2023-05-18T19:27:18.343Z"
      },
      {
        "duration": 6,
        "start_time": "2023-05-18T19:27:18.362Z"
      },
      {
        "duration": 52,
        "start_time": "2023-05-18T19:27:18.369Z"
      },
      {
        "duration": 233,
        "start_time": "2023-05-18T19:27:18.422Z"
      },
      {
        "duration": 16,
        "start_time": "2023-05-18T19:27:18.656Z"
      },
      {
        "duration": 3,
        "start_time": "2023-05-18T19:27:18.674Z"
      },
      {
        "duration": 51,
        "start_time": "2023-05-18T19:27:18.679Z"
      },
      {
        "duration": 21,
        "start_time": "2023-05-18T19:27:18.732Z"
      },
      {
        "duration": 27,
        "start_time": "2023-05-18T19:27:18.755Z"
      },
      {
        "duration": 5,
        "start_time": "2023-05-18T19:27:18.784Z"
      },
      {
        "duration": 7,
        "start_time": "2023-05-18T19:27:18.818Z"
      },
      {
        "duration": 20,
        "start_time": "2023-05-18T19:27:18.826Z"
      },
      {
        "duration": 3,
        "start_time": "2023-05-18T19:27:18.848Z"
      },
      {
        "duration": 7,
        "start_time": "2023-05-18T19:27:18.853Z"
      },
      {
        "duration": 21,
        "start_time": "2023-05-18T19:27:18.862Z"
      },
      {
        "duration": 4,
        "start_time": "2023-05-18T19:27:18.884Z"
      },
      {
        "duration": 28,
        "start_time": "2023-05-18T19:27:18.889Z"
      },
      {
        "duration": 12,
        "start_time": "2023-05-18T19:27:18.919Z"
      },
      {
        "duration": 7,
        "start_time": "2023-05-18T19:27:18.932Z"
      },
      {
        "duration": 6,
        "start_time": "2023-05-18T19:27:18.940Z"
      },
      {
        "duration": 266,
        "start_time": "2023-05-18T19:27:18.947Z"
      },
      {
        "duration": 8,
        "start_time": "2023-05-18T19:27:19.214Z"
      },
      {
        "duration": 15,
        "start_time": "2023-05-18T19:27:19.223Z"
      },
      {
        "duration": 6,
        "start_time": "2023-05-18T19:27:19.240Z"
      },
      {
        "duration": 8,
        "start_time": "2023-05-18T19:27:19.248Z"
      },
      {
        "duration": 12,
        "start_time": "2023-05-18T19:27:19.257Z"
      },
      {
        "duration": 13,
        "start_time": "2023-05-18T19:27:19.271Z"
      },
      {
        "duration": 135,
        "start_time": "2023-05-18T19:27:19.286Z"
      },
      {
        "duration": 242,
        "start_time": "2023-05-18T19:27:19.422Z"
      },
      {
        "duration": 6,
        "start_time": "2023-05-18T19:27:19.665Z"
      },
      {
        "duration": 6,
        "start_time": "2023-05-18T19:27:19.673Z"
      },
      {
        "duration": 17,
        "start_time": "2023-05-18T19:27:19.680Z"
      },
      {
        "duration": 317,
        "start_time": "2023-05-18T19:27:19.698Z"
      },
      {
        "duration": 491,
        "start_time": "2023-05-18T19:27:20.017Z"
      },
      {
        "duration": 138,
        "start_time": "2023-05-18T19:27:20.517Z"
      },
      {
        "duration": 15,
        "start_time": "2023-05-18T19:27:20.657Z"
      },
      {
        "duration": 270,
        "start_time": "2023-05-18T19:27:20.674Z"
      },
      {
        "duration": 6,
        "start_time": "2023-05-18T19:27:40.895Z"
      },
      {
        "duration": 6,
        "start_time": "2023-05-18T19:34:32.715Z"
      },
      {
        "duration": 5,
        "start_time": "2023-05-18T19:42:04.957Z"
      },
      {
        "duration": 740,
        "start_time": "2023-05-18T19:42:04.964Z"
      },
      {
        "duration": 21,
        "start_time": "2023-05-18T19:42:05.706Z"
      },
      {
        "duration": 233,
        "start_time": "2023-05-18T19:42:05.730Z"
      },
      {
        "duration": 8,
        "start_time": "2023-05-18T19:42:05.965Z"
      },
      {
        "duration": 49,
        "start_time": "2023-05-18T19:42:05.974Z"
      },
      {
        "duration": 54,
        "start_time": "2023-05-18T19:42:06.025Z"
      },
      {
        "duration": 38,
        "start_time": "2023-05-18T19:42:06.080Z"
      },
      {
        "duration": 64,
        "start_time": "2023-05-18T19:42:06.120Z"
      },
      {
        "duration": 248,
        "start_time": "2023-05-18T19:42:06.185Z"
      },
      {
        "duration": 17,
        "start_time": "2023-05-18T19:42:06.435Z"
      },
      {
        "duration": 6,
        "start_time": "2023-05-18T19:42:06.453Z"
      },
      {
        "duration": 48,
        "start_time": "2023-05-18T19:42:06.460Z"
      },
      {
        "duration": 40,
        "start_time": "2023-05-18T19:42:06.511Z"
      },
      {
        "duration": 26,
        "start_time": "2023-05-18T19:42:06.552Z"
      },
      {
        "duration": 26,
        "start_time": "2023-05-18T19:42:06.580Z"
      },
      {
        "duration": 14,
        "start_time": "2023-05-18T19:42:06.608Z"
      },
      {
        "duration": 38,
        "start_time": "2023-05-18T19:42:06.624Z"
      },
      {
        "duration": 10,
        "start_time": "2023-05-18T19:42:06.664Z"
      },
      {
        "duration": 11,
        "start_time": "2023-05-18T19:42:06.676Z"
      },
      {
        "duration": 22,
        "start_time": "2023-05-18T19:42:06.689Z"
      },
      {
        "duration": 19,
        "start_time": "2023-05-18T19:42:06.713Z"
      },
      {
        "duration": 23,
        "start_time": "2023-05-18T19:42:06.734Z"
      },
      {
        "duration": 23,
        "start_time": "2023-05-18T19:42:06.758Z"
      },
      {
        "duration": 27,
        "start_time": "2023-05-18T19:42:06.782Z"
      },
      {
        "duration": 12,
        "start_time": "2023-05-18T19:42:06.811Z"
      },
      {
        "duration": 240,
        "start_time": "2023-05-18T19:42:06.824Z"
      },
      {
        "duration": 5,
        "start_time": "2023-05-18T19:42:07.067Z"
      },
      {
        "duration": 16,
        "start_time": "2023-05-18T19:42:07.074Z"
      },
      {
        "duration": 8,
        "start_time": "2023-05-18T19:42:07.092Z"
      },
      {
        "duration": 6,
        "start_time": "2023-05-18T19:42:07.118Z"
      },
      {
        "duration": 11,
        "start_time": "2023-05-18T19:42:07.126Z"
      },
      {
        "duration": 9,
        "start_time": "2023-05-18T19:42:07.139Z"
      },
      {
        "duration": 143,
        "start_time": "2023-05-18T19:42:07.150Z"
      },
      {
        "duration": 248,
        "start_time": "2023-05-18T19:42:07.294Z"
      },
      {
        "duration": 7,
        "start_time": "2023-05-18T19:42:07.544Z"
      },
      {
        "duration": 17,
        "start_time": "2023-05-18T19:42:07.553Z"
      },
      {
        "duration": 17,
        "start_time": "2023-05-18T19:42:07.572Z"
      },
      {
        "duration": 327,
        "start_time": "2023-05-18T19:42:07.591Z"
      },
      {
        "duration": 482,
        "start_time": "2023-05-18T19:42:07.920Z"
      },
      {
        "duration": 215,
        "start_time": "2023-05-18T19:42:08.407Z"
      },
      {
        "duration": 16,
        "start_time": "2023-05-18T19:42:08.624Z"
      },
      {
        "duration": 255,
        "start_time": "2023-05-18T19:42:08.642Z"
      },
      {
        "duration": 19,
        "start_time": "2023-05-18T19:42:08.899Z"
      },
      {
        "duration": 6,
        "start_time": "2023-05-18T19:42:08.920Z"
      },
      {
        "duration": 45,
        "start_time": "2023-05-18T19:42:08.927Z"
      },
      {
        "duration": 22,
        "start_time": "2023-05-18T19:42:08.973Z"
      },
      {
        "duration": 26,
        "start_time": "2023-05-18T19:42:08.997Z"
      },
      {
        "duration": 21,
        "start_time": "2023-05-18T19:42:09.025Z"
      },
      {
        "duration": 19,
        "start_time": "2023-05-18T19:42:09.048Z"
      },
      {
        "duration": 29,
        "start_time": "2023-05-18T19:42:09.069Z"
      },
      {
        "duration": 16,
        "start_time": "2023-05-18T19:42:09.099Z"
      },
      {
        "duration": 1496,
        "start_time": "2023-05-18T19:42:18.023Z"
      },
      {
        "duration": 3,
        "start_time": "2023-05-18T19:42:20.676Z"
      },
      {
        "duration": 7,
        "start_time": "2023-05-18T19:42:34.858Z"
      },
      {
        "duration": 4,
        "start_time": "2023-05-18T19:42:35.948Z"
      },
      {
        "duration": 3,
        "start_time": "2023-05-18T19:42:37.045Z"
      },
      {
        "duration": 8077,
        "start_time": "2023-05-18T19:42:41.047Z"
      },
      {
        "duration": 12,
        "start_time": "2023-05-18T19:42:49.127Z"
      },
      {
        "duration": 5,
        "start_time": "2023-05-18T19:42:51.580Z"
      },
      {
        "duration": 4,
        "start_time": "2023-05-18T19:42:57.468Z"
      },
      {
        "duration": 5,
        "start_time": "2023-05-18T19:42:59.177Z"
      },
      {
        "duration": 6,
        "start_time": "2023-05-18T19:43:18.352Z"
      },
      {
        "duration": 5,
        "start_time": "2023-05-18T19:43:19.460Z"
      },
      {
        "duration": 4,
        "start_time": "2023-05-18T19:43:55.905Z"
      },
      {
        "duration": 4,
        "start_time": "2023-05-18T19:43:57.017Z"
      },
      {
        "duration": 144,
        "start_time": "2023-05-18T19:54:01.882Z"
      },
      {
        "duration": 3,
        "start_time": "2023-05-18T19:54:05.885Z"
      },
      {
        "duration": 9,
        "start_time": "2023-05-18T19:54:06.584Z"
      },
      {
        "duration": 26,
        "start_time": "2023-05-18T20:01:44.783Z"
      },
      {
        "duration": 14,
        "start_time": "2023-05-18T20:03:09.990Z"
      },
      {
        "duration": 3,
        "start_time": "2023-05-18T20:06:15.094Z"
      },
      {
        "duration": 14,
        "start_time": "2023-05-18T20:06:22.351Z"
      },
      {
        "duration": 13,
        "start_time": "2023-05-18T20:06:32.869Z"
      },
      {
        "duration": 18,
        "start_time": "2023-05-18T20:07:18.555Z"
      },
      {
        "duration": 12,
        "start_time": "2023-05-18T20:12:11.540Z"
      },
      {
        "duration": 9,
        "start_time": "2023-05-18T20:12:23.520Z"
      },
      {
        "duration": 127,
        "start_time": "2023-05-18T20:12:50.252Z"
      },
      {
        "duration": 13,
        "start_time": "2023-05-18T20:13:02.458Z"
      },
      {
        "duration": 74,
        "start_time": "2023-05-18T20:13:21.347Z"
      },
      {
        "duration": 99,
        "start_time": "2023-05-18T20:13:34.543Z"
      },
      {
        "duration": 18,
        "start_time": "2023-05-18T20:14:27.575Z"
      },
      {
        "duration": 6,
        "start_time": "2023-05-18T20:14:56.439Z"
      },
      {
        "duration": 32,
        "start_time": "2023-05-18T20:15:03.012Z"
      },
      {
        "duration": 8,
        "start_time": "2023-05-18T20:15:57.185Z"
      },
      {
        "duration": 3,
        "start_time": "2023-05-18T20:16:00.350Z"
      },
      {
        "duration": 5,
        "start_time": "2023-05-18T20:16:04.952Z"
      },
      {
        "duration": 10,
        "start_time": "2023-05-18T20:17:26.912Z"
      },
      {
        "duration": 8,
        "start_time": "2023-05-18T20:24:04.141Z"
      },
      {
        "duration": 18,
        "start_time": "2023-05-18T20:24:12.238Z"
      },
      {
        "duration": 8,
        "start_time": "2023-05-18T20:24:55.625Z"
      },
      {
        "duration": 5,
        "start_time": "2023-05-18T20:25:40.478Z"
      },
      {
        "duration": 18,
        "start_time": "2023-05-18T20:26:01.998Z"
      },
      {
        "duration": 1335,
        "start_time": "2023-05-18T20:26:21.379Z"
      },
      {
        "duration": 749,
        "start_time": "2023-05-18T20:26:22.716Z"
      },
      {
        "duration": 18,
        "start_time": "2023-05-18T20:26:23.467Z"
      },
      {
        "duration": 254,
        "start_time": "2023-05-18T20:26:23.487Z"
      },
      {
        "duration": 9,
        "start_time": "2023-05-18T20:26:23.742Z"
      },
      {
        "duration": 17,
        "start_time": "2023-05-18T20:26:23.752Z"
      },
      {
        "duration": 12,
        "start_time": "2023-05-18T20:26:23.771Z"
      },
      {
        "duration": 6,
        "start_time": "2023-05-18T20:26:23.784Z"
      },
      {
        "duration": 18,
        "start_time": "2023-05-18T20:26:23.817Z"
      },
      {
        "duration": 235,
        "start_time": "2023-05-18T20:26:23.837Z"
      },
      {
        "duration": 16,
        "start_time": "2023-05-18T20:26:24.073Z"
      },
      {
        "duration": 8,
        "start_time": "2023-05-18T20:26:24.091Z"
      },
      {
        "duration": 43,
        "start_time": "2023-05-18T20:26:24.101Z"
      },
      {
        "duration": 21,
        "start_time": "2023-05-18T20:26:24.146Z"
      },
      {
        "duration": 50,
        "start_time": "2023-05-18T20:26:24.169Z"
      },
      {
        "duration": 5,
        "start_time": "2023-05-18T20:26:24.221Z"
      },
      {
        "duration": 12,
        "start_time": "2023-05-18T20:26:24.228Z"
      },
      {
        "duration": 26,
        "start_time": "2023-05-18T20:26:24.241Z"
      },
      {
        "duration": 4,
        "start_time": "2023-05-18T20:26:24.269Z"
      },
      {
        "duration": 4,
        "start_time": "2023-05-18T20:26:24.275Z"
      },
      {
        "duration": 11,
        "start_time": "2023-05-18T20:26:24.281Z"
      },
      {
        "duration": 5,
        "start_time": "2023-05-18T20:26:24.318Z"
      },
      {
        "duration": 6,
        "start_time": "2023-05-18T20:26:24.324Z"
      },
      {
        "duration": 13,
        "start_time": "2023-05-18T20:26:24.332Z"
      },
      {
        "duration": 7,
        "start_time": "2023-05-18T20:26:24.347Z"
      },
      {
        "duration": 4,
        "start_time": "2023-05-18T20:26:24.356Z"
      },
      {
        "duration": 296,
        "start_time": "2023-05-18T20:26:24.361Z"
      },
      {
        "duration": 6,
        "start_time": "2023-05-18T20:26:24.661Z"
      },
      {
        "duration": 19,
        "start_time": "2023-05-18T20:26:24.669Z"
      },
      {
        "duration": 9,
        "start_time": "2023-05-18T20:26:24.690Z"
      },
      {
        "duration": 19,
        "start_time": "2023-05-18T20:26:24.701Z"
      },
      {
        "duration": 6,
        "start_time": "2023-05-18T20:26:24.721Z"
      },
      {
        "duration": 5,
        "start_time": "2023-05-18T20:26:24.728Z"
      },
      {
        "duration": 138,
        "start_time": "2023-05-18T20:26:24.735Z"
      },
      {
        "duration": 236,
        "start_time": "2023-05-18T20:26:24.874Z"
      },
      {
        "duration": 6,
        "start_time": "2023-05-18T20:26:25.116Z"
      },
      {
        "duration": 7,
        "start_time": "2023-05-18T20:26:25.123Z"
      },
      {
        "duration": 6,
        "start_time": "2023-05-18T20:26:25.132Z"
      },
      {
        "duration": 307,
        "start_time": "2023-05-18T20:26:25.140Z"
      },
      {
        "duration": 362,
        "start_time": "2023-05-18T20:26:25.448Z"
      },
      {
        "duration": 130,
        "start_time": "2023-05-18T20:26:25.817Z"
      },
      {
        "duration": 15,
        "start_time": "2023-05-18T20:26:25.948Z"
      },
      {
        "duration": 242,
        "start_time": "2023-05-18T20:26:25.965Z"
      },
      {
        "duration": 3,
        "start_time": "2023-05-18T20:26:26.208Z"
      },
      {
        "duration": 4,
        "start_time": "2023-05-18T20:26:26.218Z"
      },
      {
        "duration": 13,
        "start_time": "2023-05-18T20:26:26.223Z"
      },
      {
        "duration": 15,
        "start_time": "2023-05-18T20:26:29.189Z"
      },
      {
        "duration": 18,
        "start_time": "2023-05-18T20:26:54.183Z"
      },
      {
        "duration": 5,
        "start_time": "2023-05-18T20:27:08.282Z"
      },
      {
        "duration": 11,
        "start_time": "2023-05-18T20:27:20.593Z"
      },
      {
        "duration": 15,
        "start_time": "2023-05-18T20:27:22.153Z"
      },
      {
        "duration": 8,
        "start_time": "2023-05-18T20:27:35.583Z"
      },
      {
        "duration": 16,
        "start_time": "2023-05-18T20:27:40.673Z"
      },
      {
        "duration": 23,
        "start_time": "2023-05-18T20:28:01.242Z"
      },
      {
        "duration": 6,
        "start_time": "2023-05-18T20:28:10.721Z"
      },
      {
        "duration": 23,
        "start_time": "2023-05-18T20:28:23.348Z"
      },
      {
        "duration": 4,
        "start_time": "2023-05-18T20:33:43.252Z"
      },
      {
        "duration": 6,
        "start_time": "2023-05-18T20:34:04.749Z"
      },
      {
        "duration": 99,
        "start_time": "2023-05-18T20:35:42.991Z"
      },
      {
        "duration": 6,
        "start_time": "2023-05-18T20:48:26.746Z"
      },
      {
        "duration": 4,
        "start_time": "2023-05-18T20:48:28.132Z"
      },
      {
        "duration": 1554,
        "start_time": "2023-05-18T20:48:29.514Z"
      },
      {
        "duration": 1286,
        "start_time": "2023-05-18T20:50:12.157Z"
      },
      {
        "duration": 24,
        "start_time": "2023-05-18T20:50:37.782Z"
      },
      {
        "duration": 6,
        "start_time": "2023-05-18T20:51:15.134Z"
      },
      {
        "duration": 21,
        "start_time": "2023-05-18T20:51:50.416Z"
      },
      {
        "duration": 5,
        "start_time": "2023-05-18T20:52:25.131Z"
      },
      {
        "duration": 5,
        "start_time": "2023-05-18T20:52:46.487Z"
      },
      {
        "duration": 5,
        "start_time": "2023-05-18T20:52:58.339Z"
      },
      {
        "duration": 3,
        "start_time": "2023-05-18T20:52:59.911Z"
      },
      {
        "duration": 1455,
        "start_time": "2023-05-18T20:58:56.916Z"
      },
      {
        "duration": 824,
        "start_time": "2023-05-18T20:58:58.374Z"
      },
      {
        "duration": 38,
        "start_time": "2023-05-18T20:58:59.199Z"
      },
      {
        "duration": 233,
        "start_time": "2023-05-18T20:58:59.239Z"
      },
      {
        "duration": 11,
        "start_time": "2023-05-18T20:58:59.475Z"
      },
      {
        "duration": 43,
        "start_time": "2023-05-18T20:58:59.488Z"
      },
      {
        "duration": 16,
        "start_time": "2023-05-18T20:58:59.534Z"
      },
      {
        "duration": 7,
        "start_time": "2023-05-18T20:58:59.551Z"
      },
      {
        "duration": 17,
        "start_time": "2023-05-18T20:58:59.559Z"
      },
      {
        "duration": 259,
        "start_time": "2023-05-18T20:58:59.578Z"
      },
      {
        "duration": 22,
        "start_time": "2023-05-18T20:58:59.839Z"
      },
      {
        "duration": 6,
        "start_time": "2023-05-18T20:58:59.863Z"
      },
      {
        "duration": 67,
        "start_time": "2023-05-18T20:58:59.871Z"
      },
      {
        "duration": 22,
        "start_time": "2023-05-18T20:58:59.941Z"
      },
      {
        "duration": 29,
        "start_time": "2023-05-18T20:58:59.965Z"
      },
      {
        "duration": 31,
        "start_time": "2023-05-18T20:58:59.996Z"
      },
      {
        "duration": 42,
        "start_time": "2023-05-18T20:59:00.029Z"
      },
      {
        "duration": 67,
        "start_time": "2023-05-18T20:59:00.072Z"
      },
      {
        "duration": 31,
        "start_time": "2023-05-18T20:59:00.141Z"
      },
      {
        "duration": 28,
        "start_time": "2023-05-18T20:59:00.175Z"
      },
      {
        "duration": 61,
        "start_time": "2023-05-18T20:59:00.205Z"
      },
      {
        "duration": 60,
        "start_time": "2023-05-18T20:59:00.268Z"
      },
      {
        "duration": 24,
        "start_time": "2023-05-18T20:59:00.330Z"
      },
      {
        "duration": 47,
        "start_time": "2023-05-18T20:59:00.355Z"
      },
      {
        "duration": 36,
        "start_time": "2023-05-18T20:59:00.404Z"
      },
      {
        "duration": 34,
        "start_time": "2023-05-18T20:59:00.442Z"
      },
      {
        "duration": 292,
        "start_time": "2023-05-18T20:59:00.478Z"
      },
      {
        "duration": 5,
        "start_time": "2023-05-18T20:59:00.772Z"
      },
      {
        "duration": 71,
        "start_time": "2023-05-18T20:59:00.779Z"
      },
      {
        "duration": 50,
        "start_time": "2023-05-18T20:59:00.852Z"
      },
      {
        "duration": 48,
        "start_time": "2023-05-18T20:59:00.904Z"
      },
      {
        "duration": 28,
        "start_time": "2023-05-18T20:59:00.954Z"
      },
      {
        "duration": 21,
        "start_time": "2023-05-18T20:59:00.984Z"
      },
      {
        "duration": 170,
        "start_time": "2023-05-18T20:59:01.007Z"
      },
      {
        "duration": 268,
        "start_time": "2023-05-18T20:59:01.179Z"
      },
      {
        "duration": 6,
        "start_time": "2023-05-18T20:59:01.448Z"
      },
      {
        "duration": 35,
        "start_time": "2023-05-18T20:59:01.455Z"
      },
      {
        "duration": 51,
        "start_time": "2023-05-18T20:59:01.491Z"
      },
      {
        "duration": 371,
        "start_time": "2023-05-18T20:59:01.544Z"
      },
      {
        "duration": 492,
        "start_time": "2023-05-18T20:59:01.917Z"
      },
      {
        "duration": 174,
        "start_time": "2023-05-18T20:59:02.414Z"
      },
      {
        "duration": 33,
        "start_time": "2023-05-18T20:59:02.590Z"
      },
      {
        "duration": 239,
        "start_time": "2023-05-18T20:59:02.625Z"
      },
      {
        "duration": 6,
        "start_time": "2023-05-18T20:59:02.865Z"
      },
      {
        "duration": 15,
        "start_time": "2023-05-18T20:59:02.873Z"
      },
      {
        "duration": 8,
        "start_time": "2023-05-18T20:59:02.890Z"
      },
      {
        "duration": 11,
        "start_time": "2023-05-18T20:59:02.899Z"
      },
      {
        "duration": 24,
        "start_time": "2023-05-18T20:59:02.927Z"
      },
      {
        "duration": 4,
        "start_time": "2023-05-18T20:59:02.953Z"
      },
      {
        "duration": 8,
        "start_time": "2023-05-18T20:59:02.958Z"
      },
      {
        "duration": 7,
        "start_time": "2023-05-18T20:59:02.968Z"
      },
      {
        "duration": 9,
        "start_time": "2023-05-18T20:59:02.976Z"
      },
      {
        "duration": 335927,
        "start_time": "2023-05-18T20:59:02.986Z"
      },
      {
        "duration": 16,
        "start_time": "2023-05-18T21:04:38.915Z"
      },
      {
        "duration": 4,
        "start_time": "2023-05-18T21:04:38.937Z"
      },
      {
        "duration": 10,
        "start_time": "2023-05-18T21:22:50.221Z"
      },
      {
        "duration": 94,
        "start_time": "2023-05-18T21:22:50.233Z"
      },
      {
        "duration": 9,
        "start_time": "2023-05-18T21:22:50.329Z"
      },
      {
        "duration": 4,
        "start_time": "2023-05-18T21:22:50.340Z"
      },
      {
        "duration": 3,
        "start_time": "2023-05-18T21:22:50.346Z"
      },
      {
        "duration": 8740,
        "start_time": "2023-05-18T21:22:50.351Z"
      },
      {
        "duration": 12,
        "start_time": "2023-05-18T21:22:59.092Z"
      },
      {
        "duration": 25,
        "start_time": "2023-05-18T21:22:59.105Z"
      },
      {
        "duration": 10,
        "start_time": "2023-05-18T21:22:59.131Z"
      },
      {
        "duration": 6,
        "start_time": "2023-05-18T21:22:59.143Z"
      },
      {
        "duration": 633504,
        "start_time": "2023-05-18T21:22:59.153Z"
      },
      {
        "duration": 4,
        "start_time": "2023-05-18T21:33:32.658Z"
      },
      {
        "duration": 22,
        "start_time": "2023-05-18T21:33:32.663Z"
      },
      {
        "duration": 1345,
        "start_time": "2023-05-18T21:33:32.686Z"
      },
      {
        "duration": 8,
        "start_time": "2023-05-18T21:33:34.121Z"
      }
    ],
    "kernelspec": {
      "display_name": "Python 3 (ipykernel)",
      "language": "python",
      "name": "python3"
    },
    "language_info": {
      "codemirror_mode": {
        "name": "ipython",
        "version": 3
      },
      "file_extension": ".py",
      "mimetype": "text/x-python",
      "name": "python",
      "nbconvert_exporter": "python",
      "pygments_lexer": "ipython3",
      "version": "3.9.5"
    },
    "toc": {
      "base_numbering": 1,
      "nav_menu": {},
      "number_sections": true,
      "sideBar": true,
      "skip_h1_title": true,
      "title_cell": "Содержание",
      "title_sidebar": "Contents",
      "toc_cell": true,
      "toc_position": {
        "height": "calc(100% - 180px)",
        "left": "10px",
        "top": "150px",
        "width": "275px"
      },
      "toc_section_display": true,
      "toc_window_display": true
    },
    "colab": {
      "provenance": []
    }
  },
  "nbformat": 4,
  "nbformat_minor": 0
}